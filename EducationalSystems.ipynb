{
 "cells": [
  {
   "cell_type": "markdown",
   "id": "fa6a119a-a917-4d0b-a3de-3375a5aff130",
   "metadata": {},
   "source": [
    "<h1 style=\"color:#C4341A;\"> Chargez les données dans votre Notebook 🌟</h1>\n"
   ]
  },
  {
   "cell_type": "markdown",
   "id": "75d5595c-9fc2-4ac1-b72d-55bd2194791f",
   "metadata": {},
   "source": [
    "Dans cette exercice nous allons essayer de trouver le meilleur pays pour s'implémentater pour mettre a disposition des cour en ligne au niveau lycée et université."
   ]
  },
  {
   "cell_type": "markdown",
   "id": "7bb1c02a-e754-4a6b-95ca-4d2d49d9707a",
   "metadata": {},
   "source": [
    "<p style=\"color:#67B743; font-weight:bold;\">Importation de panda</p>"
   ]
  },
  {
   "cell_type": "code",
   "execution_count": 75,
   "id": "8588a94e-908b-4b0a-8a1a-47379a3305a1",
   "metadata": {},
   "outputs": [],
   "source": [
    "import pandas as pd \n",
    "import matplotlib.pyplot as plt\n",
    "import seaborn as sns"
   ]
  },
  {
   "cell_type": "markdown",
   "id": "edcdccce-080c-45af-8ed2-d9e4767fadc9",
   "metadata": {},
   "source": [
    "<h2 style=\"color:#C4341A;\">Importation EdStatsCountry-Series.csv </h2>"
   ]
  },
  {
   "cell_type": "code",
   "execution_count": 3,
   "id": "135ca4fa-5572-41d2-a443-1c293310c96f",
   "metadata": {},
   "outputs": [
    {
     "data": {
      "text/html": [
       "<div>\n",
       "<style scoped>\n",
       "    .dataframe tbody tr th:only-of-type {\n",
       "        vertical-align: middle;\n",
       "    }\n",
       "\n",
       "    .dataframe tbody tr th {\n",
       "        vertical-align: top;\n",
       "    }\n",
       "\n",
       "    .dataframe thead th {\n",
       "        text-align: right;\n",
       "    }\n",
       "</style>\n",
       "<table border=\"1\" class=\"dataframe\">\n",
       "  <thead>\n",
       "    <tr style=\"text-align: right;\">\n",
       "      <th></th>\n",
       "      <th>CountryCode</th>\n",
       "      <th>SeriesCode</th>\n",
       "      <th>DESCRIPTION</th>\n",
       "      <th>Unnamed: 3</th>\n",
       "    </tr>\n",
       "  </thead>\n",
       "  <tbody>\n",
       "    <tr>\n",
       "      <th>0</th>\n",
       "      <td>ABW</td>\n",
       "      <td>SP.POP.TOTL</td>\n",
       "      <td>Data sources : United Nations World Population...</td>\n",
       "      <td>NaN</td>\n",
       "    </tr>\n",
       "    <tr>\n",
       "      <th>1</th>\n",
       "      <td>ABW</td>\n",
       "      <td>SP.POP.GROW</td>\n",
       "      <td>Data sources: United Nations World Population ...</td>\n",
       "      <td>NaN</td>\n",
       "    </tr>\n",
       "    <tr>\n",
       "      <th>2</th>\n",
       "      <td>AFG</td>\n",
       "      <td>SP.POP.GROW</td>\n",
       "      <td>Data sources: United Nations World Population ...</td>\n",
       "      <td>NaN</td>\n",
       "    </tr>\n",
       "    <tr>\n",
       "      <th>3</th>\n",
       "      <td>AFG</td>\n",
       "      <td>NY.GDP.PCAP.PP.CD</td>\n",
       "      <td>Estimates are based on regression.</td>\n",
       "      <td>NaN</td>\n",
       "    </tr>\n",
       "    <tr>\n",
       "      <th>4</th>\n",
       "      <td>AFG</td>\n",
       "      <td>SP.POP.TOTL</td>\n",
       "      <td>Data sources : United Nations World Population...</td>\n",
       "      <td>NaN</td>\n",
       "    </tr>\n",
       "  </tbody>\n",
       "</table>\n",
       "</div>"
      ],
      "text/plain": [
       "  CountryCode         SeriesCode  \\\n",
       "0         ABW        SP.POP.TOTL   \n",
       "1         ABW        SP.POP.GROW   \n",
       "2         AFG        SP.POP.GROW   \n",
       "3         AFG  NY.GDP.PCAP.PP.CD   \n",
       "4         AFG        SP.POP.TOTL   \n",
       "\n",
       "                                         DESCRIPTION  Unnamed: 3  \n",
       "0  Data sources : United Nations World Population...         NaN  \n",
       "1  Data sources: United Nations World Population ...         NaN  \n",
       "2  Data sources: United Nations World Population ...         NaN  \n",
       "3                 Estimates are based on regression.         NaN  \n",
       "4  Data sources : United Nations World Population...         NaN  "
      ]
     },
     "execution_count": 3,
     "metadata": {},
     "output_type": "execute_result"
    }
   ],
   "source": [
    "data_edSCS_csv = pd.read_csv('EdStatsCountry-Series.csv')\n",
    "\n",
    "data_edSCS_csv.head() "
   ]
  },
  {
   "cell_type": "code",
   "execution_count": 4,
   "id": "b602335d-7ef1-42df-9697-27cfb73c02b0",
   "metadata": {},
   "outputs": [
    {
     "data": {
      "text/plain": [
       "(613, 4)"
      ]
     },
     "execution_count": 4,
     "metadata": {},
     "output_type": "execute_result"
    }
   ],
   "source": [
    "data_edSCS_csv.shape"
   ]
  },
  {
   "cell_type": "markdown",
   "id": "70bbae7c-0978-4a3b-9681-8ae70e67b468",
   "metadata": {},
   "source": [
    "nous avons 613 lignes de pays, avec 4 variables différentes :\n",
    "\n",
    "- CountryCode : Code ISO à trois lettres représentant un pays ou une région (par exemple, ABW pour Aruba, AFG pour l'Afghanistan).\n",
    "- SeriesCode : Code unique identifiant un indicateur spécifique.\n",
    "Exemple :\n",
    "SP.POP.TOTL : Total de la population.\n",
    "SP.POP.GROW : Taux de croissance de la population.\n",
    "NY.GDP.PCAP.PP.CD : PIB par habitant en parité de pouvoir d'achat (PPA).\n",
    "- DESCRIPTION : Description ou notes expliquative : indicateur.\n",
    "- Unnamed:3 : Colonne inutile"
   ]
  },
  {
   "cell_type": "markdown",
   "id": "5458280e-8ec5-4946-8a3b-31d0c59d1a08",
   "metadata": {},
   "source": [
    "### Suppression des colonnes inutiles"
   ]
  },
  {
   "cell_type": "code",
   "execution_count": 5,
   "id": "d805b30f-bf85-4d85-875d-019092c0d7eb",
   "metadata": {},
   "outputs": [],
   "source": [
    "#Colonne inutile\n",
    "data_edSCS_csv = data_edSCS_csv.drop(columns=['Unnamed: 3'])"
   ]
  },
  {
   "cell_type": "markdown",
   "id": "d807f878-dd46-41a2-85e4-aa576b5eef18",
   "metadata": {},
   "source": [
    "### 1. Erreurs de type\n",
    "\n",
    "Regarder si toutes les colonnes sont correct par rapport au type qu'elle comporte :"
   ]
  },
  {
   "cell_type": "code",
   "execution_count": 6,
   "id": "037eae77-2fea-4612-a3e1-c8db501e8199",
   "metadata": {},
   "outputs": [
    {
     "data": {
      "text/plain": [
       "CountryCode    object\n",
       "SeriesCode     object\n",
       "DESCRIPTION    object\n",
       "dtype: object"
      ]
     },
     "execution_count": 6,
     "metadata": {},
     "output_type": "execute_result"
    }
   ],
   "source": [
    "data_edSCS_csv.dtypes"
   ]
  },
  {
   "cell_type": "markdown",
   "id": "cef50e5a-5df6-49af-885e-dbaefb671909",
   "metadata": {},
   "source": [
    "Toutes les cathégories sont de type objet ce qui est correct\n",
    "\n",
    "### 2. Valeur manquante"
   ]
  },
  {
   "cell_type": "code",
   "execution_count": 7,
   "id": "86400670-9b06-4adc-94dd-6ffd15e6c216",
   "metadata": {},
   "outputs": [
    {
     "data": {
      "text/plain": [
       "CountryCode    0\n",
       "SeriesCode     0\n",
       "DESCRIPTION    0\n",
       "dtype: int64"
      ]
     },
     "execution_count": 7,
     "metadata": {},
     "output_type": "execute_result"
    }
   ],
   "source": [
    "data_edSCS_csv.isnull().sum()"
   ]
  },
  {
   "cell_type": "markdown",
   "id": "90387aa6-b0cf-4b1d-a6f4-dc7ace08f2ee",
   "metadata": {},
   "source": [
    "Aucune erreur manquante par ce fait aucune action supplémentaire"
   ]
  },
  {
   "cell_type": "markdown",
   "id": "8a9403fa-c8cf-4d1c-b1fc-c2a32c2e0955",
   "metadata": {},
   "source": [
    "#### 2.1 Calculez la proportion de valeurs manquantes par colonne"
   ]
  },
  {
   "cell_type": "code",
   "execution_count": 8,
   "id": "cb551256-af4a-42ec-9d95-b4fb19dd6c74",
   "metadata": {},
   "outputs": [
    {
     "name": "stdout",
     "output_type": "stream",
     "text": [
      "CountryCode    0.0\n",
      "SeriesCode     0.0\n",
      "DESCRIPTION    0.0\n",
      "dtype: float64\n"
     ]
    }
   ],
   "source": [
    "#Pourcentage de valeurs manquantes = (Nombre de valeurs manquantes / Nombre total de valeurs) * 100\n",
    "missing_values = data_edSCS_csv.isnull().sum()\n",
    "total_values = data_edSCS_csv.count() + missing_values\n",
    "percentage_missing = (missing_values / total_values) * 100\n",
    "print(percentage_missing)     "
   ]
  },
  {
   "cell_type": "markdown",
   "id": "9515e1b2-cd9a-45c0-844a-60280dcf2310",
   "metadata": {},
   "source": [
    "Calcule de proportion des valeur manquante pour les avoir en pourcentage, ici 0% de valeur menquante pour l'intégralité des colonnes "
   ]
  },
  {
   "cell_type": "markdown",
   "id": "2c80d074-1993-42eb-a4f4-c1ddd5d4b03d",
   "metadata": {},
   "source": [
    "### 3. Doublon\n",
    "\n",
    "On regarde si toutes les abréviations ne sont pas apparues en doublons. Nous allons regarder les abréviations en même temps que le SeriesCode car ce duo ne peux pas avoir de doublon il doit etre authentique "
   ]
  },
  {
   "cell_type": "code",
   "execution_count": 9,
   "id": "d857785f-a01e-4cd9-b184-27ae8613a8c4",
   "metadata": {},
   "outputs": [
    {
     "data": {
      "text/html": [
       "<div>\n",
       "<style scoped>\n",
       "    .dataframe tbody tr th:only-of-type {\n",
       "        vertical-align: middle;\n",
       "    }\n",
       "\n",
       "    .dataframe tbody tr th {\n",
       "        vertical-align: top;\n",
       "    }\n",
       "\n",
       "    .dataframe thead th {\n",
       "        text-align: right;\n",
       "    }\n",
       "</style>\n",
       "<table border=\"1\" class=\"dataframe\">\n",
       "  <thead>\n",
       "    <tr style=\"text-align: right;\">\n",
       "      <th></th>\n",
       "      <th>CountryCode</th>\n",
       "      <th>SeriesCode</th>\n",
       "      <th>DESCRIPTION</th>\n",
       "    </tr>\n",
       "  </thead>\n",
       "  <tbody>\n",
       "  </tbody>\n",
       "</table>\n",
       "</div>"
      ],
      "text/plain": [
       "Empty DataFrame\n",
       "Columns: [CountryCode, SeriesCode, DESCRIPTION]\n",
       "Index: []"
      ]
     },
     "execution_count": 9,
     "metadata": {},
     "output_type": "execute_result"
    }
   ],
   "source": [
    "data_edSCS_csv.loc[data_edSCS_csv[['CountryCode', 'SeriesCode']].duplicated(keep=False),:]"
   ]
  },
  {
   "cell_type": "markdown",
   "id": "15e2ffed-66cb-4839-ba8d-ee7313bb1d5f",
   "metadata": {},
   "source": [
    ">Aucun doublons n'est détecté "
   ]
  },
  {
   "cell_type": "markdown",
   "id": "632edbeb-2180-4df0-854f-db732ca9c471",
   "metadata": {},
   "source": [
    "drop_duplicate nous permet de supprimer tous les doublons est de garder juste un parmis tous les doublons identique. Ici rien ne se passera car nous n'avons pas de doublons"
   ]
  },
  {
   "cell_type": "code",
   "execution_count": 10,
   "id": "327a24ff-0260-4ee1-a38f-036f90ce9385",
   "metadata": {},
   "outputs": [],
   "source": [
    "data_edSCS_csv.drop_duplicates(subset=['CountryCode', 'SeriesCode'], inplace=True, ignore_index=True)"
   ]
  },
  {
   "cell_type": "markdown",
   "id": "4cd123ec-d488-442e-9f56-ff894f3cad54",
   "metadata": {},
   "source": [
    "### 4. Calculez les statistiques descriptives"
   ]
  },
  {
   "cell_type": "markdown",
   "id": "1f6893c7-de7a-496b-b0eb-93e881901bad",
   "metadata": {},
   "source": [
    "Pour calculer les statistiques descriptives il faut utilise le describe() très utile pour faire une premiere prévisualisation. Mais dansnotre dataframe nous n'avons pas de donnée numérique, nous avons que des objets. Cela nest pas très utile pour ce DataFrame  "
   ]
  },
  {
   "cell_type": "code",
   "execution_count": 11,
   "id": "d77a1602-8977-4671-b264-abe4f5bb8102",
   "metadata": {},
   "outputs": [
    {
     "data": {
      "text/html": [
       "<div>\n",
       "<style scoped>\n",
       "    .dataframe tbody tr th:only-of-type {\n",
       "        vertical-align: middle;\n",
       "    }\n",
       "\n",
       "    .dataframe tbody tr th {\n",
       "        vertical-align: top;\n",
       "    }\n",
       "\n",
       "    .dataframe thead th {\n",
       "        text-align: right;\n",
       "    }\n",
       "</style>\n",
       "<table border=\"1\" class=\"dataframe\">\n",
       "  <thead>\n",
       "    <tr style=\"text-align: right;\">\n",
       "      <th></th>\n",
       "      <th>CountryCode</th>\n",
       "      <th>SeriesCode</th>\n",
       "      <th>DESCRIPTION</th>\n",
       "    </tr>\n",
       "  </thead>\n",
       "  <tbody>\n",
       "    <tr>\n",
       "      <th>count</th>\n",
       "      <td>613</td>\n",
       "      <td>613</td>\n",
       "      <td>613</td>\n",
       "    </tr>\n",
       "    <tr>\n",
       "      <th>unique</th>\n",
       "      <td>211</td>\n",
       "      <td>21</td>\n",
       "      <td>97</td>\n",
       "    </tr>\n",
       "    <tr>\n",
       "      <th>top</th>\n",
       "      <td>GEO</td>\n",
       "      <td>SP.POP.TOTL</td>\n",
       "      <td>Data sources : United Nations World Population...</td>\n",
       "    </tr>\n",
       "    <tr>\n",
       "      <th>freq</th>\n",
       "      <td>18</td>\n",
       "      <td>211</td>\n",
       "      <td>154</td>\n",
       "    </tr>\n",
       "  </tbody>\n",
       "</table>\n",
       "</div>"
      ],
      "text/plain": [
       "       CountryCode   SeriesCode  \\\n",
       "count          613          613   \n",
       "unique         211           21   \n",
       "top            GEO  SP.POP.TOTL   \n",
       "freq            18          211   \n",
       "\n",
       "                                              DESCRIPTION  \n",
       "count                                                 613  \n",
       "unique                                                 97  \n",
       "top     Data sources : United Nations World Population...  \n",
       "freq                                                  154  "
      ]
     },
     "execution_count": 11,
     "metadata": {},
     "output_type": "execute_result"
    }
   ],
   "source": [
    "data_edSCS_csv.describe()"
   ]
  },
  {
   "cell_type": "markdown",
   "id": "9eaa6071-a8ba-4ffd-a85c-c201d3578b6d",
   "metadata": {},
   "source": [
    "### 5. Calculez le nombre d'occurences de chaque colonne"
   ]
  },
  {
   "cell_type": "code",
   "execution_count": 12,
   "id": "3868e083-0bf7-4d5b-8e73-45afa14db18e",
   "metadata": {
    "scrolled": true
   },
   "outputs": [
    {
     "name": "stdout",
     "output_type": "stream",
     "text": [
      "CountryCode :\n",
      "CountryCode\n",
      "GEO    18\n",
      "MDA    18\n",
      "CYP    12\n",
      "SRB    12\n",
      "MUS    12\n",
      "       ..\n",
      "WSM     2\n",
      "YEM     2\n",
      "ZAF     2\n",
      "ZMB     2\n",
      "ZWE     2\n",
      "Name: count, Length: 211, dtype: int64\n",
      "\n",
      "SeriesCode :\n",
      "SeriesCode\n",
      "SP.POP.TOTL          211\n",
      "SP.POP.GROW          211\n",
      "NY.GDP.PCAP.PP.CD     19\n",
      "NY.GNP.PCAP.PP.CD     19\n",
      "NY.GDP.PCAP.PP.KD     19\n",
      "NY.GNP.MKTP.PP.CD     14\n",
      "NY.GDP.MKTP.PP.KD     14\n",
      "NY.GDP.MKTP.PP.CD     14\n",
      "SP.POP.1564.TO.ZS     13\n",
      "SP.POP.TOTL.MA.ZS     13\n",
      "SP.POP.TOTL.FE.ZS     13\n",
      "SP.POP.0014.TO.ZS     13\n",
      "NY.GNP.PCAP.CD         6\n",
      "NY.GDP.PCAP.CD         5\n",
      "NY.GDP.PCAP.KD         5\n",
      "SP.POP.1564.MA.IN      4\n",
      "SP.POP.0014.TO         4\n",
      "SP.POP.1564.TO         4\n",
      "SP.POP.1564.FE.IN      4\n",
      "SP.POP.0014.MA.IN      4\n",
      "SP.POP.0014.FE.IN      4\n",
      "Name: count, dtype: int64\n",
      "\n"
     ]
    }
   ],
   "source": [
    "columns = [\n",
    "    'CountryCode',\n",
    "    'SeriesCode'\n",
    "]\n",
    "\n",
    "for col in columns:\n",
    "    print(f\"{col} :\")\n",
    "    print(data_edSCS_csv[col].value_counts())\n",
    "    print() "
   ]
  },
  {
   "cell_type": "code",
   "execution_count": 13,
   "id": "5a1215ab-731f-4953-9f6d-e26358a847f0",
   "metadata": {},
   "outputs": [
    {
     "data": {
      "image/png": "[encoded data removed]",
      "text/plain": [
       "<Figure size 640x480 with 1 Axes>"
      ]
     },
     "metadata": {},
     "output_type": "display_data"
    }
   ],
   "source": [
    "# Diagramme en secteurs\n",
    "ax = data_edSCS_csv[\"SeriesCode\"].value_counts(normalize=True).plot(\n",
    "    kind='pie',\n",
    "    autopct='%1.1f%%', \n",
    "    fontsize=8         \n",
    ")\n",
    "\n",
    "ax.legend(\n",
    "    labels=data_edSCS_csv[\"SeriesCode\"].value_counts(normalize=True).index, \n",
    "    loc='center left',    \n",
    "    bbox_to_anchor=(1.5, 0.5),  \n",
    "    fontsize=9            \n",
    ")\n",
    "\n",
    "plt.axis('equal') \n",
    "plt.show() \n"
   ]
  },
  {
   "cell_type": "markdown",
   "id": "4cd718ac-7b96-4a54-98b7-e221c26a3f82",
   "metadata": {},
   "source": [
    "### 6. Création d'une liste "
   ]
  },
  {
   "cell_type": "code",
   "execution_count": 14,
   "id": "dfb61e82-d8f7-4b3a-aec8-384cd7e43963",
   "metadata": {},
   "outputs": [],
   "source": [
    "#Netoyage Des pays\n",
    "valid_countries = data_edSCS_csv['CountryCode'].tolist()"
   ]
  },
  {
   "cell_type": "markdown",
   "id": "5b486b23-477a-4a8a-8143-ab60ac99f6f2",
   "metadata": {},
   "source": [
    "Création d'une liste des pays valide afin de pouvoir retiré les lignes contenant de faux pays"
   ]
  },
  {
   "cell_type": "markdown",
   "id": "dc5811cb-33fe-4d7c-b530-a269df2d2cea",
   "metadata": {},
   "source": [
    "<hr style=\"border: 1px solid #C4341A;\">"
   ]
  },
  {
   "cell_type": "markdown",
   "id": "ed79fcff-712b-481c-8cd6-594818f7d06e",
   "metadata": {},
   "source": [
    "<h2 style=\"color:#C4341A;\"> Importation EdStatsSeries </h2>\n",
    "\n",
    "<blockquote style=\"background-color:#f9f9f9; color:#333; border-left:5px solid #007BFF; padding:10px;\">\n",
    "Chaque ligne correspond à un pays avec son code de série unique</blockquote>"
   ]
  },
  {
   "cell_type": "code",
   "execution_count": 15,
   "id": "3d375c51-6dfa-4165-9871-02b56c75a778",
   "metadata": {},
   "outputs": [
    {
     "data": {
      "text/html": [
       "<div>\n",
       "<style scoped>\n",
       "    .dataframe tbody tr th:only-of-type {\n",
       "        vertical-align: middle;\n",
       "    }\n",
       "\n",
       "    .dataframe tbody tr th {\n",
       "        vertical-align: top;\n",
       "    }\n",
       "\n",
       "    .dataframe thead th {\n",
       "        text-align: right;\n",
       "    }\n",
       "</style>\n",
       "<table border=\"1\" class=\"dataframe\">\n",
       "  <thead>\n",
       "    <tr style=\"text-align: right;\">\n",
       "      <th></th>\n",
       "      <th>Series Code</th>\n",
       "      <th>Topic</th>\n",
       "      <th>Indicator Name</th>\n",
       "      <th>Short definition</th>\n",
       "      <th>Long definition</th>\n",
       "      <th>Unit of measure</th>\n",
       "      <th>Periodicity</th>\n",
       "      <th>Base Period</th>\n",
       "      <th>Other notes</th>\n",
       "      <th>Aggregation method</th>\n",
       "      <th>...</th>\n",
       "      <th>Notes from original source</th>\n",
       "      <th>General comments</th>\n",
       "      <th>Source</th>\n",
       "      <th>Statistical concept and methodology</th>\n",
       "      <th>Development relevance</th>\n",
       "      <th>Related source links</th>\n",
       "      <th>Other web links</th>\n",
       "      <th>Related indicators</th>\n",
       "      <th>License Type</th>\n",
       "      <th>Unnamed: 20</th>\n",
       "    </tr>\n",
       "  </thead>\n",
       "  <tbody>\n",
       "    <tr>\n",
       "      <th>0</th>\n",
       "      <td>BAR.NOED.1519.FE.ZS</td>\n",
       "      <td>Attainment</td>\n",
       "      <td>Barro-Lee: Percentage of female population age...</td>\n",
       "      <td>Percentage of female population age 15-19 with...</td>\n",
       "      <td>Percentage of female population age 15-19 with...</td>\n",
       "      <td>NaN</td>\n",
       "      <td>NaN</td>\n",
       "      <td>NaN</td>\n",
       "      <td>NaN</td>\n",
       "      <td>NaN</td>\n",
       "      <td>...</td>\n",
       "      <td>NaN</td>\n",
       "      <td>NaN</td>\n",
       "      <td>Robert J. Barro and Jong-Wha Lee: http://www.b...</td>\n",
       "      <td>NaN</td>\n",
       "      <td>NaN</td>\n",
       "      <td>NaN</td>\n",
       "      <td>NaN</td>\n",
       "      <td>NaN</td>\n",
       "      <td>NaN</td>\n",
       "      <td>NaN</td>\n",
       "    </tr>\n",
       "    <tr>\n",
       "      <th>1</th>\n",
       "      <td>BAR.NOED.1519.ZS</td>\n",
       "      <td>Attainment</td>\n",
       "      <td>Barro-Lee: Percentage of population age 15-19 ...</td>\n",
       "      <td>Percentage of population age 15-19 with no edu...</td>\n",
       "      <td>Percentage of population age 15-19 with no edu...</td>\n",
       "      <td>NaN</td>\n",
       "      <td>NaN</td>\n",
       "      <td>NaN</td>\n",
       "      <td>NaN</td>\n",
       "      <td>NaN</td>\n",
       "      <td>...</td>\n",
       "      <td>NaN</td>\n",
       "      <td>NaN</td>\n",
       "      <td>Robert J. Barro and Jong-Wha Lee: http://www.b...</td>\n",
       "      <td>NaN</td>\n",
       "      <td>NaN</td>\n",
       "      <td>NaN</td>\n",
       "      <td>NaN</td>\n",
       "      <td>NaN</td>\n",
       "      <td>NaN</td>\n",
       "      <td>NaN</td>\n",
       "    </tr>\n",
       "    <tr>\n",
       "      <th>2</th>\n",
       "      <td>BAR.NOED.15UP.FE.ZS</td>\n",
       "      <td>Attainment</td>\n",
       "      <td>Barro-Lee: Percentage of female population age...</td>\n",
       "      <td>Percentage of female population age 15+ with n...</td>\n",
       "      <td>Percentage of female population age 15+ with n...</td>\n",
       "      <td>NaN</td>\n",
       "      <td>NaN</td>\n",
       "      <td>NaN</td>\n",
       "      <td>NaN</td>\n",
       "      <td>NaN</td>\n",
       "      <td>...</td>\n",
       "      <td>NaN</td>\n",
       "      <td>NaN</td>\n",
       "      <td>Robert J. Barro and Jong-Wha Lee: http://www.b...</td>\n",
       "      <td>NaN</td>\n",
       "      <td>NaN</td>\n",
       "      <td>NaN</td>\n",
       "      <td>NaN</td>\n",
       "      <td>NaN</td>\n",
       "      <td>NaN</td>\n",
       "      <td>NaN</td>\n",
       "    </tr>\n",
       "    <tr>\n",
       "      <th>3</th>\n",
       "      <td>BAR.NOED.15UP.ZS</td>\n",
       "      <td>Attainment</td>\n",
       "      <td>Barro-Lee: Percentage of population age 15+ wi...</td>\n",
       "      <td>Percentage of population age 15+ with no educa...</td>\n",
       "      <td>Percentage of population age 15+ with no educa...</td>\n",
       "      <td>NaN</td>\n",
       "      <td>NaN</td>\n",
       "      <td>NaN</td>\n",
       "      <td>NaN</td>\n",
       "      <td>NaN</td>\n",
       "      <td>...</td>\n",
       "      <td>NaN</td>\n",
       "      <td>NaN</td>\n",
       "      <td>Robert J. Barro and Jong-Wha Lee: http://www.b...</td>\n",
       "      <td>NaN</td>\n",
       "      <td>NaN</td>\n",
       "      <td>NaN</td>\n",
       "      <td>NaN</td>\n",
       "      <td>NaN</td>\n",
       "      <td>NaN</td>\n",
       "      <td>NaN</td>\n",
       "    </tr>\n",
       "    <tr>\n",
       "      <th>4</th>\n",
       "      <td>BAR.NOED.2024.FE.ZS</td>\n",
       "      <td>Attainment</td>\n",
       "      <td>Barro-Lee: Percentage of female population age...</td>\n",
       "      <td>Percentage of female population age 20-24 with...</td>\n",
       "      <td>Percentage of female population age 20-24 with...</td>\n",
       "      <td>NaN</td>\n",
       "      <td>NaN</td>\n",
       "      <td>NaN</td>\n",
       "      <td>NaN</td>\n",
       "      <td>NaN</td>\n",
       "      <td>...</td>\n",
       "      <td>NaN</td>\n",
       "      <td>NaN</td>\n",
       "      <td>Robert J. Barro and Jong-Wha Lee: http://www.b...</td>\n",
       "      <td>NaN</td>\n",
       "      <td>NaN</td>\n",
       "      <td>NaN</td>\n",
       "      <td>NaN</td>\n",
       "      <td>NaN</td>\n",
       "      <td>NaN</td>\n",
       "      <td>NaN</td>\n",
       "    </tr>\n",
       "  </tbody>\n",
       "</table>\n",
       "<p>5 rows × 21 columns</p>\n",
       "</div>"
      ],
      "text/plain": [
       "           Series Code       Topic  \\\n",
       "0  BAR.NOED.1519.FE.ZS  Attainment   \n",
       "1     BAR.NOED.1519.ZS  Attainment   \n",
       "2  BAR.NOED.15UP.FE.ZS  Attainment   \n",
       "3     BAR.NOED.15UP.ZS  Attainment   \n",
       "4  BAR.NOED.2024.FE.ZS  Attainment   \n",
       "\n",
       "                                      Indicator Name  \\\n",
       "0  Barro-Lee: Percentage of female population age...   \n",
       "1  Barro-Lee: Percentage of population age 15-19 ...   \n",
       "2  Barro-Lee: Percentage of female population age...   \n",
       "3  Barro-Lee: Percentage of population age 15+ wi...   \n",
       "4  Barro-Lee: Percentage of female population age...   \n",
       "\n",
       "                                    Short definition  \\\n",
       "0  Percentage of female population age 15-19 with...   \n",
       "1  Percentage of population age 15-19 with no edu...   \n",
       "2  Percentage of female population age 15+ with n...   \n",
       "3  Percentage of population age 15+ with no educa...   \n",
       "4  Percentage of female population age 20-24 with...   \n",
       "\n",
       "                                     Long definition  Unit of measure  \\\n",
       "0  Percentage of female population age 15-19 with...              NaN   \n",
       "1  Percentage of population age 15-19 with no edu...              NaN   \n",
       "2  Percentage of female population age 15+ with n...              NaN   \n",
       "3  Percentage of population age 15+ with no educa...              NaN   \n",
       "4  Percentage of female population age 20-24 with...              NaN   \n",
       "\n",
       "  Periodicity Base Period Other notes Aggregation method  ...  \\\n",
       "0         NaN         NaN         NaN                NaN  ...   \n",
       "1         NaN         NaN         NaN                NaN  ...   \n",
       "2         NaN         NaN         NaN                NaN  ...   \n",
       "3         NaN         NaN         NaN                NaN  ...   \n",
       "4         NaN         NaN         NaN                NaN  ...   \n",
       "\n",
       "  Notes from original source  General comments  \\\n",
       "0                        NaN               NaN   \n",
       "1                        NaN               NaN   \n",
       "2                        NaN               NaN   \n",
       "3                        NaN               NaN   \n",
       "4                        NaN               NaN   \n",
       "\n",
       "                                              Source  \\\n",
       "0  Robert J. Barro and Jong-Wha Lee: http://www.b...   \n",
       "1  Robert J. Barro and Jong-Wha Lee: http://www.b...   \n",
       "2  Robert J. Barro and Jong-Wha Lee: http://www.b...   \n",
       "3  Robert J. Barro and Jong-Wha Lee: http://www.b...   \n",
       "4  Robert J. Barro and Jong-Wha Lee: http://www.b...   \n",
       "\n",
       "  Statistical concept and methodology Development relevance  \\\n",
       "0                                 NaN                   NaN   \n",
       "1                                 NaN                   NaN   \n",
       "2                                 NaN                   NaN   \n",
       "3                                 NaN                   NaN   \n",
       "4                                 NaN                   NaN   \n",
       "\n",
       "  Related source links Other web links  Related indicators  License Type  \\\n",
       "0                  NaN             NaN                 NaN           NaN   \n",
       "1                  NaN             NaN                 NaN           NaN   \n",
       "2                  NaN             NaN                 NaN           NaN   \n",
       "3                  NaN             NaN                 NaN           NaN   \n",
       "4                  NaN             NaN                 NaN           NaN   \n",
       "\n",
       "   Unnamed: 20  \n",
       "0          NaN  \n",
       "1          NaN  \n",
       "2          NaN  \n",
       "3          NaN  \n",
       "4          NaN  \n",
       "\n",
       "[5 rows x 21 columns]"
      ]
     },
     "execution_count": 15,
     "metadata": {},
     "output_type": "execute_result"
    }
   ],
   "source": [
    "data_edS_csv = pd.read_csv('EdStatsSeries.csv')\n",
    "\n",
    "data_edS_csv.head() "
   ]
  },
  {
   "cell_type": "code",
   "execution_count": 16,
   "id": "9106df82-6771-4cce-a0af-4bb06aac96f5",
   "metadata": {
    "scrolled": true
   },
   "outputs": [
    {
     "data": {
      "text/plain": [
       "(3665, 21)"
      ]
     },
     "execution_count": 16,
     "metadata": {},
     "output_type": "execute_result"
    }
   ],
   "source": [
    "data_edS_csv.shape"
   ]
  },
  {
   "cell_type": "markdown",
   "id": "eba0ff3f-e3af-44e1-8400-e757f81519dc",
   "metadata": {},
   "source": [
    "nous avons 3665 ligne de pays, avec 21 variables différentes :\n",
    "\n",
    "- SeriesCode : Le nom complet du pays.\n",
    "- Topic : Le code abrégé à 3 lettres du pays, acronyme.\n",
    "- Indicator Name : Le nom descriptif de l'indicateur, qui indique ce que la donnée représente.\n",
    "- Source :\n",
    "- Short definition"
   ]
  },
  {
   "cell_type": "markdown",
   "id": "2c63e07d-3c2e-4e15-9851-2df7d673541b",
   "metadata": {},
   "source": [
    "### Suppression des colonnes inutiles"
   ]
  },
  {
   "cell_type": "code",
   "execution_count": 17,
   "id": "a8c879f1-20d9-4562-b6bb-e82caad7a9c5",
   "metadata": {},
   "outputs": [],
   "source": [
    "#Colonne inutile\n",
    "data_edS_csv = data_edS_csv.drop(columns=['Unnamed: 20'])"
   ]
  },
  {
   "cell_type": "markdown",
   "id": "e22c85b9-b58f-4ea0-afd7-0ae4e91b6cf9",
   "metadata": {},
   "source": [
    "### 1. Erreurs de type\n",
    "\n",
    "Regarder si toutes les colonnes sont correct par rapport au type qu'elle comporte :"
   ]
  },
  {
   "cell_type": "code",
   "execution_count": 18,
   "id": "d4f1ff1f-de51-4141-9e5f-1281a3eee16d",
   "metadata": {},
   "outputs": [
    {
     "data": {
      "text/plain": [
       "Series Code                             object\n",
       "Topic                                   object\n",
       "Indicator Name                          object\n",
       "Short definition                        object\n",
       "Long definition                         object\n",
       "Unit of measure                        float64\n",
       "Periodicity                             object\n",
       "Base Period                             object\n",
       "Other notes                             object\n",
       "Aggregation method                      object\n",
       "Limitations and exceptions              object\n",
       "Notes from original source             float64\n",
       "General comments                        object\n",
       "Source                                  object\n",
       "Statistical concept and methodology     object\n",
       "Development relevance                   object\n",
       "Related source links                    object\n",
       "Other web links                        float64\n",
       "Related indicators                     float64\n",
       "License Type                           float64\n",
       "dtype: object"
      ]
     },
     "execution_count": 18,
     "metadata": {},
     "output_type": "execute_result"
    }
   ],
   "source": [
    "data_edS_csv.dtypes"
   ]
  },
  {
   "cell_type": "markdown",
   "id": "25eb64b3-1126-4459-a171-ba4840ec5d55",
   "metadata": {},
   "source": [
    "Toutes les cathégories sont de type objet ce qui est correct"
   ]
  },
  {
   "cell_type": "markdown",
   "id": "10ed0aed-1b47-431e-9895-d0d273de1149",
   "metadata": {},
   "source": [
    "Toutes les cathégories sont de type objet ce qui est correct\n",
    "\n",
    "### 2. Valeur manquante"
   ]
  },
  {
   "cell_type": "code",
   "execution_count": 19,
   "id": "dd5c2317-b679-4a37-be6d-63a7e376143d",
   "metadata": {},
   "outputs": [
    {
     "data": {
      "text/plain": [
       "Series Code                               0\n",
       "Topic                                     0\n",
       "Indicator Name                            0\n",
       "Short definition                       1509\n",
       "Long definition                           0\n",
       "Unit of measure                        3665\n",
       "Periodicity                            3566\n",
       "Base Period                            3351\n",
       "Other notes                            3113\n",
       "Aggregation method                     3618\n",
       "Limitations and exceptions             3651\n",
       "Notes from original source             3665\n",
       "General comments                       3651\n",
       "Source                                    0\n",
       "Statistical concept and methodology    3642\n",
       "Development relevance                  3662\n",
       "Related source links                   3450\n",
       "Other web links                        3665\n",
       "Related indicators                     3665\n",
       "License Type                           3665\n",
       "dtype: int64"
      ]
     },
     "execution_count": 19,
     "metadata": {},
     "output_type": "execute_result"
    }
   ],
   "source": [
    "data_edS_csv.isnull().sum()"
   ]
  },
  {
   "cell_type": "markdown",
   "id": "0c1456d5-b5fb-4a6c-93ce-d18533d1cfb7",
   "metadata": {},
   "source": [
    "Aucune erreur manquante par ce fait aucune action supplémentaire"
   ]
  },
  {
   "cell_type": "markdown",
   "id": "3407d263-ba61-474d-a416-743fa89bb584",
   "metadata": {},
   "source": [
    "#### 2.1 Calculez la proportion de valeurs manquantes par colonne"
   ]
  },
  {
   "cell_type": "code",
   "execution_count": 20,
   "id": "2587e4bb-d892-470c-a540-24285078040a",
   "metadata": {},
   "outputs": [
    {
     "name": "stdout",
     "output_type": "stream",
     "text": [
      "Series Code                              0.000000\n",
      "Topic                                    0.000000\n",
      "Indicator Name                           0.000000\n",
      "Short definition                        41.173261\n",
      "Long definition                          0.000000\n",
      "Unit of measure                        100.000000\n",
      "Periodicity                             97.298772\n",
      "Base Period                             91.432469\n",
      "Other notes                             84.938608\n",
      "Aggregation method                      98.717599\n",
      "Limitations and exceptions              99.618008\n",
      "Notes from original source             100.000000\n",
      "General comments                        99.618008\n",
      "Source                                   0.000000\n",
      "Statistical concept and methodology     99.372442\n",
      "Development relevance                   99.918145\n",
      "Related source links                    94.133697\n",
      "Other web links                        100.000000\n",
      "Related indicators                     100.000000\n",
      "License Type                           100.000000\n",
      "dtype: float64\n"
     ]
    }
   ],
   "source": [
    "#Pourcentage de valeurs manquantes = (Nombre de valeurs manquantes / Nombre total de valeurs) * 100\n",
    "missing_values = data_edS_csv.isnull().sum()\n",
    "total_values = data_edS_csv.count() + missing_values\n",
    "percentage_missing = (missing_values / total_values) * 100\n",
    "print(percentage_missing)     "
   ]
  },
  {
   "cell_type": "markdown",
   "id": "2adde394-0182-4db5-8534-9fffde1ea2ab",
   "metadata": {},
   "source": [
    "Calcule de proportion des valeur manquante pour les avoir en pourcentage, ici 0% de valeur menquante pour l'intégralité des colonnes "
   ]
  },
  {
   "cell_type": "markdown",
   "id": "042dc444-c5da-4f88-a472-455461675a14",
   "metadata": {},
   "source": [
    "### 3. Doublon\n",
    "\n",
    "On regarde si toutes les abréviations ne sont pas apparues en doublons. Nous allons regarder les abréviations en même temps que le SeriesCode car ce duo ne peux pas avoir de doublon il doit etre authentique "
   ]
  },
  {
   "cell_type": "code",
   "execution_count": 21,
   "id": "46c2f73c-8868-4ad1-989a-ac0d15a33c41",
   "metadata": {},
   "outputs": [
    {
     "data": {
      "text/html": [
       "<div>\n",
       "<style scoped>\n",
       "    .dataframe tbody tr th:only-of-type {\n",
       "        vertical-align: middle;\n",
       "    }\n",
       "\n",
       "    .dataframe tbody tr th {\n",
       "        vertical-align: top;\n",
       "    }\n",
       "\n",
       "    .dataframe thead th {\n",
       "        text-align: right;\n",
       "    }\n",
       "</style>\n",
       "<table border=\"1\" class=\"dataframe\">\n",
       "  <thead>\n",
       "    <tr style=\"text-align: right;\">\n",
       "      <th></th>\n",
       "      <th>Series Code</th>\n",
       "      <th>Topic</th>\n",
       "      <th>Indicator Name</th>\n",
       "      <th>Short definition</th>\n",
       "      <th>Long definition</th>\n",
       "      <th>Unit of measure</th>\n",
       "      <th>Periodicity</th>\n",
       "      <th>Base Period</th>\n",
       "      <th>Other notes</th>\n",
       "      <th>Aggregation method</th>\n",
       "      <th>Limitations and exceptions</th>\n",
       "      <th>Notes from original source</th>\n",
       "      <th>General comments</th>\n",
       "      <th>Source</th>\n",
       "      <th>Statistical concept and methodology</th>\n",
       "      <th>Development relevance</th>\n",
       "      <th>Related source links</th>\n",
       "      <th>Other web links</th>\n",
       "      <th>Related indicators</th>\n",
       "      <th>License Type</th>\n",
       "    </tr>\n",
       "  </thead>\n",
       "  <tbody>\n",
       "  </tbody>\n",
       "</table>\n",
       "</div>"
      ],
      "text/plain": [
       "Empty DataFrame\n",
       "Columns: [Series Code, Topic, Indicator Name, Short definition, Long definition, Unit of measure, Periodicity, Base Period, Other notes, Aggregation method, Limitations and exceptions, Notes from original source, General comments, Source, Statistical concept and methodology, Development relevance, Related source links, Other web links, Related indicators, License Type]\n",
       "Index: []"
      ]
     },
     "execution_count": 21,
     "metadata": {},
     "output_type": "execute_result"
    }
   ],
   "source": [
    "data_edS_csv.loc[data_edS_csv[['Series Code']].duplicated(keep=False),:]"
   ]
  },
  {
   "cell_type": "markdown",
   "id": "48cd373a-9849-41e9-b4c4-026b8f4c5081",
   "metadata": {},
   "source": [
    ">Aucun doublons n'est détecté "
   ]
  },
  {
   "cell_type": "markdown",
   "id": "3ec012fa-fd3f-43ae-8890-d90d50fdf901",
   "metadata": {},
   "source": [
    "drop_duplicate nous permet de supprimer tous les doublons est de garder juste un parmis tous les doublons identique. Ici rien ne se passera car nous n'avons pas de doublons"
   ]
  },
  {
   "cell_type": "code",
   "execution_count": 22,
   "id": "f51b40e2-ccdb-4811-acbf-fc841c01e5d0",
   "metadata": {},
   "outputs": [],
   "source": [
    "data_edS_csv.drop_duplicates(subset=['Series Code'], inplace=True, ignore_index=True)"
   ]
  },
  {
   "cell_type": "markdown",
   "id": "f5cfdf01-5747-4a3d-9f24-768d27c51953",
   "metadata": {},
   "source": [
    "### 4. Calculez les statistiques descriptives"
   ]
  },
  {
   "cell_type": "markdown",
   "id": "ba03f32a-13a6-4878-9034-f7de4a2c0380",
   "metadata": {},
   "source": [
    "Pour calculer les statistiques descriptives il faut utilise le describe() très utile pour faire une premiere prévisualisation. "
   ]
  },
  {
   "cell_type": "code",
   "execution_count": 23,
   "id": "5a7a5f80-0e88-4216-9901-2de0eaf2d622",
   "metadata": {},
   "outputs": [
    {
     "data": {
      "text/html": [
       "<div>\n",
       "<style scoped>\n",
       "    .dataframe tbody tr th:only-of-type {\n",
       "        vertical-align: middle;\n",
       "    }\n",
       "\n",
       "    .dataframe tbody tr th {\n",
       "        vertical-align: top;\n",
       "    }\n",
       "\n",
       "    .dataframe thead th {\n",
       "        text-align: right;\n",
       "    }\n",
       "</style>\n",
       "<table border=\"1\" class=\"dataframe\">\n",
       "  <thead>\n",
       "    <tr style=\"text-align: right;\">\n",
       "      <th></th>\n",
       "      <th>Unit of measure</th>\n",
       "      <th>Notes from original source</th>\n",
       "      <th>Other web links</th>\n",
       "      <th>Related indicators</th>\n",
       "      <th>License Type</th>\n",
       "    </tr>\n",
       "  </thead>\n",
       "  <tbody>\n",
       "    <tr>\n",
       "      <th>count</th>\n",
       "      <td>0.0</td>\n",
       "      <td>0.0</td>\n",
       "      <td>0.0</td>\n",
       "      <td>0.0</td>\n",
       "      <td>0.0</td>\n",
       "    </tr>\n",
       "    <tr>\n",
       "      <th>mean</th>\n",
       "      <td>NaN</td>\n",
       "      <td>NaN</td>\n",
       "      <td>NaN</td>\n",
       "      <td>NaN</td>\n",
       "      <td>NaN</td>\n",
       "    </tr>\n",
       "    <tr>\n",
       "      <th>std</th>\n",
       "      <td>NaN</td>\n",
       "      <td>NaN</td>\n",
       "      <td>NaN</td>\n",
       "      <td>NaN</td>\n",
       "      <td>NaN</td>\n",
       "    </tr>\n",
       "    <tr>\n",
       "      <th>min</th>\n",
       "      <td>NaN</td>\n",
       "      <td>NaN</td>\n",
       "      <td>NaN</td>\n",
       "      <td>NaN</td>\n",
       "      <td>NaN</td>\n",
       "    </tr>\n",
       "    <tr>\n",
       "      <th>25%</th>\n",
       "      <td>NaN</td>\n",
       "      <td>NaN</td>\n",
       "      <td>NaN</td>\n",
       "      <td>NaN</td>\n",
       "      <td>NaN</td>\n",
       "    </tr>\n",
       "    <tr>\n",
       "      <th>50%</th>\n",
       "      <td>NaN</td>\n",
       "      <td>NaN</td>\n",
       "      <td>NaN</td>\n",
       "      <td>NaN</td>\n",
       "      <td>NaN</td>\n",
       "    </tr>\n",
       "    <tr>\n",
       "      <th>75%</th>\n",
       "      <td>NaN</td>\n",
       "      <td>NaN</td>\n",
       "      <td>NaN</td>\n",
       "      <td>NaN</td>\n",
       "      <td>NaN</td>\n",
       "    </tr>\n",
       "    <tr>\n",
       "      <th>max</th>\n",
       "      <td>NaN</td>\n",
       "      <td>NaN</td>\n",
       "      <td>NaN</td>\n",
       "      <td>NaN</td>\n",
       "      <td>NaN</td>\n",
       "    </tr>\n",
       "  </tbody>\n",
       "</table>\n",
       "</div>"
      ],
      "text/plain": [
       "       Unit of measure  Notes from original source  Other web links  \\\n",
       "count              0.0                         0.0              0.0   \n",
       "mean               NaN                         NaN              NaN   \n",
       "std                NaN                         NaN              NaN   \n",
       "min                NaN                         NaN              NaN   \n",
       "25%                NaN                         NaN              NaN   \n",
       "50%                NaN                         NaN              NaN   \n",
       "75%                NaN                         NaN              NaN   \n",
       "max                NaN                         NaN              NaN   \n",
       "\n",
       "       Related indicators  License Type  \n",
       "count                 0.0           0.0  \n",
       "mean                  NaN           NaN  \n",
       "std                   NaN           NaN  \n",
       "min                   NaN           NaN  \n",
       "25%                   NaN           NaN  \n",
       "50%                   NaN           NaN  \n",
       "75%                   NaN           NaN  \n",
       "max                   NaN           NaN  "
      ]
     },
     "execution_count": 23,
     "metadata": {},
     "output_type": "execute_result"
    }
   ],
   "source": [
    "data_edS_csv.describe()"
   ]
  },
  {
   "cell_type": "markdown",
   "id": "8f875b75-fcf8-40d4-87c0-45cc5177dc6b",
   "metadata": {},
   "source": [
    "### 5. Calculez le nombre d'occurences de chaque colonne"
   ]
  },
  {
   "cell_type": "code",
   "execution_count": 24,
   "id": "50ee4980-6b53-4e7d-a3a9-581d867265e6",
   "metadata": {
    "scrolled": true
   },
   "outputs": [
    {
     "name": "stdout",
     "output_type": "stream",
     "text": [
      "Topic :\n",
      "Topic\n",
      "Learning Outcomes                                                                               1046\n",
      "Attainment                                                                                       733\n",
      "Education Equality                                                                               426\n",
      "Secondary                                                                                        256\n",
      "Primary                                                                                          248\n",
      "Population                                                                                       213\n",
      "Tertiary                                                                                         158\n",
      "Teachers                                                                                         137\n",
      "Expenditures                                                                                      93\n",
      "Engaging the Private Sector (SABER)                                                               51\n",
      "Literacy                                                                                          32\n",
      "Teachers (SABER)                                                                                  29\n",
      "School Autonomy and Accountability (SABER)                                                        29\n",
      "Early Childhood Education                                                                         24\n",
      "Education Management Information Systems (SABER)                                                  23\n",
      "Post-Secondary/Non-Tertiary                                                                       19\n",
      "School Finance (SABER)                                                                            18\n",
      "Tertiary Education (SABER)                                                                        17\n",
      "Student Assessment (SABER)                                                                        15\n",
      "Pre-Primary                                                                                       14\n",
      "Health: Population: Structure                                                                     13\n",
      "Early Child Development (SABER)                                                                   12\n",
      "Workforce Development (SABER)                                                                     12\n",
      "Social Protection & Labor: Labor force structure                                                  11\n",
      "School Health and School Feeding (SABER)                                                           9\n",
      "Economic Policy & Debt: Purchasing power parity                                                    6\n",
      "Economic Policy & Debt: National accounts: US$ at current prices: Aggregate indicators             3\n",
      "Laber                                                                                              3\n",
      "Social Protection & Labor: Unemployment                                                            3\n",
      "Infrastructure: Communications                                                                     2\n",
      "EMIS                                                                                               2\n",
      "Economic Policy & Debt: National accounts: US$ at constant 2010 prices: Aggregate indicators       2\n",
      "Background                                                                                         2\n",
      "Economic Policy & Debt: National accounts: Atlas GNI & GNI per capita                              1\n",
      "Health: Risk factors                                                                               1\n",
      "Health: Mortality                                                                                  1\n",
      "Health: Population: Dynamics                                                                       1\n",
      "Name: count, dtype: int64\n",
      "\n"
     ]
    }
   ],
   "source": [
    "columns = [\n",
    "    'Topic',\n",
    "]\n",
    "\n",
    "for col in columns:\n",
    "    print(f\"{col} :\")\n",
    "    print(data_edS_csv[col].value_counts())\n",
    "    print() "
   ]
  },
  {
   "cell_type": "code",
   "execution_count": 25,
   "id": "9256df88-8d97-4550-98dd-26f56062b490",
   "metadata": {},
   "outputs": [
    {
     "data": {
      "image/png": "[encoded data removed]",
      "text/plain": [
       "<Figure size 640x480 with 1 Axes>"
      ]
     },
     "metadata": {},
     "output_type": "display_data"
    }
   ],
   "source": [
    "topic_counts = data_edS_csv[\"Topic\"].value_counts(normalize=True)\n",
    "topic_counts_filtered = topic_counts[topic_counts > 0.01]\n",
    "\n",
    "ax = topic_counts_filtered.plot(\n",
    "    kind='bar',\n",
    "    fontsize=8,\n",
    "    color='skyblue',\n",
    "    edgecolor='black'\n",
    ")\n",
    "\n",
    "ax.set_title('Répartition des Topics', fontsize=10)\n",
    "ax.set_xlabel('Topic', fontsize=9)\n",
    "ax.set_ylabel('Proportion', fontsize=9)\n",
    "\n",
    "for i, value in enumerate(topic_counts_filtered):\n",
    "    ax.text(i, value + 0.01, f'{value:.1%}', ha='center', fontsize=8)\n",
    "\n",
    "plt.xticks(rotation=45, ha='right')\n",
    "plt.tight_layout()\n",
    "plt.show()\n"
   ]
  },
  {
   "cell_type": "markdown",
   "id": "5c434e55-4383-45ff-b44f-5625e754e41d",
   "metadata": {},
   "source": [
    "Plus de 28% des Series Code\tsont de sujet de reultat d'apprentissage :\n",
    "\n",
    "\n",
    "- Learning Outcomes : Résultats d’apprentissage\n",
    "- Attainment : Niveau d'éducation atteint par la population.\n",
    "- Secondary, Tertiary : Niveaux éducatifs\n",
    "- Education Equality : Identifier les égalités \n",
    "- Teachers : accès à l’éducation.\n",
    "- Literacy : niveau d’alphabétisation.\n",
    "- Expenditures : Dépenses en éducation\n"
   ]
  },
  {
   "cell_type": "code",
   "execution_count": 26,
   "id": "e01b0917-84fa-4182-9777-a78ac6012ab3",
   "metadata": {},
   "outputs": [],
   "source": [
    "# Catégories pertinentes pour le projet\n",
    "categories = [\n",
    "    \"Learning Outcomes\", \"Attainment\", \"Secondary\", \"Tertiary\",\n",
    "    \"Education Equality\", \"Teachers\", \"Literacy\", \"Expenditures\"\n",
    "]"
   ]
  },
  {
   "cell_type": "markdown",
   "id": "189e1a3b-e471-426f-b7f5-9f962769577f",
   "metadata": {},
   "source": [
    "<h2 style=\"color:#C4341A;\"> EdStatsCountry.csv </h2>"
   ]
  },
  {
   "cell_type": "markdown",
   "id": "fa29c1f0-c85c-4d49-9430-4c2849d860e6",
   "metadata": {},
   "source": [
    "<hr style=\"border: 1px solid #C4341A;\">"
   ]
  },
  {
   "cell_type": "code",
   "execution_count": 27,
   "id": "a7cfe813-5ae9-493c-bb56-c51cda78755d",
   "metadata": {
    "scrolled": true
   },
   "outputs": [
    {
     "data": {
      "text/html": [
       "<div>\n",
       "<style scoped>\n",
       "    .dataframe tbody tr th:only-of-type {\n",
       "        vertical-align: middle;\n",
       "    }\n",
       "\n",
       "    .dataframe tbody tr th {\n",
       "        vertical-align: top;\n",
       "    }\n",
       "\n",
       "    .dataframe thead th {\n",
       "        text-align: right;\n",
       "    }\n",
       "</style>\n",
       "<table border=\"1\" class=\"dataframe\">\n",
       "  <thead>\n",
       "    <tr style=\"text-align: right;\">\n",
       "      <th></th>\n",
       "      <th>Country Code</th>\n",
       "      <th>Short Name</th>\n",
       "      <th>Table Name</th>\n",
       "      <th>Long Name</th>\n",
       "      <th>2-alpha code</th>\n",
       "      <th>Currency Unit</th>\n",
       "      <th>Special Notes</th>\n",
       "      <th>Region</th>\n",
       "      <th>Income Group</th>\n",
       "      <th>WB-2 code</th>\n",
       "      <th>...</th>\n",
       "      <th>IMF data dissemination standard</th>\n",
       "      <th>Latest population census</th>\n",
       "      <th>Latest household survey</th>\n",
       "      <th>Source of most recent Income and expenditure data</th>\n",
       "      <th>Vital registration complete</th>\n",
       "      <th>Latest agricultural census</th>\n",
       "      <th>Latest industrial data</th>\n",
       "      <th>Latest trade data</th>\n",
       "      <th>Latest water withdrawal data</th>\n",
       "      <th>Unnamed: 31</th>\n",
       "    </tr>\n",
       "  </thead>\n",
       "  <tbody>\n",
       "    <tr>\n",
       "      <th>0</th>\n",
       "      <td>ABW</td>\n",
       "      <td>Aruba</td>\n",
       "      <td>Aruba</td>\n",
       "      <td>Aruba</td>\n",
       "      <td>AW</td>\n",
       "      <td>Aruban florin</td>\n",
       "      <td>SNA data for 2000-2011 are updated from offici...</td>\n",
       "      <td>Latin America &amp; Caribbean</td>\n",
       "      <td>High income: nonOECD</td>\n",
       "      <td>AW</td>\n",
       "      <td>...</td>\n",
       "      <td>NaN</td>\n",
       "      <td>2010</td>\n",
       "      <td>NaN</td>\n",
       "      <td>NaN</td>\n",
       "      <td>Yes</td>\n",
       "      <td>NaN</td>\n",
       "      <td>NaN</td>\n",
       "      <td>2012.0</td>\n",
       "      <td>NaN</td>\n",
       "      <td>NaN</td>\n",
       "    </tr>\n",
       "    <tr>\n",
       "      <th>1</th>\n",
       "      <td>AFG</td>\n",
       "      <td>Afghanistan</td>\n",
       "      <td>Afghanistan</td>\n",
       "      <td>Islamic State of Afghanistan</td>\n",
       "      <td>AF</td>\n",
       "      <td>Afghan afghani</td>\n",
       "      <td>Fiscal year end: March 20; reporting period fo...</td>\n",
       "      <td>South Asia</td>\n",
       "      <td>Low income</td>\n",
       "      <td>AF</td>\n",
       "      <td>...</td>\n",
       "      <td>General Data Dissemination System (GDDS)</td>\n",
       "      <td>1979</td>\n",
       "      <td>Multiple Indicator Cluster Survey (MICS), 2010/11</td>\n",
       "      <td>Integrated household survey (IHS), 2008</td>\n",
       "      <td>NaN</td>\n",
       "      <td>2013/14</td>\n",
       "      <td>NaN</td>\n",
       "      <td>2012.0</td>\n",
       "      <td>2000</td>\n",
       "      <td>NaN</td>\n",
       "    </tr>\n",
       "    <tr>\n",
       "      <th>2</th>\n",
       "      <td>AGO</td>\n",
       "      <td>Angola</td>\n",
       "      <td>Angola</td>\n",
       "      <td>People's Republic of Angola</td>\n",
       "      <td>AO</td>\n",
       "      <td>Angolan kwanza</td>\n",
       "      <td>April 2013 database update: Based on IMF data,...</td>\n",
       "      <td>Sub-Saharan Africa</td>\n",
       "      <td>Upper middle income</td>\n",
       "      <td>AO</td>\n",
       "      <td>...</td>\n",
       "      <td>General Data Dissemination System (GDDS)</td>\n",
       "      <td>1970</td>\n",
       "      <td>Malaria Indicator Survey (MIS), 2011</td>\n",
       "      <td>Integrated household survey (IHS), 2008</td>\n",
       "      <td>NaN</td>\n",
       "      <td>2015</td>\n",
       "      <td>NaN</td>\n",
       "      <td>NaN</td>\n",
       "      <td>2005</td>\n",
       "      <td>NaN</td>\n",
       "    </tr>\n",
       "    <tr>\n",
       "      <th>3</th>\n",
       "      <td>ALB</td>\n",
       "      <td>Albania</td>\n",
       "      <td>Albania</td>\n",
       "      <td>Republic of Albania</td>\n",
       "      <td>AL</td>\n",
       "      <td>Albanian lek</td>\n",
       "      <td>NaN</td>\n",
       "      <td>Europe &amp; Central Asia</td>\n",
       "      <td>Upper middle income</td>\n",
       "      <td>AL</td>\n",
       "      <td>...</td>\n",
       "      <td>General Data Dissemination System (GDDS)</td>\n",
       "      <td>2011</td>\n",
       "      <td>Demographic and Health Survey (DHS), 2008/09</td>\n",
       "      <td>Living Standards Measurement Study Survey (LSM...</td>\n",
       "      <td>Yes</td>\n",
       "      <td>2012</td>\n",
       "      <td>2010.0</td>\n",
       "      <td>2012.0</td>\n",
       "      <td>2006</td>\n",
       "      <td>NaN</td>\n",
       "    </tr>\n",
       "    <tr>\n",
       "      <th>4</th>\n",
       "      <td>AND</td>\n",
       "      <td>Andorra</td>\n",
       "      <td>Andorra</td>\n",
       "      <td>Principality of Andorra</td>\n",
       "      <td>AD</td>\n",
       "      <td>Euro</td>\n",
       "      <td>NaN</td>\n",
       "      <td>Europe &amp; Central Asia</td>\n",
       "      <td>High income: nonOECD</td>\n",
       "      <td>AD</td>\n",
       "      <td>...</td>\n",
       "      <td>NaN</td>\n",
       "      <td>2011. Population figures compiled from adminis...</td>\n",
       "      <td>NaN</td>\n",
       "      <td>NaN</td>\n",
       "      <td>Yes</td>\n",
       "      <td>NaN</td>\n",
       "      <td>NaN</td>\n",
       "      <td>2006.0</td>\n",
       "      <td>NaN</td>\n",
       "      <td>NaN</td>\n",
       "    </tr>\n",
       "  </tbody>\n",
       "</table>\n",
       "<p>5 rows × 32 columns</p>\n",
       "</div>"
      ],
      "text/plain": [
       "  Country Code   Short Name   Table Name                     Long Name  \\\n",
       "0          ABW        Aruba        Aruba                         Aruba   \n",
       "1          AFG  Afghanistan  Afghanistan  Islamic State of Afghanistan   \n",
       "2          AGO       Angola       Angola   People's Republic of Angola   \n",
       "3          ALB      Albania      Albania           Republic of Albania   \n",
       "4          AND      Andorra      Andorra       Principality of Andorra   \n",
       "\n",
       "  2-alpha code   Currency Unit  \\\n",
       "0           AW   Aruban florin   \n",
       "1           AF  Afghan afghani   \n",
       "2           AO  Angolan kwanza   \n",
       "3           AL    Albanian lek   \n",
       "4           AD            Euro   \n",
       "\n",
       "                                       Special Notes  \\\n",
       "0  SNA data for 2000-2011 are updated from offici...   \n",
       "1  Fiscal year end: March 20; reporting period fo...   \n",
       "2  April 2013 database update: Based on IMF data,...   \n",
       "3                                                NaN   \n",
       "4                                                NaN   \n",
       "\n",
       "                      Region          Income Group WB-2 code  ...  \\\n",
       "0  Latin America & Caribbean  High income: nonOECD        AW  ...   \n",
       "1                 South Asia            Low income        AF  ...   \n",
       "2         Sub-Saharan Africa   Upper middle income        AO  ...   \n",
       "3      Europe & Central Asia   Upper middle income        AL  ...   \n",
       "4      Europe & Central Asia  High income: nonOECD        AD  ...   \n",
       "\n",
       "            IMF data dissemination standard  \\\n",
       "0                                       NaN   \n",
       "1  General Data Dissemination System (GDDS)   \n",
       "2  General Data Dissemination System (GDDS)   \n",
       "3  General Data Dissemination System (GDDS)   \n",
       "4                                       NaN   \n",
       "\n",
       "                            Latest population census  \\\n",
       "0                                               2010   \n",
       "1                                               1979   \n",
       "2                                               1970   \n",
       "3                                               2011   \n",
       "4  2011. Population figures compiled from adminis...   \n",
       "\n",
       "                             Latest household survey  \\\n",
       "0                                                NaN   \n",
       "1  Multiple Indicator Cluster Survey (MICS), 2010/11   \n",
       "2               Malaria Indicator Survey (MIS), 2011   \n",
       "3       Demographic and Health Survey (DHS), 2008/09   \n",
       "4                                                NaN   \n",
       "\n",
       "   Source of most recent Income and expenditure data  \\\n",
       "0                                                NaN   \n",
       "1            Integrated household survey (IHS), 2008   \n",
       "2            Integrated household survey (IHS), 2008   \n",
       "3  Living Standards Measurement Study Survey (LSM...   \n",
       "4                                                NaN   \n",
       "\n",
       "  Vital registration complete Latest agricultural census  \\\n",
       "0                         Yes                        NaN   \n",
       "1                         NaN                    2013/14   \n",
       "2                         NaN                       2015   \n",
       "3                         Yes                       2012   \n",
       "4                         Yes                        NaN   \n",
       "\n",
       "  Latest industrial data Latest trade data Latest water withdrawal data  \\\n",
       "0                    NaN            2012.0                          NaN   \n",
       "1                    NaN            2012.0                         2000   \n",
       "2                    NaN               NaN                         2005   \n",
       "3                 2010.0            2012.0                         2006   \n",
       "4                    NaN            2006.0                          NaN   \n",
       "\n",
       "  Unnamed: 31  \n",
       "0         NaN  \n",
       "1         NaN  \n",
       "2         NaN  \n",
       "3         NaN  \n",
       "4         NaN  \n",
       "\n",
       "[5 rows x 32 columns]"
      ]
     },
     "execution_count": 27,
     "metadata": {},
     "output_type": "execute_result"
    }
   ],
   "source": [
    "data_edSC_csv = pd.read_csv('EdStatsCountry.csv')\n",
    "\n",
    "data_edSC_csv.head() "
   ]
  },
  {
   "cell_type": "markdown",
   "id": "ed26d314-fc59-4378-a8f4-44635ff72fd0",
   "metadata": {},
   "source": [
    "<hr style=\"border: 1px solid #C4341A;\">"
   ]
  },
  {
   "cell_type": "code",
   "execution_count": 28,
   "id": "9d5c0381-fac8-4226-9286-567908d3e7b1",
   "metadata": {},
   "outputs": [
    {
     "data": {
      "text/plain": [
       "(241, 32)"
      ]
     },
     "execution_count": 28,
     "metadata": {},
     "output_type": "execute_result"
    }
   ],
   "source": [
    "data_edSC_csv.shape"
   ]
  },
  {
   "cell_type": "markdown",
   "id": "731dd016-c0c9-4dc3-8a0b-2fe0b466b52c",
   "metadata": {},
   "source": [
    "nous avons 211 lignes de pays, avec 31 variables différentes :\n",
    "\n",
    "- CountryCode : Code ISO à trois lettres représentant un pays ou une région (par exemple, ABW pour Aruba, AFG pour l'Afghanistan).\n",
    "- Short Name : nom du pays\n"
   ]
  },
  {
   "cell_type": "markdown",
   "id": "b9870587-6c83-4b25-a426-89bdcf43f75d",
   "metadata": {},
   "source": [
    "### Suppression des colonnes inutiles"
   ]
  },
  {
   "cell_type": "code",
   "execution_count": 29,
   "id": "2451ae0e-2c92-43e7-ac97-b67204a48096",
   "metadata": {},
   "outputs": [],
   "source": [
    "#Colonne inutile\n",
    "data_edSC_csv = data_edSC_csv.drop(columns=['Unnamed: 31'])"
   ]
  },
  {
   "cell_type": "code",
   "execution_count": 30,
   "id": "285341d7-b96a-47ca-a83e-3ca46207eccf",
   "metadata": {},
   "outputs": [],
   "source": [
    "#Netoyage Des pays\n",
    "#data_edSC_csv.drop(data_edSC_csv[data_edSC_csv['Short Name'] == 'Aruba'].index, inplace=True)\n",
    "data_edSC_csv = data_edSC_csv[data_edSC_csv['Country Code'].isin(valid_countries)]"
   ]
  },
  {
   "cell_type": "markdown",
   "id": "838ce3d0-8a13-43b9-a417-a05830ffe352",
   "metadata": {},
   "source": [
    "### 1. Erreurs de type\n",
    "\n",
    "Regarder si toutes les colonnes sont correct par rapport au type qu'elle comporte :"
   ]
  },
  {
   "cell_type": "code",
   "execution_count": 31,
   "id": "3f018cea-3407-4b32-86c3-233e2de8bff9",
   "metadata": {},
   "outputs": [
    {
     "data": {
      "text/plain": [
       "Country Code                                          object\n",
       "Short Name                                            object\n",
       "Table Name                                            object\n",
       "Long Name                                             object\n",
       "2-alpha code                                          object\n",
       "Currency Unit                                         object\n",
       "Special Notes                                         object\n",
       "Region                                                object\n",
       "Income Group                                          object\n",
       "WB-2 code                                             object\n",
       "National accounts base year                           object\n",
       "National accounts reference year                     float64\n",
       "SNA price valuation                                   object\n",
       "Lending category                                      object\n",
       "Other groups                                          object\n",
       "System of National Accounts                           object\n",
       "Alternative conversion factor                         object\n",
       "PPP survey year                                       object\n",
       "Balance of Payments Manual in use                     object\n",
       "External debt Reporting status                        object\n",
       "System of trade                                       object\n",
       "Government Accounting concept                         object\n",
       "IMF data dissemination standard                       object\n",
       "Latest population census                              object\n",
       "Latest household survey                               object\n",
       "Source of most recent Income and expenditure data     object\n",
       "Vital registration complete                           object\n",
       "Latest agricultural census                            object\n",
       "Latest industrial data                               float64\n",
       "Latest trade data                                    float64\n",
       "Latest water withdrawal data                          object\n",
       "dtype: object"
      ]
     },
     "execution_count": 31,
     "metadata": {},
     "output_type": "execute_result"
    }
   ],
   "source": [
    "data_edSC_csv.dtypes"
   ]
  },
  {
   "cell_type": "markdown",
   "id": "3db4d166-d861-48bd-aacb-e6eb572edb52",
   "metadata": {},
   "source": [
    "Toutes les cathégories sont de type objet ce qui est correct\n",
    "\n",
    "- Latest population census \n",
    "- Latest household survey \n",
    "- Education indicators\n",
    "- Government Accounting concept\n",
    "\n",
    "\n",
    "### 2. Valeur manquante"
   ]
  },
  {
   "cell_type": "code",
   "execution_count": 32,
   "id": "79e46888-ce27-40ef-90f4-88356c402302",
   "metadata": {},
   "outputs": [
    {
     "data": {
      "text/plain": [
       "Country Code                                           0\n",
       "Short Name                                             0\n",
       "Table Name                                             0\n",
       "Long Name                                              0\n",
       "2-alpha code                                           3\n",
       "Currency Unit                                          0\n",
       "Special Notes                                         92\n",
       "Region                                                 1\n",
       "Income Group                                           1\n",
       "WB-2 code                                              1\n",
       "National accounts base year                            7\n",
       "National accounts reference year                     179\n",
       "SNA price valuation                                   14\n",
       "Lending category                                      68\n",
       "Other groups                                         153\n",
       "System of National Accounts                            0\n",
       "Alternative conversion factor                        164\n",
       "PPP survey year                                       66\n",
       "Balance of Payments Manual in use                     30\n",
       "External debt Reporting status                        87\n",
       "System of trade                                       11\n",
       "Government Accounting concept                         50\n",
       "IMF data dissemination standard                       30\n",
       "Latest population census                               0\n",
       "Latest household survey                               70\n",
       "Source of most recent Income and expenditure data     52\n",
       "Vital registration complete                          101\n",
       "Latest agricultural census                            69\n",
       "Latest industrial data                               104\n",
       "Latest trade data                                     26\n",
       "Latest water withdrawal data                          32\n",
       "dtype: int64"
      ]
     },
     "execution_count": 32,
     "metadata": {},
     "output_type": "execute_result"
    }
   ],
   "source": [
    "data_edSC_csv.isnull().sum()"
   ]
  },
  {
   "cell_type": "markdown",
   "id": "de9d58ea-ac99-4c7e-b35b-04127e70eec4",
   "metadata": {},
   "source": [
    "Aucune erreur manquante par ce fait aucune action supplémentaire"
   ]
  },
  {
   "cell_type": "markdown",
   "id": "bb679bf1-375c-43fa-92f9-eb6bfdce6b56",
   "metadata": {},
   "source": [
    "#### 2.1 Calculez la proportion de valeurs manquantes par colonne"
   ]
  },
  {
   "cell_type": "code",
   "execution_count": 33,
   "id": "ae065505-60dc-4e48-894b-67e9dde6629c",
   "metadata": {},
   "outputs": [
    {
     "name": "stdout",
     "output_type": "stream",
     "text": [
      "Country Code                                          0.000000\n",
      "Short Name                                            0.000000\n",
      "Table Name                                            0.000000\n",
      "Long Name                                             0.000000\n",
      "2-alpha code                                          1.421801\n",
      "Currency Unit                                         0.000000\n",
      "Special Notes                                        43.601896\n",
      "Region                                                0.473934\n",
      "Income Group                                          0.473934\n",
      "WB-2 code                                             0.473934\n",
      "National accounts base year                           3.317536\n",
      "National accounts reference year                     84.834123\n",
      "SNA price valuation                                   6.635071\n",
      "Lending category                                     32.227488\n",
      "Other groups                                         72.511848\n",
      "System of National Accounts                           0.000000\n",
      "Alternative conversion factor                        77.725118\n",
      "PPP survey year                                      31.279621\n",
      "Balance of Payments Manual in use                    14.218009\n",
      "External debt Reporting status                       41.232227\n",
      "System of trade                                       5.213270\n",
      "Government Accounting concept                        23.696682\n",
      "IMF data dissemination standard                      14.218009\n",
      "Latest population census                              0.000000\n",
      "Latest household survey                              33.175355\n",
      "Source of most recent Income and expenditure data    24.644550\n",
      "Vital registration complete                          47.867299\n",
      "Latest agricultural census                           32.701422\n",
      "Latest industrial data                               49.289100\n",
      "Latest trade data                                    12.322275\n",
      "Latest water withdrawal data                         15.165877\n",
      "dtype: float64\n"
     ]
    }
   ],
   "source": [
    "#Pourcentage de valeurs manquantes = (Nombre de valeurs manquantes / Nombre total de valeurs) * 100\n",
    "missing_values = data_edSC_csv.isnull().sum()\n",
    "total_values = data_edSC_csv.count() + missing_values\n",
    "percentage_missing = (missing_values / total_values) * 100\n",
    "print(percentage_missing)     "
   ]
  },
  {
   "cell_type": "markdown",
   "id": "5bd4d611-05e0-4405-a6c7-78a2890512b5",
   "metadata": {},
   "source": [
    "Calcule de proportion des valeur manquante pour les avoir en pourcentage, ici 0% de valeur menquante pour l'intégralité des colonnes "
   ]
  },
  {
   "cell_type": "markdown",
   "id": "92667e9b-dd27-498e-b4f3-a042a3f086f3",
   "metadata": {},
   "source": [
    "### 3. Doublon\n",
    "\n",
    "On regarde si toutes les abréviations ne sont pas apparues en doublons. "
   ]
  },
  {
   "cell_type": "code",
   "execution_count": 34,
   "id": "43c9bafc-28f2-47cb-b479-1d563366e23a",
   "metadata": {},
   "outputs": [
    {
     "data": {
      "text/html": [
       "<div>\n",
       "<style scoped>\n",
       "    .dataframe tbody tr th:only-of-type {\n",
       "        vertical-align: middle;\n",
       "    }\n",
       "\n",
       "    .dataframe tbody tr th {\n",
       "        vertical-align: top;\n",
       "    }\n",
       "\n",
       "    .dataframe thead th {\n",
       "        text-align: right;\n",
       "    }\n",
       "</style>\n",
       "<table border=\"1\" class=\"dataframe\">\n",
       "  <thead>\n",
       "    <tr style=\"text-align: right;\">\n",
       "      <th></th>\n",
       "      <th>Country Code</th>\n",
       "      <th>Short Name</th>\n",
       "      <th>Table Name</th>\n",
       "      <th>Long Name</th>\n",
       "      <th>2-alpha code</th>\n",
       "      <th>Currency Unit</th>\n",
       "      <th>Special Notes</th>\n",
       "      <th>Region</th>\n",
       "      <th>Income Group</th>\n",
       "      <th>WB-2 code</th>\n",
       "      <th>...</th>\n",
       "      <th>Government Accounting concept</th>\n",
       "      <th>IMF data dissemination standard</th>\n",
       "      <th>Latest population census</th>\n",
       "      <th>Latest household survey</th>\n",
       "      <th>Source of most recent Income and expenditure data</th>\n",
       "      <th>Vital registration complete</th>\n",
       "      <th>Latest agricultural census</th>\n",
       "      <th>Latest industrial data</th>\n",
       "      <th>Latest trade data</th>\n",
       "      <th>Latest water withdrawal data</th>\n",
       "    </tr>\n",
       "  </thead>\n",
       "  <tbody>\n",
       "  </tbody>\n",
       "</table>\n",
       "<p>0 rows × 31 columns</p>\n",
       "</div>"
      ],
      "text/plain": [
       "Empty DataFrame\n",
       "Columns: [Country Code, Short Name, Table Name, Long Name, 2-alpha code, Currency Unit, Special Notes, Region, Income Group, WB-2 code, National accounts base year, National accounts reference year, SNA price valuation, Lending category, Other groups, System of National Accounts, Alternative conversion factor, PPP survey year, Balance of Payments Manual in use, External debt Reporting status, System of trade, Government Accounting concept, IMF data dissemination standard, Latest population census, Latest household survey, Source of most recent Income and expenditure data, Vital registration complete, Latest agricultural census, Latest industrial data, Latest trade data, Latest water withdrawal data]\n",
       "Index: []\n",
       "\n",
       "[0 rows x 31 columns]"
      ]
     },
     "execution_count": 34,
     "metadata": {},
     "output_type": "execute_result"
    }
   ],
   "source": [
    "data_edSC_csv.loc[data_edSC_csv[['Country Code']].duplicated(keep=False),:]"
   ]
  },
  {
   "cell_type": "markdown",
   "id": "d659d5e7-1edc-46bb-855f-a9195d50ad8e",
   "metadata": {},
   "source": [
    ">Aucun doublons n'est détecté "
   ]
  },
  {
   "cell_type": "markdown",
   "id": "d1811096-04db-4440-923f-310c22e60266",
   "metadata": {},
   "source": [
    "drop_duplicate nous permet de supprimer tous les doublons est de garder juste un parmis tous les doublons identique. Ici rien ne se passera car nous n'avons pas de doublons"
   ]
  },
  {
   "cell_type": "code",
   "execution_count": 35,
   "id": "39c95929-e526-408c-8186-dd2dd9bec84a",
   "metadata": {},
   "outputs": [],
   "source": [
    "data_edSC_csv.drop_duplicates(subset=['Country Code'], inplace=True, ignore_index=True)"
   ]
  },
  {
   "cell_type": "markdown",
   "id": "a5f43603-91da-4c36-8958-c21a2b32f779",
   "metadata": {},
   "source": [
    "### 4. Calculez les statistiques descriptives"
   ]
  },
  {
   "cell_type": "markdown",
   "id": "6f9b3643-c687-4f86-9c85-abc3f12c8d58",
   "metadata": {},
   "source": [
    "Pour calculer les statistiques descriptives il faut utilise le describe() très utile pour faire une premiere prévisualisation. "
   ]
  },
  {
   "cell_type": "code",
   "execution_count": 36,
   "id": "4a071945-acb6-4393-ae53-fcfbac3f2476",
   "metadata": {},
   "outputs": [
    {
     "data": {
      "text/html": [
       "<div>\n",
       "<style scoped>\n",
       "    .dataframe tbody tr th:only-of-type {\n",
       "        vertical-align: middle;\n",
       "    }\n",
       "\n",
       "    .dataframe tbody tr th {\n",
       "        vertical-align: top;\n",
       "    }\n",
       "\n",
       "    .dataframe thead th {\n",
       "        text-align: right;\n",
       "    }\n",
       "</style>\n",
       "<table border=\"1\" class=\"dataframe\">\n",
       "  <thead>\n",
       "    <tr style=\"text-align: right;\">\n",
       "      <th></th>\n",
       "      <th>National accounts reference year</th>\n",
       "      <th>Latest industrial data</th>\n",
       "      <th>Latest trade data</th>\n",
       "    </tr>\n",
       "  </thead>\n",
       "  <tbody>\n",
       "    <tr>\n",
       "      <th>count</th>\n",
       "      <td>32.00000</td>\n",
       "      <td>107.000000</td>\n",
       "      <td>185.000000</td>\n",
       "    </tr>\n",
       "    <tr>\n",
       "      <th>mean</th>\n",
       "      <td>2001.53125</td>\n",
       "      <td>2008.102804</td>\n",
       "      <td>2010.994595</td>\n",
       "    </tr>\n",
       "    <tr>\n",
       "      <th>std</th>\n",
       "      <td>5.24856</td>\n",
       "      <td>2.616834</td>\n",
       "      <td>2.569675</td>\n",
       "    </tr>\n",
       "    <tr>\n",
       "      <th>min</th>\n",
       "      <td>1987.00000</td>\n",
       "      <td>2000.000000</td>\n",
       "      <td>1995.000000</td>\n",
       "    </tr>\n",
       "    <tr>\n",
       "      <th>25%</th>\n",
       "      <td>1996.75000</td>\n",
       "      <td>2007.500000</td>\n",
       "      <td>2011.000000</td>\n",
       "    </tr>\n",
       "    <tr>\n",
       "      <th>50%</th>\n",
       "      <td>2002.00000</td>\n",
       "      <td>2009.000000</td>\n",
       "      <td>2012.000000</td>\n",
       "    </tr>\n",
       "    <tr>\n",
       "      <th>75%</th>\n",
       "      <td>2005.00000</td>\n",
       "      <td>2010.000000</td>\n",
       "      <td>2012.000000</td>\n",
       "    </tr>\n",
       "    <tr>\n",
       "      <th>max</th>\n",
       "      <td>2012.00000</td>\n",
       "      <td>2010.000000</td>\n",
       "      <td>2012.000000</td>\n",
       "    </tr>\n",
       "  </tbody>\n",
       "</table>\n",
       "</div>"
      ],
      "text/plain": [
       "       National accounts reference year  Latest industrial data  \\\n",
       "count                          32.00000              107.000000   \n",
       "mean                         2001.53125             2008.102804   \n",
       "std                             5.24856                2.616834   \n",
       "min                          1987.00000             2000.000000   \n",
       "25%                          1996.75000             2007.500000   \n",
       "50%                          2002.00000             2009.000000   \n",
       "75%                          2005.00000             2010.000000   \n",
       "max                          2012.00000             2010.000000   \n",
       "\n",
       "       Latest trade data  \n",
       "count         185.000000  \n",
       "mean         2010.994595  \n",
       "std             2.569675  \n",
       "min          1995.000000  \n",
       "25%          2011.000000  \n",
       "50%          2012.000000  \n",
       "75%          2012.000000  \n",
       "max          2012.000000  "
      ]
     },
     "execution_count": 36,
     "metadata": {},
     "output_type": "execute_result"
    }
   ],
   "source": [
    "#Calcule statistique :\n",
    "data_edSC_csv.describe()"
   ]
  },
  {
   "cell_type": "markdown",
   "id": "60f51a70-7f89-4deb-9fec-eb1e139bd8e6",
   "metadata": {},
   "source": [
    "### 5. Calculez le nombre d'occurences de chaque colonne"
   ]
  },
  {
   "cell_type": "code",
   "execution_count": 37,
   "id": "a3617e81-371f-4444-a8c6-52f2487f262f",
   "metadata": {
    "scrolled": true
   },
   "outputs": [
    {
     "name": "stdout",
     "output_type": "stream",
     "text": [
      "Occurrences for 'Government Accounting concept':\n",
      "Government Accounting concept\n",
      "Consolidated central government    95\n",
      "Budgetary central government       66\n",
      "Name: count, dtype: int64\n",
      "----------------------------------------\n",
      "Occurrences for 'IMF data dissemination standard':\n",
      "IMF data dissemination standard\n",
      "General Data Dissemination System (GDDS)      110\n",
      "Special Data Dissemination Standard (SDDS)     71\n",
      "Name: count, dtype: int64\n",
      "----------------------------------------\n",
      "Occurrences for 'Latest population census':\n",
      "Latest population census\n",
      "2011                                                                                                                                                                              58\n",
      "2010                                                                                                                                                                              49\n",
      "2012                                                                                                                                                                              18\n",
      "2009                                                                                                                                                                              14\n",
      "2007                                                                                                                                                                               9\n",
      "2006                                                                                                                                                                               8\n",
      "2013                                                                                                                                                                               8\n",
      "2008                                                                                                                                                                               8\n",
      "2004                                                                                                                                                                               7\n",
      "2002                                                                                                                                                                               5\n",
      "2005                                                                                                                                                                               4\n",
      "2011. Population figures compiled from administrative registers.                                                                                                                   3\n",
      "2003                                                                                                                                                                               3\n",
      "1984                                                                                                                                                                               2\n",
      "1970                                                                                                                                                                               2\n",
      "1998                                                                                                                                                                               2\n",
      "1979                                                                                                                                                                               1\n",
      "2006. Rolling census based on continuous sample survey.                                                                                                                            1\n",
      "Guernsey: 2009; Jersey: 2011.                                                                                                                                                      1\n",
      "1996                                                                                                                                                                               1\n",
      "2011. The population censuses for 1986 and 1996 were based on a one-in-seven sample of the population, while that for 2006 was based on a one-in-ten sample of the population.     1\n",
      "1997                                                                                                                                                                               1\n",
      "1993                                                                                                                                                                               1\n",
      "1983                                                                                                                                                                               1\n",
      "1987                                                                                                                                                                               1\n",
      "2001                                                                                                                                                                               1\n",
      "1989                                                                                                                                                                               1\n",
      "Name: count, dtype: int64\n",
      "----------------------------------------\n",
      "Occurrences for 'Latest household survey':\n",
      "Latest household survey\n",
      "Multiple Indicator Cluster Survey (MICS), 2012                                                                                                   10\n",
      "World Health Survey (WHS), 2003                                                                                                                  10\n",
      "Demographic and Health Survey (DHS), 2013                                                                                                        10\n",
      "Multiple Indicator Cluster Survey (MICS), 2011                                                                                                    9\n",
      "Multiple Indicator Cluster Survey (MICS), 2010                                                                                                    9\n",
      "Demographic and Health Survey (DHS), 2012                                                                                                         8\n",
      "Demographic and Health Survey (DHS), 2011                                                                                                         6\n",
      "Demographic and Health Survey (DHS), 2009                                                                                                         4\n",
      "Demographic and Health Survey (DHS), 2011/12                                                                                                      4\n",
      "Demographic and Health Survey (DHS), 2010                                                                                                         4\n",
      "Multiple Indicator Cluster Survey (MICS), 2011/12                                                                                                 4\n",
      "Multiple Indicator Cluster Survey (MICS), 2010/11                                                                                                 4\n",
      "Multiple Indicator Cluster Survey (MICS), 2006                                                                                                    4\n",
      "Demographic and Health Survey (DHS), 2008/09                                                                                                      2\n",
      "Demographic and Health Survey (DHS), 2008                                                                                                         2\n",
      "HIV/Maternal and Child Health (HIV/MCH) Service Provision Assessments (SPA), 2013                                                                 2\n",
      "Reproductive Health Survey (RHS), 2008                                                                                                            2\n",
      "Demographic and Health Survey (DHS), 2012/13                                                                                                      2\n",
      "Multiple Indicator Cluster Survey (MICS), 2000                                                                                                    2\n",
      "Malaria Indicator Survey (MIS), 2013                                                                                                              2\n",
      "Demographic and Health Survey (DHS), 2003; World Health Survey (WHS), 2003                                                                        2\n",
      "Demographic and Health Survey (DHS), 2005                                                                                                         1\n",
      "Demographic and Health Survey (DHS), 1988                                                                                                         1\n",
      "National Sample Survey on Population Change (NSS), 2007                                                                                           1\n",
      "Living Standards Measurement Study Survey (LSMS), 2007                                                                                            1\n",
      "Malaria Indicator Survey (MIS), 2012                                                                                                              1\n",
      "Demographic and Health Survey (DHS), 2006                                                                                                         1\n",
      "Malaria Indicator Survey (MIS), 2011                                                                                                              1\n",
      "Reproductive Health Survey (RHS), 1985                                                                                                            1\n",
      "Reproductive Health Survey (RHS), 2008/09                                                                                                         1\n",
      "Demographic and Health Survey (DHS), 2002                                                                                                         1\n",
      "Multiple Indicator Cluster Survey (MICS), 2005; Reproductive Health Survey (RHS), 2005                                                            1\n",
      "Reproductive Health Survey (RHS), 2004                                                                                                            1\n",
      "Malaria Indicator Survey (MIS), 2010; HIV/Maternal and Child Health (HIV/MCH) Service Provision Assessments (SPA), 2010                           1\n",
      "Family Health Survey (FHS), 1996                                                                                                                  1\n",
      "Demographic and Health Survey (DHS), 2005/06                                                                                                      1\n",
      "Multiple Indicator Cluster Survey (MICS)/Pan Arab Project for Family Health (PAPFAM), 2006                                                        1\n",
      "National Survey of Demographic Dynamics (ENADID), 2009                                                                                            1\n",
      "Multiple Indicator Cluster Survey (MICS), 2009/10                                                                                                 1\n",
      "Multiple Indicator Cluster Survey (MICS), 2005/06                                                                                                 1\n",
      "Reproductive Health Survey (RHS), 1991                                                                                                            1\n",
      "Reproductive Health Survey (RHS), 2006/2007                                                                                                       1\n",
      "Demographic and Health Survey (DHS), 2006/07                                                                                                      1\n",
      "Demographic and Health Survey (DHS), 2000                                                                                                         1\n",
      "Continuous Demographic and Health Survey (DHS), 2013                                                                                              1\n",
      "Living Standards Measurement Study Survey (LSMS), 2008                                                                                            1\n",
      "Reproductive Health Survey (RHS), 1995/96                                                                                                         1\n",
      "Living Standards Measurement Study Survey (LSMS), 1996                                                                                            1\n",
      "Reproductive Health Survey (RHS), 1999                                                                                                            1\n",
      "Demographic survey, 2007                                                                                                                          1\n",
      "Sudan Household Health Survey (SHHS), 2010                                                                                                        1\n",
      "Multiple Indicator Cluster Survey (MICS), 2009                                                                                                    1\n",
      "Continuous Demographic and Health Survey (DHS), 2013/14; HIV/Maternal and Child Health (HIV/MCH) Service Provision Assessments (SPA), 2013/14     1\n",
      "National Health Survey (NHS), 2010                                                                                                                1\n",
      "Demographic and Health Survey (DHS), 2013; Malaria Indicator Survey (MIS), 2013                                                                   1\n",
      "Demographic and Health Survey (DHS), 2009/10                                                                                                      1\n",
      "HIV/Maternal and Child Health (HIV/MCH) Service Provision Assessments (SPA), 2013/14                                                              1\n",
      "HIV/AIDS Indicator Survey (AIS), 2011; Demographic and Health Survey (DHS), 2011                                                                  1\n",
      "Multiple Indicator Cluster Survey (MICS), 2007                                                                                                    1\n",
      "Demographic and Health Survey (DHS), 2010/11                                                                                                      1\n",
      "Name: count, dtype: int64\n",
      "----------------------------------------\n",
      "Occurrences for 'Source of most recent Income and expenditure data':\n",
      "Source of most recent Income and expenditure data\n",
      "Integrated household survey (IHS), 2012                   15\n",
      "Integrated household survey (IHS), 2010                    9\n",
      "Integrated household survey (IHS), 2011                    9\n",
      "Expenditure survey/budget survey (ES/BS), 2012             7\n",
      "Integrated household survey (IHS), 2008                    7\n",
      "                                                          ..\n",
      "Living Standards Measurement Study Survey (LSMS), 1998     1\n",
      "Integrated household survey (IHS), 1992                    1\n",
      "Labor force survey (LFS), 2009                             1\n",
      "Expenditure survey/budget survey (ES/BS), 2011/12          1\n",
      "Integrated household survey (IHS), 2011/12                 1\n",
      "Name: count, Length: 75, dtype: int64\n",
      "----------------------------------------\n",
      "Occurrences for 'Vital registration complete':\n",
      "Vital registration complete\n",
      "Yes                                                 109\n",
      "Yes. Vital registration for Guernsey and Jersey.      1\n",
      "Name: count, dtype: int64\n",
      "----------------------------------------\n",
      "Occurrences for 'Latest agricultural census':\n",
      "Latest agricultural census\n",
      "2010                                    36\n",
      "2007                                    16\n",
      "2013                                    13\n",
      "2012                                    10\n",
      "2011                                     9\n",
      "2014                                     7\n",
      "2008                                     5\n",
      "2009                                     5\n",
      "2013/ 2014                               4\n",
      "2010. Population and Housing Census.     3\n",
      "2015                                     3\n",
      "2013/14                                  2\n",
      "2011/12                                  2\n",
      "2012/13                                  2\n",
      "2011. Population and Housing Census.     2\n",
      "2008/ 2009                               2\n",
      "2011/2012                                2\n",
      "2011/ 2012                               2\n",
      "2006                                     1\n",
      "2013/15                                  1\n",
      "2009/2010                                1\n",
      "2010/11                                  1\n",
      "2009. Population and Housing Census.     1\n",
      "2013/2014                                1\n",
      "2009/ 2010                               1\n",
      "2006/ 2007                               1\n",
      "2008. Population and Housing Census.     1\n",
      "2004-2008                                1\n",
      "2012/ 2013                               1\n",
      "2007/2008                                1\n",
      "2007. Population and Housing Census.     1\n",
      "2010/ 2011                               1\n",
      "2014/ 2015                               1\n",
      "2007/08                                  1\n",
      "2012 /2013                               1\n",
      "Name: count, dtype: int64\n",
      "----------------------------------------\n",
      "Occurrences for 'Latest industrial data':\n",
      "Latest industrial data\n",
      "2010.0    42\n",
      "2009.0    27\n",
      "2008.0    11\n",
      "2006.0     8\n",
      "2007.0     6\n",
      "2002.0     4\n",
      "2001.0     3\n",
      "2003.0     2\n",
      "2000.0     2\n",
      "2005.0     1\n",
      "2004.0     1\n",
      "Name: count, dtype: int64\n",
      "----------------------------------------\n",
      "Occurrences for 'Latest trade data':\n",
      "Latest trade data\n",
      "2012.0    135\n",
      "2011.0     19\n",
      "2010.0      7\n",
      "2009.0      7\n",
      "2008.0      4\n",
      "2007.0      3\n",
      "2006.0      2\n",
      "2005.0      2\n",
      "2000.0      2\n",
      "2003.0      1\n",
      "1997.0      1\n",
      "2002.0      1\n",
      "1995.0      1\n",
      "Name: count, dtype: int64\n",
      "----------------------------------------\n",
      "Occurrences for 'Latest water withdrawal data':\n",
      "Latest water withdrawal data\n",
      "2000                           40\n",
      "2005                           40\n",
      "2007                           18\n",
      "2002                           16\n",
      "2009                           12\n",
      "2006                           10\n",
      "2001                           10\n",
      "2008                            6\n",
      "2003                            6\n",
      "2004                            6\n",
      "2010                            4\n",
      "1999                            2\n",
      "1993                            2\n",
      "1994                            1\n",
      "1986                            1\n",
      "1997                            1\n",
      "1979                            1\n",
      "2005. Includes South Sudan.     1\n",
      "1975                            1\n",
      "1995                            1\n",
      "Name: count, dtype: int64\n",
      "----------------------------------------\n"
     ]
    }
   ],
   "source": [
    "#calculez le nombre d'occurrences : \n",
    "\n",
    "columns = [\n",
    "    'Government Accounting concept', 'IMF data dissemination standard',\n",
    "    'Latest population census', 'Latest household survey',\n",
    "    'Source of most recent Income and expenditure data',\n",
    "    'Vital registration complete', 'Latest agricultural census',\n",
    "    'Latest industrial data', 'Latest trade data',\n",
    "    'Latest water withdrawal data'\n",
    "]\n",
    "\n",
    "\n",
    "for col in columns:\n",
    "    count = data_edSC_csv[col].value_counts()\n",
    "    print(f\"Occurrences for '{col}':\")\n",
    "    print(count)\n",
    "    print(\"-\" * 40)  \n"
   ]
  },
  {
   "cell_type": "code",
   "execution_count": 38,
   "id": "739a3562-6320-47b8-9230-1d217263f9bd",
   "metadata": {},
   "outputs": [
    {
     "data": {
      "image/png": "[encoded data removed]",
      "text/plain": [
       "<Figure size 640x480 with 1 Axes>"
      ]
     },
     "metadata": {},
     "output_type": "display_data"
    }
   ],
   "source": [
    "# Diagramme en secteurs\n",
    "ax = data_edSC_csv[\"IMF data dissemination standard\"].value_counts(normalize=True).plot(\n",
    "    kind='pie',\n",
    "    autopct='%1.1f%%', \n",
    "    fontsize=8         \n",
    ")\n",
    "\n",
    "ax.legend(\n",
    "    labels=data_edSC_csv[\"IMF data dissemination standard\"].value_counts(normalize=True).index, \n",
    "    loc='center left',    \n",
    "    bbox_to_anchor=(1.5, 0.5),  \n",
    "    fontsize=9            \n",
    ")\n",
    "\n",
    "\n",
    "plt.axis('equal') \n",
    "plt.show() \n"
   ]
  },
  {
   "cell_type": "markdown",
   "id": "2b6dcff8-9b59-465b-b00c-8f517a5fcebf",
   "metadata": {},
   "source": [
    "<hr style=\"border: 1px solid #C4341A;\">"
   ]
  },
  {
   "cell_type": "markdown",
   "id": "4ed54c4b-8df9-41cb-940c-dba9ca4fa518",
   "metadata": {},
   "source": [
    "<h2 style=\"color:#C4341A;\"> Importation EdStatsData </h2>\n",
    "\n",
    "<blockquote style=\"background-color:#f9f9f9; color:#333; border-left:5px solid #007BFF; padding:10px;\">\n",
    "Chaque ligne correspond à un pays avec son code de série unique</blockquote>\n",
    "\n"
   ]
  },
  {
   "cell_type": "code",
   "execution_count": 39,
   "id": "364e37d7-504e-4713-866d-788e6c3ec05e",
   "metadata": {},
   "outputs": [
    {
     "data": {
      "text/html": [
       "<div>\n",
       "<style scoped>\n",
       "    .dataframe tbody tr th:only-of-type {\n",
       "        vertical-align: middle;\n",
       "    }\n",
       "\n",
       "    .dataframe tbody tr th {\n",
       "        vertical-align: top;\n",
       "    }\n",
       "\n",
       "    .dataframe thead th {\n",
       "        text-align: right;\n",
       "    }\n",
       "</style>\n",
       "<table border=\"1\" class=\"dataframe\">\n",
       "  <thead>\n",
       "    <tr style=\"text-align: right;\">\n",
       "      <th></th>\n",
       "      <th>Country Name</th>\n",
       "      <th>Country Code</th>\n",
       "      <th>Indicator Name</th>\n",
       "      <th>Indicator Code</th>\n",
       "      <th>1970</th>\n",
       "      <th>1971</th>\n",
       "      <th>1972</th>\n",
       "      <th>1973</th>\n",
       "      <th>1974</th>\n",
       "      <th>1975</th>\n",
       "      <th>...</th>\n",
       "      <th>2060</th>\n",
       "      <th>2065</th>\n",
       "      <th>2070</th>\n",
       "      <th>2075</th>\n",
       "      <th>2080</th>\n",
       "      <th>2085</th>\n",
       "      <th>2090</th>\n",
       "      <th>2095</th>\n",
       "      <th>2100</th>\n",
       "      <th>Unnamed: 69</th>\n",
       "    </tr>\n",
       "  </thead>\n",
       "  <tbody>\n",
       "    <tr>\n",
       "      <th>0</th>\n",
       "      <td>Arab World</td>\n",
       "      <td>ARB</td>\n",
       "      <td>Adjusted net enrolment rate, lower secondary, ...</td>\n",
       "      <td>UIS.NERA.2</td>\n",
       "      <td>NaN</td>\n",
       "      <td>NaN</td>\n",
       "      <td>NaN</td>\n",
       "      <td>NaN</td>\n",
       "      <td>NaN</td>\n",
       "      <td>NaN</td>\n",
       "      <td>...</td>\n",
       "      <td>NaN</td>\n",
       "      <td>NaN</td>\n",
       "      <td>NaN</td>\n",
       "      <td>NaN</td>\n",
       "      <td>NaN</td>\n",
       "      <td>NaN</td>\n",
       "      <td>NaN</td>\n",
       "      <td>NaN</td>\n",
       "      <td>NaN</td>\n",
       "      <td>NaN</td>\n",
       "    </tr>\n",
       "    <tr>\n",
       "      <th>1</th>\n",
       "      <td>Arab World</td>\n",
       "      <td>ARB</td>\n",
       "      <td>Adjusted net enrolment rate, lower secondary, ...</td>\n",
       "      <td>UIS.NERA.2.F</td>\n",
       "      <td>NaN</td>\n",
       "      <td>NaN</td>\n",
       "      <td>NaN</td>\n",
       "      <td>NaN</td>\n",
       "      <td>NaN</td>\n",
       "      <td>NaN</td>\n",
       "      <td>...</td>\n",
       "      <td>NaN</td>\n",
       "      <td>NaN</td>\n",
       "      <td>NaN</td>\n",
       "      <td>NaN</td>\n",
       "      <td>NaN</td>\n",
       "      <td>NaN</td>\n",
       "      <td>NaN</td>\n",
       "      <td>NaN</td>\n",
       "      <td>NaN</td>\n",
       "      <td>NaN</td>\n",
       "    </tr>\n",
       "    <tr>\n",
       "      <th>2</th>\n",
       "      <td>Arab World</td>\n",
       "      <td>ARB</td>\n",
       "      <td>Adjusted net enrolment rate, lower secondary, ...</td>\n",
       "      <td>UIS.NERA.2.GPI</td>\n",
       "      <td>NaN</td>\n",
       "      <td>NaN</td>\n",
       "      <td>NaN</td>\n",
       "      <td>NaN</td>\n",
       "      <td>NaN</td>\n",
       "      <td>NaN</td>\n",
       "      <td>...</td>\n",
       "      <td>NaN</td>\n",
       "      <td>NaN</td>\n",
       "      <td>NaN</td>\n",
       "      <td>NaN</td>\n",
       "      <td>NaN</td>\n",
       "      <td>NaN</td>\n",
       "      <td>NaN</td>\n",
       "      <td>NaN</td>\n",
       "      <td>NaN</td>\n",
       "      <td>NaN</td>\n",
       "    </tr>\n",
       "    <tr>\n",
       "      <th>3</th>\n",
       "      <td>Arab World</td>\n",
       "      <td>ARB</td>\n",
       "      <td>Adjusted net enrolment rate, lower secondary, ...</td>\n",
       "      <td>UIS.NERA.2.M</td>\n",
       "      <td>NaN</td>\n",
       "      <td>NaN</td>\n",
       "      <td>NaN</td>\n",
       "      <td>NaN</td>\n",
       "      <td>NaN</td>\n",
       "      <td>NaN</td>\n",
       "      <td>...</td>\n",
       "      <td>NaN</td>\n",
       "      <td>NaN</td>\n",
       "      <td>NaN</td>\n",
       "      <td>NaN</td>\n",
       "      <td>NaN</td>\n",
       "      <td>NaN</td>\n",
       "      <td>NaN</td>\n",
       "      <td>NaN</td>\n",
       "      <td>NaN</td>\n",
       "      <td>NaN</td>\n",
       "    </tr>\n",
       "    <tr>\n",
       "      <th>4</th>\n",
       "      <td>Arab World</td>\n",
       "      <td>ARB</td>\n",
       "      <td>Adjusted net enrolment rate, primary, both sex...</td>\n",
       "      <td>SE.PRM.TENR</td>\n",
       "      <td>54.822121</td>\n",
       "      <td>54.894138</td>\n",
       "      <td>56.209438</td>\n",
       "      <td>57.267109</td>\n",
       "      <td>57.991138</td>\n",
       "      <td>59.36554</td>\n",
       "      <td>...</td>\n",
       "      <td>NaN</td>\n",
       "      <td>NaN</td>\n",
       "      <td>NaN</td>\n",
       "      <td>NaN</td>\n",
       "      <td>NaN</td>\n",
       "      <td>NaN</td>\n",
       "      <td>NaN</td>\n",
       "      <td>NaN</td>\n",
       "      <td>NaN</td>\n",
       "      <td>NaN</td>\n",
       "    </tr>\n",
       "  </tbody>\n",
       "</table>\n",
       "<p>5 rows × 70 columns</p>\n",
       "</div>"
      ],
      "text/plain": [
       "  Country Name Country Code  \\\n",
       "0   Arab World          ARB   \n",
       "1   Arab World          ARB   \n",
       "2   Arab World          ARB   \n",
       "3   Arab World          ARB   \n",
       "4   Arab World          ARB   \n",
       "\n",
       "                                      Indicator Name  Indicator Code  \\\n",
       "0  Adjusted net enrolment rate, lower secondary, ...      UIS.NERA.2   \n",
       "1  Adjusted net enrolment rate, lower secondary, ...    UIS.NERA.2.F   \n",
       "2  Adjusted net enrolment rate, lower secondary, ...  UIS.NERA.2.GPI   \n",
       "3  Adjusted net enrolment rate, lower secondary, ...    UIS.NERA.2.M   \n",
       "4  Adjusted net enrolment rate, primary, both sex...     SE.PRM.TENR   \n",
       "\n",
       "        1970       1971       1972       1973       1974      1975  ...  2060  \\\n",
       "0        NaN        NaN        NaN        NaN        NaN       NaN  ...   NaN   \n",
       "1        NaN        NaN        NaN        NaN        NaN       NaN  ...   NaN   \n",
       "2        NaN        NaN        NaN        NaN        NaN       NaN  ...   NaN   \n",
       "3        NaN        NaN        NaN        NaN        NaN       NaN  ...   NaN   \n",
       "4  54.822121  54.894138  56.209438  57.267109  57.991138  59.36554  ...   NaN   \n",
       "\n",
       "   2065  2070  2075  2080  2085  2090  2095  2100  Unnamed: 69  \n",
       "0   NaN   NaN   NaN   NaN   NaN   NaN   NaN   NaN          NaN  \n",
       "1   NaN   NaN   NaN   NaN   NaN   NaN   NaN   NaN          NaN  \n",
       "2   NaN   NaN   NaN   NaN   NaN   NaN   NaN   NaN          NaN  \n",
       "3   NaN   NaN   NaN   NaN   NaN   NaN   NaN   NaN          NaN  \n",
       "4   NaN   NaN   NaN   NaN   NaN   NaN   NaN   NaN          NaN  \n",
       "\n",
       "[5 rows x 70 columns]"
      ]
     },
     "execution_count": 39,
     "metadata": {},
     "output_type": "execute_result"
    }
   ],
   "source": [
    "data_edSD_csv = pd.read_csv('EdStatsData.csv')\n",
    "\n",
    "data_edSD_csv.head() "
   ]
  },
  {
   "cell_type": "code",
   "execution_count": 40,
   "id": "096f5bc6-98f7-4588-83c0-e4e625d6ded8",
   "metadata": {},
   "outputs": [
    {
     "data": {
      "text/plain": [
       "(886930, 70)"
      ]
     },
     "execution_count": 40,
     "metadata": {},
     "output_type": "execute_result"
    }
   ],
   "source": [
    "data_edSD_csv.shape"
   ]
  },
  {
   "cell_type": "markdown",
   "id": "bdc6b803-2b59-4326-8f8b-744716c34902",
   "metadata": {},
   "source": [
    "nous avons 886930 ligne de pays, avec 70 variables différentes :\n",
    "\n",
    "- Country Name : Le nom complet du pays.\n",
    "- Country Code : Le code abrégé à 3 lettres du pays, acronyme.\n",
    "- Indicator Name : Le nom descriptif de l'indicateur, qui indique ce que la donnée représente.\n",
    "- Indicator Code :\n",
    "- Dates : Correspond au moment où le pays posséde des données "
   ]
  },
  {
   "cell_type": "markdown",
   "id": "3f584ff1-2c80-4f0a-9b4a-170cf3055b80",
   "metadata": {},
   "source": [
    "### Suppression des colonnes inutiles"
   ]
  },
  {
   "cell_type": "code",
   "execution_count": 41,
   "id": "7f27e93f-c856-4220-8ad0-c0c535e91d2e",
   "metadata": {},
   "outputs": [],
   "source": [
    "#Colonne inutile\n",
    "data_edSD_csv = data_edSD_csv.drop(columns=['Unnamed: 69'])"
   ]
  },
  {
   "cell_type": "markdown",
   "id": "a45c9cc6-0e10-4423-82d8-46135879cae8",
   "metadata": {},
   "source": [
    "### Suppression des lignes inutiles"
   ]
  },
  {
   "cell_type": "code",
   "execution_count": 42,
   "id": "319a6cdd-41f0-4bb2-b1fd-6319ceb18ad9",
   "metadata": {},
   "outputs": [
    {
     "data": {
      "text/html": [
       "<div>\n",
       "<style scoped>\n",
       "    .dataframe tbody tr th:only-of-type {\n",
       "        vertical-align: middle;\n",
       "    }\n",
       "\n",
       "    .dataframe tbody tr th {\n",
       "        vertical-align: top;\n",
       "    }\n",
       "\n",
       "    .dataframe thead th {\n",
       "        text-align: right;\n",
       "    }\n",
       "</style>\n",
       "<table border=\"1\" class=\"dataframe\">\n",
       "  <thead>\n",
       "    <tr style=\"text-align: right;\">\n",
       "      <th></th>\n",
       "      <th>Country Name</th>\n",
       "      <th>Country Code</th>\n",
       "      <th>Indicator Name</th>\n",
       "      <th>Indicator Code</th>\n",
       "      <th>1970</th>\n",
       "      <th>1971</th>\n",
       "      <th>1972</th>\n",
       "      <th>1973</th>\n",
       "      <th>1974</th>\n",
       "      <th>1975</th>\n",
       "      <th>...</th>\n",
       "      <th>2055</th>\n",
       "      <th>2060</th>\n",
       "      <th>2065</th>\n",
       "      <th>2070</th>\n",
       "      <th>2075</th>\n",
       "      <th>2080</th>\n",
       "      <th>2085</th>\n",
       "      <th>2090</th>\n",
       "      <th>2095</th>\n",
       "      <th>2100</th>\n",
       "    </tr>\n",
       "  </thead>\n",
       "  <tbody>\n",
       "    <tr>\n",
       "      <th>4</th>\n",
       "      <td>Arab World</td>\n",
       "      <td>ARB</td>\n",
       "      <td>Adjusted net enrolment rate, primary, both sex...</td>\n",
       "      <td>SE.PRM.TENR</td>\n",
       "      <td>54.822121</td>\n",
       "      <td>54.894138</td>\n",
       "      <td>56.209438</td>\n",
       "      <td>57.267109</td>\n",
       "      <td>57.991138</td>\n",
       "      <td>59.365540</td>\n",
       "      <td>...</td>\n",
       "      <td>NaN</td>\n",
       "      <td>NaN</td>\n",
       "      <td>NaN</td>\n",
       "      <td>NaN</td>\n",
       "      <td>NaN</td>\n",
       "      <td>NaN</td>\n",
       "      <td>NaN</td>\n",
       "      <td>NaN</td>\n",
       "      <td>NaN</td>\n",
       "      <td>NaN</td>\n",
       "    </tr>\n",
       "    <tr>\n",
       "      <th>5</th>\n",
       "      <td>Arab World</td>\n",
       "      <td>ARB</td>\n",
       "      <td>Adjusted net enrolment rate, primary, female (%)</td>\n",
       "      <td>SE.PRM.TENR.FE</td>\n",
       "      <td>43.351101</td>\n",
       "      <td>43.318150</td>\n",
       "      <td>44.640701</td>\n",
       "      <td>45.845718</td>\n",
       "      <td>46.449501</td>\n",
       "      <td>48.363892</td>\n",
       "      <td>...</td>\n",
       "      <td>NaN</td>\n",
       "      <td>NaN</td>\n",
       "      <td>NaN</td>\n",
       "      <td>NaN</td>\n",
       "      <td>NaN</td>\n",
       "      <td>NaN</td>\n",
       "      <td>NaN</td>\n",
       "      <td>NaN</td>\n",
       "      <td>NaN</td>\n",
       "      <td>NaN</td>\n",
       "    </tr>\n",
       "    <tr>\n",
       "      <th>6</th>\n",
       "      <td>Arab World</td>\n",
       "      <td>ARB</td>\n",
       "      <td>Adjusted net enrolment rate, primary, gender p...</td>\n",
       "      <td>UIS.NERA.1.GPI</td>\n",
       "      <td>0.658570</td>\n",
       "      <td>0.656400</td>\n",
       "      <td>0.663290</td>\n",
       "      <td>0.672040</td>\n",
       "      <td>0.672610</td>\n",
       "      <td>0.691760</td>\n",
       "      <td>...</td>\n",
       "      <td>NaN</td>\n",
       "      <td>NaN</td>\n",
       "      <td>NaN</td>\n",
       "      <td>NaN</td>\n",
       "      <td>NaN</td>\n",
       "      <td>NaN</td>\n",
       "      <td>NaN</td>\n",
       "      <td>NaN</td>\n",
       "      <td>NaN</td>\n",
       "      <td>NaN</td>\n",
       "    </tr>\n",
       "    <tr>\n",
       "      <th>7</th>\n",
       "      <td>Arab World</td>\n",
       "      <td>ARB</td>\n",
       "      <td>Adjusted net enrolment rate, primary, male (%)</td>\n",
       "      <td>SE.PRM.TENR.MA</td>\n",
       "      <td>65.826233</td>\n",
       "      <td>65.993584</td>\n",
       "      <td>67.301857</td>\n",
       "      <td>68.219078</td>\n",
       "      <td>69.059013</td>\n",
       "      <td>69.914551</td>\n",
       "      <td>...</td>\n",
       "      <td>NaN</td>\n",
       "      <td>NaN</td>\n",
       "      <td>NaN</td>\n",
       "      <td>NaN</td>\n",
       "      <td>NaN</td>\n",
       "      <td>NaN</td>\n",
       "      <td>NaN</td>\n",
       "      <td>NaN</td>\n",
       "      <td>NaN</td>\n",
       "      <td>NaN</td>\n",
       "    </tr>\n",
       "    <tr>\n",
       "      <th>12</th>\n",
       "      <td>Arab World</td>\n",
       "      <td>ARB</td>\n",
       "      <td>Adjusted net intake rate to Grade 1 of primary...</td>\n",
       "      <td>UIS.NIRA.1</td>\n",
       "      <td>52.448921</td>\n",
       "      <td>52.489750</td>\n",
       "      <td>52.635593</td>\n",
       "      <td>53.327000</td>\n",
       "      <td>54.184654</td>\n",
       "      <td>54.865627</td>\n",
       "      <td>...</td>\n",
       "      <td>NaN</td>\n",
       "      <td>NaN</td>\n",
       "      <td>NaN</td>\n",
       "      <td>NaN</td>\n",
       "      <td>NaN</td>\n",
       "      <td>NaN</td>\n",
       "      <td>NaN</td>\n",
       "      <td>NaN</td>\n",
       "      <td>NaN</td>\n",
       "      <td>NaN</td>\n",
       "    </tr>\n",
       "  </tbody>\n",
       "</table>\n",
       "<p>5 rows × 69 columns</p>\n",
       "</div>"
      ],
      "text/plain": [
       "   Country Name Country Code  \\\n",
       "4    Arab World          ARB   \n",
       "5    Arab World          ARB   \n",
       "6    Arab World          ARB   \n",
       "7    Arab World          ARB   \n",
       "12   Arab World          ARB   \n",
       "\n",
       "                                       Indicator Name  Indicator Code  \\\n",
       "4   Adjusted net enrolment rate, primary, both sex...     SE.PRM.TENR   \n",
       "5    Adjusted net enrolment rate, primary, female (%)  SE.PRM.TENR.FE   \n",
       "6   Adjusted net enrolment rate, primary, gender p...  UIS.NERA.1.GPI   \n",
       "7      Adjusted net enrolment rate, primary, male (%)  SE.PRM.TENR.MA   \n",
       "12  Adjusted net intake rate to Grade 1 of primary...      UIS.NIRA.1   \n",
       "\n",
       "         1970       1971       1972       1973       1974       1975  ...  \\\n",
       "4   54.822121  54.894138  56.209438  57.267109  57.991138  59.365540  ...   \n",
       "5   43.351101  43.318150  44.640701  45.845718  46.449501  48.363892  ...   \n",
       "6    0.658570   0.656400   0.663290   0.672040   0.672610   0.691760  ...   \n",
       "7   65.826233  65.993584  67.301857  68.219078  69.059013  69.914551  ...   \n",
       "12  52.448921  52.489750  52.635593  53.327000  54.184654  54.865627  ...   \n",
       "\n",
       "    2055  2060  2065  2070  2075  2080  2085  2090  2095  2100  \n",
       "4    NaN   NaN   NaN   NaN   NaN   NaN   NaN   NaN   NaN   NaN  \n",
       "5    NaN   NaN   NaN   NaN   NaN   NaN   NaN   NaN   NaN   NaN  \n",
       "6    NaN   NaN   NaN   NaN   NaN   NaN   NaN   NaN   NaN   NaN  \n",
       "7    NaN   NaN   NaN   NaN   NaN   NaN   NaN   NaN   NaN   NaN  \n",
       "12   NaN   NaN   NaN   NaN   NaN   NaN   NaN   NaN   NaN   NaN  \n",
       "\n",
       "[5 rows x 69 columns]"
      ]
     },
     "execution_count": 42,
     "metadata": {},
     "output_type": "execute_result"
    }
   ],
   "source": [
    "excluded_columns = [\"Country Name\", \"Country Code\", \"Indicator Name\", \"Indicator Code\"]\n",
    "\n",
    "columns_to_check = data_edSD_csv.columns.difference(excluded_columns)\n",
    "\n",
    "data_edSD_csv = data_edSD_csv[data_edSD_csv[columns_to_check].notna().any(axis=1)]\n",
    "\n",
    "data_edSD_csv.head()"
   ]
  },
  {
   "cell_type": "markdown",
   "id": "0fbf5418-5361-4576-9162-276012eca875",
   "metadata": {},
   "source": [
    "### 1. Erreurs de type\n",
    "\n",
    "Regarder si toutes les colonnes sont correct par rapport au type qu'elle comporte :"
   ]
  },
  {
   "cell_type": "code",
   "execution_count": 43,
   "id": "ca4c1c46-4ebd-4981-8737-13f2c5f1f571",
   "metadata": {},
   "outputs": [
    {
     "data": {
      "text/plain": [
       "Country Name       object\n",
       "Country Code       object\n",
       "Indicator Name     object\n",
       "Indicator Code     object\n",
       "1970              float64\n",
       "                   ...   \n",
       "2080              float64\n",
       "2085              float64\n",
       "2090              float64\n",
       "2095              float64\n",
       "2100              float64\n",
       "Length: 69, dtype: object"
      ]
     },
     "execution_count": 43,
     "metadata": {},
     "output_type": "execute_result"
    }
   ],
   "source": [
    "data_edSD_csv.dtypes"
   ]
  },
  {
   "cell_type": "markdown",
   "id": "adae5fc2-df33-4796-b976-e6bff240574a",
   "metadata": {},
   "source": [
    "Toutes les cathégories sont de type objet ce qui est correct\n",
    "\n",
    "Nous remarquons aussi que certain pays mentionnés sont de faux pays, ou des groupes de pays. DOnc nous allons garder que les vrais pays"
   ]
  },
  {
   "cell_type": "code",
   "execution_count": 44,
   "id": "89935a9b-bb88-44d2-9761-b0c2db783d25",
   "metadata": {},
   "outputs": [
    {
     "data": {
      "text/html": [
       "<div>\n",
       "<style scoped>\n",
       "    .dataframe tbody tr th:only-of-type {\n",
       "        vertical-align: middle;\n",
       "    }\n",
       "\n",
       "    .dataframe tbody tr th {\n",
       "        vertical-align: top;\n",
       "    }\n",
       "\n",
       "    .dataframe thead th {\n",
       "        text-align: right;\n",
       "    }\n",
       "</style>\n",
       "<table border=\"1\" class=\"dataframe\">\n",
       "  <thead>\n",
       "    <tr style=\"text-align: right;\">\n",
       "      <th></th>\n",
       "      <th>Country Name</th>\n",
       "      <th>Country Code</th>\n",
       "      <th>Indicator Name</th>\n",
       "      <th>Indicator Code</th>\n",
       "      <th>1970</th>\n",
       "      <th>1971</th>\n",
       "      <th>1972</th>\n",
       "      <th>1973</th>\n",
       "      <th>1974</th>\n",
       "      <th>1975</th>\n",
       "      <th>...</th>\n",
       "      <th>2055</th>\n",
       "      <th>2060</th>\n",
       "      <th>2065</th>\n",
       "      <th>2070</th>\n",
       "      <th>2075</th>\n",
       "      <th>2080</th>\n",
       "      <th>2085</th>\n",
       "      <th>2090</th>\n",
       "      <th>2095</th>\n",
       "      <th>2100</th>\n",
       "    </tr>\n",
       "  </thead>\n",
       "  <tbody>\n",
       "    <tr>\n",
       "      <th>91625</th>\n",
       "      <td>Afghanistan</td>\n",
       "      <td>AFG</td>\n",
       "      <td>Adjusted net enrolment rate, lower secondary, ...</td>\n",
       "      <td>UIS.NERA.2</td>\n",
       "      <td>NaN</td>\n",
       "      <td>NaN</td>\n",
       "      <td>NaN</td>\n",
       "      <td>NaN</td>\n",
       "      <td>7.05911</td>\n",
       "      <td>NaN</td>\n",
       "      <td>...</td>\n",
       "      <td>NaN</td>\n",
       "      <td>NaN</td>\n",
       "      <td>NaN</td>\n",
       "      <td>NaN</td>\n",
       "      <td>NaN</td>\n",
       "      <td>NaN</td>\n",
       "      <td>NaN</td>\n",
       "      <td>NaN</td>\n",
       "      <td>NaN</td>\n",
       "      <td>NaN</td>\n",
       "    </tr>\n",
       "    <tr>\n",
       "      <th>91626</th>\n",
       "      <td>Afghanistan</td>\n",
       "      <td>AFG</td>\n",
       "      <td>Adjusted net enrolment rate, lower secondary, ...</td>\n",
       "      <td>UIS.NERA.2.F</td>\n",
       "      <td>NaN</td>\n",
       "      <td>NaN</td>\n",
       "      <td>NaN</td>\n",
       "      <td>NaN</td>\n",
       "      <td>2.53138</td>\n",
       "      <td>NaN</td>\n",
       "      <td>...</td>\n",
       "      <td>NaN</td>\n",
       "      <td>NaN</td>\n",
       "      <td>NaN</td>\n",
       "      <td>NaN</td>\n",
       "      <td>NaN</td>\n",
       "      <td>NaN</td>\n",
       "      <td>NaN</td>\n",
       "      <td>NaN</td>\n",
       "      <td>NaN</td>\n",
       "      <td>NaN</td>\n",
       "    </tr>\n",
       "    <tr>\n",
       "      <th>91627</th>\n",
       "      <td>Afghanistan</td>\n",
       "      <td>AFG</td>\n",
       "      <td>Adjusted net enrolment rate, lower secondary, ...</td>\n",
       "      <td>UIS.NERA.2.GPI</td>\n",
       "      <td>NaN</td>\n",
       "      <td>NaN</td>\n",
       "      <td>NaN</td>\n",
       "      <td>NaN</td>\n",
       "      <td>0.22154</td>\n",
       "      <td>NaN</td>\n",
       "      <td>...</td>\n",
       "      <td>NaN</td>\n",
       "      <td>NaN</td>\n",
       "      <td>NaN</td>\n",
       "      <td>NaN</td>\n",
       "      <td>NaN</td>\n",
       "      <td>NaN</td>\n",
       "      <td>NaN</td>\n",
       "      <td>NaN</td>\n",
       "      <td>NaN</td>\n",
       "      <td>NaN</td>\n",
       "    </tr>\n",
       "    <tr>\n",
       "      <th>91628</th>\n",
       "      <td>Afghanistan</td>\n",
       "      <td>AFG</td>\n",
       "      <td>Adjusted net enrolment rate, lower secondary, ...</td>\n",
       "      <td>UIS.NERA.2.M</td>\n",
       "      <td>NaN</td>\n",
       "      <td>NaN</td>\n",
       "      <td>NaN</td>\n",
       "      <td>NaN</td>\n",
       "      <td>11.42652</td>\n",
       "      <td>NaN</td>\n",
       "      <td>...</td>\n",
       "      <td>NaN</td>\n",
       "      <td>NaN</td>\n",
       "      <td>NaN</td>\n",
       "      <td>NaN</td>\n",
       "      <td>NaN</td>\n",
       "      <td>NaN</td>\n",
       "      <td>NaN</td>\n",
       "      <td>NaN</td>\n",
       "      <td>NaN</td>\n",
       "      <td>NaN</td>\n",
       "    </tr>\n",
       "    <tr>\n",
       "      <th>91631</th>\n",
       "      <td>Afghanistan</td>\n",
       "      <td>AFG</td>\n",
       "      <td>Adjusted net enrolment rate, primary, gender p...</td>\n",
       "      <td>UIS.NERA.1.GPI</td>\n",
       "      <td>NaN</td>\n",
       "      <td>NaN</td>\n",
       "      <td>NaN</td>\n",
       "      <td>NaN</td>\n",
       "      <td>0.19066</td>\n",
       "      <td>NaN</td>\n",
       "      <td>...</td>\n",
       "      <td>NaN</td>\n",
       "      <td>NaN</td>\n",
       "      <td>NaN</td>\n",
       "      <td>NaN</td>\n",
       "      <td>NaN</td>\n",
       "      <td>NaN</td>\n",
       "      <td>NaN</td>\n",
       "      <td>NaN</td>\n",
       "      <td>NaN</td>\n",
       "      <td>NaN</td>\n",
       "    </tr>\n",
       "  </tbody>\n",
       "</table>\n",
       "<p>5 rows × 69 columns</p>\n",
       "</div>"
      ],
      "text/plain": [
       "      Country Name Country Code  \\\n",
       "91625  Afghanistan          AFG   \n",
       "91626  Afghanistan          AFG   \n",
       "91627  Afghanistan          AFG   \n",
       "91628  Afghanistan          AFG   \n",
       "91631  Afghanistan          AFG   \n",
       "\n",
       "                                          Indicator Name  Indicator Code  \\\n",
       "91625  Adjusted net enrolment rate, lower secondary, ...      UIS.NERA.2   \n",
       "91626  Adjusted net enrolment rate, lower secondary, ...    UIS.NERA.2.F   \n",
       "91627  Adjusted net enrolment rate, lower secondary, ...  UIS.NERA.2.GPI   \n",
       "91628  Adjusted net enrolment rate, lower secondary, ...    UIS.NERA.2.M   \n",
       "91631  Adjusted net enrolment rate, primary, gender p...  UIS.NERA.1.GPI   \n",
       "\n",
       "       1970  1971  1972  1973      1974  1975  ...  2055  2060  2065  2070  \\\n",
       "91625   NaN   NaN   NaN   NaN   7.05911   NaN  ...   NaN   NaN   NaN   NaN   \n",
       "91626   NaN   NaN   NaN   NaN   2.53138   NaN  ...   NaN   NaN   NaN   NaN   \n",
       "91627   NaN   NaN   NaN   NaN   0.22154   NaN  ...   NaN   NaN   NaN   NaN   \n",
       "91628   NaN   NaN   NaN   NaN  11.42652   NaN  ...   NaN   NaN   NaN   NaN   \n",
       "91631   NaN   NaN   NaN   NaN   0.19066   NaN  ...   NaN   NaN   NaN   NaN   \n",
       "\n",
       "       2075  2080  2085  2090  2095  2100  \n",
       "91625   NaN   NaN   NaN   NaN   NaN   NaN  \n",
       "91626   NaN   NaN   NaN   NaN   NaN   NaN  \n",
       "91627   NaN   NaN   NaN   NaN   NaN   NaN  \n",
       "91628   NaN   NaN   NaN   NaN   NaN   NaN  \n",
       "91631   NaN   NaN   NaN   NaN   NaN   NaN  \n",
       "\n",
       "[5 rows x 69 columns]"
      ]
     },
     "execution_count": 44,
     "metadata": {},
     "output_type": "execute_result"
    }
   ],
   "source": [
    "data_edSD_csv = data_edSD_csv[data_edSD_csv['Country Code'].isin(valid_countries)]\n",
    "\n",
    "data_edSD_csv.head() "
   ]
  },
  {
   "cell_type": "markdown",
   "id": "61654a6c-da7a-4afe-8662-c66e0416bcef",
   "metadata": {},
   "source": [
    "### 2. Valeur manquante"
   ]
  },
  {
   "cell_type": "code",
   "execution_count": 45,
   "id": "06a44249-7a62-4a23-a35f-ab29191180f4",
   "metadata": {},
   "outputs": [
    {
     "data": {
      "text/plain": [
       "Country Name           0\n",
       "Country Code           0\n",
       "Indicator Name         0\n",
       "Indicator Code         0\n",
       "1970              277967\n",
       "                   ...  \n",
       "2080              295381\n",
       "2085              295381\n",
       "2090              295381\n",
       "2095              295381\n",
       "2100              295381\n",
       "Length: 69, dtype: int64"
      ]
     },
     "execution_count": 45,
     "metadata": {},
     "output_type": "execute_result"
    }
   ],
   "source": [
    "data_edSD_csv.isnull().sum()"
   ]
  },
  {
   "cell_type": "markdown",
   "id": "cf070be7-0b30-42db-9ed6-618e68a3b168",
   "metadata": {},
   "source": [
    "Beaucoup d'erreur manquante par ce fait des actions supplémentaires sont à réaliser, tel que l'aperçu du pourcentage de donnée manquante par colonne et si cela va au-dela de 90 % alors on supprime la colonne"
   ]
  },
  {
   "cell_type": "markdown",
   "id": "a79dbc82-3ef3-46af-b44c-dc19f04e2133",
   "metadata": {},
   "source": [
    "#### 2.1 Calculez la proportion de valeurs manquantes par colonne"
   ]
  },
  {
   "cell_type": "code",
   "execution_count": 46,
   "id": "ebfc1385-477b-4cb1-a134-0fd342e1610c",
   "metadata": {},
   "outputs": [
    {
     "name": "stdout",
     "output_type": "stream",
     "text": [
      "Country Name       0.000000\n",
      "Country Code       0.000000\n",
      "Indicator Name     0.000000\n",
      "Indicator Code     0.000000\n",
      "1970              80.219273\n",
      "                    ...    \n",
      "2080              85.244828\n",
      "2085              85.244828\n",
      "2090              85.244828\n",
      "2095              85.244828\n",
      "2100              85.244828\n",
      "Length: 69, dtype: float64\n"
     ]
    }
   ],
   "source": [
    "#Pourcentage de valeurs manquantes = (Nombre de valeurs manquantes / Nombre total de valeurs) * 100\n",
    "missing_values = data_edSD_csv.isnull().sum()\n",
    "total_values = data_edSD_csv.count() + missing_values\n",
    "percentage_missing = (missing_values / total_values) * 100\n",
    "print(percentage_missing)"
   ]
  },
  {
   "cell_type": "markdown",
   "id": "e92763f0-bc22-4129-a7cf-5c63785b36af",
   "metadata": {},
   "source": [
    "Calcule de proportion des valeur manquante pour les avoir en pourcentage. \n",
    "Nous remarquons que beaucoup de colonne posséde un taux élevé de donnée manquante, la plus élevé est l'année 2017 par ce fait nous allons les supprimer"
   ]
  },
  {
   "cell_type": "code",
   "execution_count": 47,
   "id": "bcb20061-afa8-4a7c-b04b-05616cdccd86",
   "metadata": {},
   "outputs": [
    {
     "name": "stdout",
     "output_type": "stream",
     "text": [
      "Colonnes supprimées : ['1971', '1972', '1973', '1974', '1976', '1977', '1978', '1979', '1981', '1982', '1983', '1984', '1986', '1987', '1988', '1989', '2016', '2017']\n",
      "Les 5 années avec le moins de données manquantes :\n"
     ]
    },
    {
     "data": {
      "text/plain": [
       "2010    32.651677\n",
       "2005    49.388905\n",
       "2000    51.471968\n",
       "2012    60.238839\n",
       "2011    60.490492\n",
       "dtype: float64"
      ]
     },
     "execution_count": 47,
     "metadata": {},
     "output_type": "execute_result"
    }
   ],
   "source": [
    "columns_to_drop = percentage_missing[percentage_missing > 90].index\n",
    "data_edSD_csv_cleaned = data_edSD_csv.drop(columns=columns_to_drop)\n",
    "\n",
    "year_columns = [col for col in data_edSD_csv.columns if col.isdigit()]  \n",
    "\n",
    "missing_values = data_edSD_csv[year_columns].isnull().sum()\n",
    "total_values = len(data_edSD_csv)\n",
    "percentage_missing_years = (missing_values / total_values) * 100\n",
    "\n",
    "sorted_years = percentage_missing_years.sort_values()\n",
    "\n",
    "top_5_years = sorted_years.head(5)\n",
    "\n",
    "print(f\"Colonnes supprimées : {list(columns_to_drop)}\")\n",
    "\n",
    "print(\"Les 5 années avec le moins de données manquantes :\")\n",
    "top_5_years.head()"
   ]
  },
  {
   "cell_type": "code",
   "execution_count": 48,
   "id": "3d991b97-5e0f-488e-aa4b-5a5876b8dd39",
   "metadata": {},
   "outputs": [
    {
     "data": {
      "text/plain": [
       "(346509, 51)"
      ]
     },
     "execution_count": 48,
     "metadata": {},
     "output_type": "execute_result"
    }
   ],
   "source": [
    "data_edSD_csv_cleaned.shape"
   ]
  },
  {
   "cell_type": "markdown",
   "id": "b6c060bb-6748-4393-a469-312c91501ac9",
   "metadata": {},
   "source": [
    "### 3. Doublon\n",
    "\n",
    "On regarde si tous les pays ne sont pas apparues en doublons. Nous allons regarder les abréviations en même temps que le SeriesCode car ce duo de donné ne peux être doublé"
   ]
  },
  {
   "cell_type": "code",
   "execution_count": 49,
   "id": "0a67bb7f-c0e8-462e-b34b-5099a16b067e",
   "metadata": {},
   "outputs": [
    {
     "data": {
      "text/html": [
       "<div>\n",
       "<style scoped>\n",
       "    .dataframe tbody tr th:only-of-type {\n",
       "        vertical-align: middle;\n",
       "    }\n",
       "\n",
       "    .dataframe tbody tr th {\n",
       "        vertical-align: top;\n",
       "    }\n",
       "\n",
       "    .dataframe thead th {\n",
       "        text-align: right;\n",
       "    }\n",
       "</style>\n",
       "<table border=\"1\" class=\"dataframe\">\n",
       "  <thead>\n",
       "    <tr style=\"text-align: right;\">\n",
       "      <th></th>\n",
       "      <th>Country Name</th>\n",
       "      <th>Country Code</th>\n",
       "      <th>Indicator Name</th>\n",
       "      <th>Indicator Code</th>\n",
       "      <th>1970</th>\n",
       "      <th>1975</th>\n",
       "      <th>1980</th>\n",
       "      <th>1985</th>\n",
       "      <th>1990</th>\n",
       "      <th>1991</th>\n",
       "      <th>...</th>\n",
       "      <th>2055</th>\n",
       "      <th>2060</th>\n",
       "      <th>2065</th>\n",
       "      <th>2070</th>\n",
       "      <th>2075</th>\n",
       "      <th>2080</th>\n",
       "      <th>2085</th>\n",
       "      <th>2090</th>\n",
       "      <th>2095</th>\n",
       "      <th>2100</th>\n",
       "    </tr>\n",
       "  </thead>\n",
       "  <tbody>\n",
       "  </tbody>\n",
       "</table>\n",
       "<p>0 rows × 51 columns</p>\n",
       "</div>"
      ],
      "text/plain": [
       "Empty DataFrame\n",
       "Columns: [Country Name, Country Code, Indicator Name, Indicator Code, 1970, 1975, 1980, 1985, 1990, 1991, 1992, 1993, 1994, 1995, 1996, 1997, 1998, 1999, 2000, 2001, 2002, 2003, 2004, 2005, 2006, 2007, 2008, 2009, 2010, 2011, 2012, 2013, 2014, 2015, 2020, 2025, 2030, 2035, 2040, 2045, 2050, 2055, 2060, 2065, 2070, 2075, 2080, 2085, 2090, 2095, 2100]\n",
       "Index: []\n",
       "\n",
       "[0 rows x 51 columns]"
      ]
     },
     "execution_count": 49,
     "metadata": {},
     "output_type": "execute_result"
    }
   ],
   "source": [
    "data_edSD_csv_cleaned.loc[data_edSD_csv[['Country Name','Country Code', 'Indicator Name', 'Indicator Code']].duplicated(keep=False),:]"
   ]
  },
  {
   "cell_type": "markdown",
   "id": "6920e46b-2eeb-445c-a798-b227839de490",
   "metadata": {},
   "source": [
    ">Aucun doublons n'est détecté "
   ]
  },
  {
   "cell_type": "markdown",
   "id": "1f138b1c-08ae-4903-bbf4-964e6d8f024c",
   "metadata": {},
   "source": [
    "drop_duplicate nous permet de supprimer tous les doublons est de garder juste un parmis tous les doublons identique. Ici rien ne se passera car nous n'avons pas de doublons"
   ]
  },
  {
   "cell_type": "code",
   "execution_count": 50,
   "id": "ee8fe662-5e48-45fd-8c6f-3e7662f814ed",
   "metadata": {},
   "outputs": [],
   "source": [
    "data_edSD_csv_cleaned.drop_duplicates(subset=['Country Name','Country Code', 'Indicator Name', 'Indicator Code'], inplace=True, ignore_index=True)"
   ]
  },
  {
   "cell_type": "markdown",
   "id": "de3cb21e-de53-4a86-a000-c8a016db8e7d",
   "metadata": {},
   "source": [
    "### 4. Calculez les statistiques descriptives"
   ]
  },
  {
   "cell_type": "markdown",
   "id": "5e952a6a-b670-411a-8cb0-0d2d50fa0316",
   "metadata": {},
   "source": [
    "Pour calculer les statistiques descriptives il faut utilise le describe() très utile pour faire une premiere prévisualisation. "
   ]
  },
  {
   "cell_type": "code",
   "execution_count": 51,
   "id": "89cdfdde-19f3-435d-b1de-38caf38bc152",
   "metadata": {},
   "outputs": [
    {
     "data": {
      "text/html": [
       "<div>\n",
       "<style scoped>\n",
       "    .dataframe tbody tr th:only-of-type {\n",
       "        vertical-align: middle;\n",
       "    }\n",
       "\n",
       "    .dataframe tbody tr th {\n",
       "        vertical-align: top;\n",
       "    }\n",
       "\n",
       "    .dataframe thead th {\n",
       "        text-align: right;\n",
       "    }\n",
       "</style>\n",
       "<table border=\"1\" class=\"dataframe\">\n",
       "  <thead>\n",
       "    <tr style=\"text-align: right;\">\n",
       "      <th></th>\n",
       "      <th>1970</th>\n",
       "      <th>1975</th>\n",
       "      <th>1980</th>\n",
       "      <th>1985</th>\n",
       "      <th>1990</th>\n",
       "      <th>1991</th>\n",
       "      <th>1992</th>\n",
       "      <th>1993</th>\n",
       "      <th>1994</th>\n",
       "      <th>1995</th>\n",
       "      <th>...</th>\n",
       "      <th>2055</th>\n",
       "      <th>2060</th>\n",
       "      <th>2065</th>\n",
       "      <th>2070</th>\n",
       "      <th>2075</th>\n",
       "      <th>2080</th>\n",
       "      <th>2085</th>\n",
       "      <th>2090</th>\n",
       "      <th>2095</th>\n",
       "      <th>2100</th>\n",
       "    </tr>\n",
       "  </thead>\n",
       "  <tbody>\n",
       "    <tr>\n",
       "      <th>count</th>\n",
       "      <td>6.854200e+04</td>\n",
       "      <td>8.300500e+04</td>\n",
       "      <td>8.463700e+04</td>\n",
       "      <td>8.528700e+04</td>\n",
       "      <td>1.190220e+05</td>\n",
       "      <td>6.895800e+04</td>\n",
       "      <td>6.981600e+04</td>\n",
       "      <td>6.991800e+04</td>\n",
       "      <td>7.124000e+04</td>\n",
       "      <td>1.250610e+05</td>\n",
       "      <td>...</td>\n",
       "      <td>51128.000000</td>\n",
       "      <td>51128.000000</td>\n",
       "      <td>51128.000000</td>\n",
       "      <td>51128.000000</td>\n",
       "      <td>51128.000000</td>\n",
       "      <td>51128.000000</td>\n",
       "      <td>51128.00000</td>\n",
       "      <td>51128.000000</td>\n",
       "      <td>51128.000000</td>\n",
       "      <td>51128.000000</td>\n",
       "    </tr>\n",
       "    <tr>\n",
       "      <th>mean</th>\n",
       "      <td>3.309585e+08</td>\n",
       "      <td>3.843273e+08</td>\n",
       "      <td>5.531581e+08</td>\n",
       "      <td>6.243896e+08</td>\n",
       "      <td>1.537644e+09</td>\n",
       "      <td>2.749138e+09</td>\n",
       "      <td>2.823756e+09</td>\n",
       "      <td>2.903754e+09</td>\n",
       "      <td>2.988606e+09</td>\n",
       "      <td>1.810703e+09</td>\n",
       "      <td>...</td>\n",
       "      <td>353.556995</td>\n",
       "      <td>357.289588</td>\n",
       "      <td>359.411441</td>\n",
       "      <td>359.871759</td>\n",
       "      <td>358.876836</td>\n",
       "      <td>356.866900</td>\n",
       "      <td>354.21677</td>\n",
       "      <td>350.966970</td>\n",
       "      <td>346.988116</td>\n",
       "      <td>342.272427</td>\n",
       "    </tr>\n",
       "    <tr>\n",
       "      <th>std</th>\n",
       "      <td>2.290317e+10</td>\n",
       "      <td>2.514494e+10</td>\n",
       "      <td>3.239299e+10</td>\n",
       "      <td>3.964458e+10</td>\n",
       "      <td>6.388631e+10</td>\n",
       "      <td>8.613488e+10</td>\n",
       "      <td>8.910978e+10</td>\n",
       "      <td>9.219757e+10</td>\n",
       "      <td>9.596744e+10</td>\n",
       "      <td>7.606708e+10</td>\n",
       "      <td>...</td>\n",
       "      <td>5642.124206</td>\n",
       "      <td>5751.913931</td>\n",
       "      <td>5848.760371</td>\n",
       "      <td>5933.192043</td>\n",
       "      <td>5999.904457</td>\n",
       "      <td>6049.528174</td>\n",
       "      <td>6085.45823</td>\n",
       "      <td>6105.723882</td>\n",
       "      <td>6105.735658</td>\n",
       "      <td>6086.049083</td>\n",
       "    </tr>\n",
       "    <tr>\n",
       "      <th>min</th>\n",
       "      <td>-1.435564e+00</td>\n",
       "      <td>-3.658569e+00</td>\n",
       "      <td>-1.404240e+00</td>\n",
       "      <td>-2.216315e+00</td>\n",
       "      <td>-1.803750e+00</td>\n",
       "      <td>-5.814339e+00</td>\n",
       "      <td>-5.089333e+00</td>\n",
       "      <td>-6.184857e+00</td>\n",
       "      <td>-4.792691e+00</td>\n",
       "      <td>-2.697722e+00</td>\n",
       "      <td>...</td>\n",
       "      <td>-1.830000</td>\n",
       "      <td>-1.630000</td>\n",
       "      <td>-1.440000</td>\n",
       "      <td>-1.260000</td>\n",
       "      <td>-1.090000</td>\n",
       "      <td>-0.920000</td>\n",
       "      <td>-0.78000</td>\n",
       "      <td>-0.650000</td>\n",
       "      <td>-0.550000</td>\n",
       "      <td>-0.450000</td>\n",
       "    </tr>\n",
       "    <tr>\n",
       "      <th>25%</th>\n",
       "      <td>8.000000e-01</td>\n",
       "      <td>1.300000e+00</td>\n",
       "      <td>1.640000e+00</td>\n",
       "      <td>2.000000e+00</td>\n",
       "      <td>4.630903e+00</td>\n",
       "      <td>6.012836e+01</td>\n",
       "      <td>5.234379e+01</td>\n",
       "      <td>5.308597e+01</td>\n",
       "      <td>5.007906e+01</td>\n",
       "      <td>5.000000e+00</td>\n",
       "      <td>...</td>\n",
       "      <td>0.030000</td>\n",
       "      <td>0.030000</td>\n",
       "      <td>0.030000</td>\n",
       "      <td>0.020000</td>\n",
       "      <td>0.020000</td>\n",
       "      <td>0.010000</td>\n",
       "      <td>0.01000</td>\n",
       "      <td>0.010000</td>\n",
       "      <td>0.010000</td>\n",
       "      <td>0.010000</td>\n",
       "    </tr>\n",
       "    <tr>\n",
       "      <th>50%</th>\n",
       "      <td>5.700000e+00</td>\n",
       "      <td>8.530000e+00</td>\n",
       "      <td>9.990000e+00</td>\n",
       "      <td>1.080116e+01</td>\n",
       "      <td>4.866242e+01</td>\n",
       "      <td>4.258550e+04</td>\n",
       "      <td>3.816650e+04</td>\n",
       "      <td>3.888800e+04</td>\n",
       "      <td>3.566300e+04</td>\n",
       "      <td>4.852000e+01</td>\n",
       "      <td>...</td>\n",
       "      <td>0.230000</td>\n",
       "      <td>0.230000</td>\n",
       "      <td>0.230000</td>\n",
       "      <td>0.230000</td>\n",
       "      <td>0.230000</td>\n",
       "      <td>0.230000</td>\n",
       "      <td>0.23000</td>\n",
       "      <td>0.230000</td>\n",
       "      <td>0.220000</td>\n",
       "      <td>0.220000</td>\n",
       "    </tr>\n",
       "    <tr>\n",
       "      <th>75%</th>\n",
       "      <td>5.302983e+01</td>\n",
       "      <td>6.890000e+01</td>\n",
       "      <td>7.201000e+01</td>\n",
       "      <td>7.120000e+01</td>\n",
       "      <td>8.068575e+04</td>\n",
       "      <td>3.987262e+05</td>\n",
       "      <td>3.885185e+05</td>\n",
       "      <td>3.939145e+05</td>\n",
       "      <td>3.871565e+05</td>\n",
       "      <td>6.957700e+04</td>\n",
       "      <td>...</td>\n",
       "      <td>7.492500</td>\n",
       "      <td>7.500000</td>\n",
       "      <td>7.405000</td>\n",
       "      <td>7.200000</td>\n",
       "      <td>7.000000</td>\n",
       "      <td>6.522500</td>\n",
       "      <td>5.90000</td>\n",
       "      <td>5.295000</td>\n",
       "      <td>4.500000</td>\n",
       "      <td>3.860000</td>\n",
       "    </tr>\n",
       "    <tr>\n",
       "      <th>max</th>\n",
       "      <td>4.779684e+12</td>\n",
       "      <td>5.451141e+12</td>\n",
       "      <td>6.529174e+12</td>\n",
       "      <td>7.686571e+12</td>\n",
       "      <td>9.251560e+12</td>\n",
       "      <td>9.244706e+12</td>\n",
       "      <td>9.573392e+12</td>\n",
       "      <td>9.836264e+12</td>\n",
       "      <td>1.023342e+13</td>\n",
       "      <td>1.051166e+13</td>\n",
       "      <td>...</td>\n",
       "      <td>606775.300000</td>\n",
       "      <td>644710.190000</td>\n",
       "      <td>675853.420000</td>\n",
       "      <td>700282.960000</td>\n",
       "      <td>717143.500000</td>\n",
       "      <td>727030.140000</td>\n",
       "      <td>731025.85000</td>\n",
       "      <td>728631.120000</td>\n",
       "      <td>719255.750000</td>\n",
       "      <td>703700.820000</td>\n",
       "    </tr>\n",
       "  </tbody>\n",
       "</table>\n",
       "<p>8 rows × 47 columns</p>\n",
       "</div>"
      ],
      "text/plain": [
       "               1970          1975          1980          1985          1990  \\\n",
       "count  6.854200e+04  8.300500e+04  8.463700e+04  8.528700e+04  1.190220e+05   \n",
       "mean   3.309585e+08  3.843273e+08  5.531581e+08  6.243896e+08  1.537644e+09   \n",
       "std    2.290317e+10  2.514494e+10  3.239299e+10  3.964458e+10  6.388631e+10   \n",
       "min   -1.435564e+00 -3.658569e+00 -1.404240e+00 -2.216315e+00 -1.803750e+00   \n",
       "25%    8.000000e-01  1.300000e+00  1.640000e+00  2.000000e+00  4.630903e+00   \n",
       "50%    5.700000e+00  8.530000e+00  9.990000e+00  1.080116e+01  4.866242e+01   \n",
       "75%    5.302983e+01  6.890000e+01  7.201000e+01  7.120000e+01  8.068575e+04   \n",
       "max    4.779684e+12  5.451141e+12  6.529174e+12  7.686571e+12  9.251560e+12   \n",
       "\n",
       "               1991          1992          1993          1994          1995  \\\n",
       "count  6.895800e+04  6.981600e+04  6.991800e+04  7.124000e+04  1.250610e+05   \n",
       "mean   2.749138e+09  2.823756e+09  2.903754e+09  2.988606e+09  1.810703e+09   \n",
       "std    8.613488e+10  8.910978e+10  9.219757e+10  9.596744e+10  7.606708e+10   \n",
       "min   -5.814339e+00 -5.089333e+00 -6.184857e+00 -4.792691e+00 -2.697722e+00   \n",
       "25%    6.012836e+01  5.234379e+01  5.308597e+01  5.007906e+01  5.000000e+00   \n",
       "50%    4.258550e+04  3.816650e+04  3.888800e+04  3.566300e+04  4.852000e+01   \n",
       "75%    3.987262e+05  3.885185e+05  3.939145e+05  3.871565e+05  6.957700e+04   \n",
       "max    9.244706e+12  9.573392e+12  9.836264e+12  1.023342e+13  1.051166e+13   \n",
       "\n",
       "       ...           2055           2060           2065           2070  \\\n",
       "count  ...   51128.000000   51128.000000   51128.000000   51128.000000   \n",
       "mean   ...     353.556995     357.289588     359.411441     359.871759   \n",
       "std    ...    5642.124206    5751.913931    5848.760371    5933.192043   \n",
       "min    ...      -1.830000      -1.630000      -1.440000      -1.260000   \n",
       "25%    ...       0.030000       0.030000       0.030000       0.020000   \n",
       "50%    ...       0.230000       0.230000       0.230000       0.230000   \n",
       "75%    ...       7.492500       7.500000       7.405000       7.200000   \n",
       "max    ...  606775.300000  644710.190000  675853.420000  700282.960000   \n",
       "\n",
       "                2075           2080          2085           2090  \\\n",
       "count   51128.000000   51128.000000   51128.00000   51128.000000   \n",
       "mean      358.876836     356.866900     354.21677     350.966970   \n",
       "std      5999.904457    6049.528174    6085.45823    6105.723882   \n",
       "min        -1.090000      -0.920000      -0.78000      -0.650000   \n",
       "25%         0.020000       0.010000       0.01000       0.010000   \n",
       "50%         0.230000       0.230000       0.23000       0.230000   \n",
       "75%         7.000000       6.522500       5.90000       5.295000   \n",
       "max    717143.500000  727030.140000  731025.85000  728631.120000   \n",
       "\n",
       "                2095           2100  \n",
       "count   51128.000000   51128.000000  \n",
       "mean      346.988116     342.272427  \n",
       "std      6105.735658    6086.049083  \n",
       "min        -0.550000      -0.450000  \n",
       "25%         0.010000       0.010000  \n",
       "50%         0.220000       0.220000  \n",
       "75%         4.500000       3.860000  \n",
       "max    719255.750000  703700.820000  \n",
       "\n",
       "[8 rows x 47 columns]"
      ]
     },
     "execution_count": 51,
     "metadata": {},
     "output_type": "execute_result"
    }
   ],
   "source": [
    "#Calcule statistique :\n",
    "data_edSD_csv_cleaned.describe()"
   ]
  },
  {
   "cell_type": "markdown",
   "id": "75c09be7-e037-480a-abbc-d1c7b208575d",
   "metadata": {},
   "source": [
    "### 5. Calculez le nombre d'occurences de chaque colonne"
   ]
  },
  {
   "cell_type": "code",
   "execution_count": 52,
   "id": "d5ec532a-812a-4aae-bb47-ed96998904c4",
   "metadata": {},
   "outputs": [
    {
     "name": "stdout",
     "output_type": "stream",
     "text": [
      "Country Name :  Country Name\n",
      "Colombia                    2462\n",
      "Ghana                       2410\n",
      "Kazakhstan                  2368\n",
      "Cameroon                    2313\n",
      "Moldova                     2303\n",
      "                            ... \n",
      "Greenland                     59\n",
      "Channel Islands               23\n",
      "Faroe Islands                 17\n",
      "Isle of Man                    8\n",
      "Northern Mariana Islands       7\n",
      "Name: count, Length: 211, dtype: int64\n",
      "Country Code :  Country Code\n",
      "COL    2462\n",
      "GHA    2410\n",
      "KAZ    2368\n",
      "CMR    2313\n",
      "MDA    2303\n",
      "       ... \n",
      "GRL      59\n",
      "CHI      23\n",
      "FRO      17\n",
      "IMN       8\n",
      "MNP       7\n",
      "Name: count, Length: 211, dtype: int64\n",
      "Indicator Name :  Indicator Name\n",
      "Population growth (annual %)                                                                            211\n",
      "Population, total                                                                                       211\n",
      "GDP at market prices (current US$)                                                                      208\n",
      "Internet users (per 100 people)                                                                         208\n",
      "GDP per capita (current US$)                                                                            208\n",
      "                                                                                                       ... \n",
      "EGRA: Reading Comprehension - Share of students scoring at least 80 percent (%). Spanish. 2nd Grade       1\n",
      "EGRA: Oral Reading Fluency - Share of students with a zero score (%). Spanish. 4th Grade                  1\n",
      "EGRA: Oral Reading Fluency - Share of students with a zero score (%). Spanish. 3rd Grade                  1\n",
      "EGRA: Oral Reading Fluency - Share of students with a zero score (%). Spanish. 2nd Grade                  1\n",
      "EGRA: Reading Comprehension - Share of students scoring at least 80 percent (%). Chitonga. 2nd Grade      1\n",
      "Name: count, Length: 3665, dtype: int64\n",
      "Indicator Code :  Indicator Code\n",
      "SP.POP.GROW                   211\n",
      "SP.POP.TOTL                   211\n",
      "NY.GDP.MKTP.CD                208\n",
      "IT.NET.USER.P2                208\n",
      "NY.GDP.PCAP.CD                208\n",
      "                             ... \n",
      "LO.EGRA.READ.SPN.ADV.2GRD       1\n",
      "LO.EGRA.CWPM.ZERO.SPN.4GRD      1\n",
      "LO.EGRA.CWPM.ZERO.SPN.3GRD      1\n",
      "LO.EGRA.CWPM.ZERO.SPN.2GRD      1\n",
      "LO.EGRA.READ.CHI.ADV.2GRD       1\n",
      "Name: count, Length: 3665, dtype: int64\n"
     ]
    }
   ],
   "source": [
    "#calculez le nombre d'occurrences : \n",
    "cn = data_edSD_csv_cleaned['Country Name'].value_counts()\n",
    "cc =data_edSD_csv_cleaned['Country Code'].value_counts()\n",
    "iname = data_edSD_csv_cleaned['Indicator Name'].value_counts()\n",
    "ic = data_edSD_csv_cleaned['Indicator Code'].value_counts()\n",
    "\n",
    "print(\"Country Name : \", cn)\n",
    "print(\"Country Code : \", cc)\n",
    "print(\"Indicator Name : \", iname)\n",
    "print(\"Indicator Code : \", ic)"
   ]
  },
  {
   "cell_type": "code",
   "execution_count": 53,
   "id": "83957d09-eb4f-4b1b-aa98-2144b50418d6",
   "metadata": {},
   "outputs": [
    {
     "data": {
      "image/png": "[encoded data removed]",
      "text/plain": [
       "<Figure size 1600x600 with 1 Axes>"
      ]
     },
     "metadata": {},
     "output_type": "display_data"
    }
   ],
   "source": [
    "accessible_percentage = 100 - percentage_missing\n",
    "\n",
    "columns_to_exclude = [\"Country Name\", \"Country Code\", \"Indicator Name\", \"Indicator Code\"]\n",
    "accessible_percentage = accessible_percentage.drop(columns_to_exclude, errors='ignore')\n",
    "\n",
    "accessible_percentage = accessible_percentage[accessible_percentage > 10]\n",
    "\n",
    "plt.figure(figsize=(16, 6))  \n",
    "\n",
    "ax = accessible_percentage.plot(\n",
    "    kind='bar',\n",
    "    color='skyblue',\n",
    "    edgecolor='black',\n",
    "    fontsize=8\n",
    ")\n",
    "\n",
    "ax.set_title(\"Pourcentage de données accessibles par colonne\", fontsize=12)\n",
    "ax.set_xlabel(\"Colonnes\", fontsize=10)\n",
    "ax.set_ylabel(\"Pourcentage de données accessibles (%)\", fontsize=10)\n",
    "\n",
    "for i, value in enumerate(accessible_percentage):\n",
    "    ax.text(i, value + 1, f'{value:.1f}%', ha='center', fontsize=8)\n",
    "\n",
    "plt.xticks(rotation=45, ha='right')\n",
    "plt.tight_layout()\n",
    "plt.show()\n"
   ]
  },
  {
   "cell_type": "markdown",
   "id": "a6c0465f-aa66-417b-9ea1-0d40b89ca015",
   "metadata": {},
   "source": [
    "Avoir des données future sur le long terme peut nous permettre de projeter, mais ceci est basé sur des prédictions  "
   ]
  },
  {
   "cell_type": "markdown",
   "id": "a0ad17c8-baf7-4733-9b58-f4a091c35976",
   "metadata": {},
   "source": [
    "### 6. donnée 2015\n",
    "\n",
    "Nous voyons que l'année 2010 comporte le plus de donnée mais c'est donnée date de plusieurs années ce qui est a l'heure actuel est moins valorisantque des données plus récente comme l'année 2015. Nous allons plutôt prendre l'année 2015 la plus récente où nous aurons des données plus précise"
   ]
  },
  {
   "cell_type": "code",
   "execution_count": 54,
   "id": "6a495835-f14a-458e-ab25-b22aa5195ba9",
   "metadata": {},
   "outputs": [
    {
     "data": {
      "text/html": [
       "<div>\n",
       "<style scoped>\n",
       "    .dataframe tbody tr th:only-of-type {\n",
       "        vertical-align: middle;\n",
       "    }\n",
       "\n",
       "    .dataframe tbody tr th {\n",
       "        vertical-align: top;\n",
       "    }\n",
       "\n",
       "    .dataframe thead th {\n",
       "        text-align: right;\n",
       "    }\n",
       "</style>\n",
       "<table border=\"1\" class=\"dataframe\">\n",
       "  <thead>\n",
       "    <tr style=\"text-align: right;\">\n",
       "      <th></th>\n",
       "      <th>Country Name</th>\n",
       "      <th>Country Code</th>\n",
       "      <th>Indicator Name</th>\n",
       "      <th>Indicator Code</th>\n",
       "      <th>2015</th>\n",
       "    </tr>\n",
       "  </thead>\n",
       "  <tbody>\n",
       "    <tr>\n",
       "      <th>91625</th>\n",
       "      <td>Afghanistan</td>\n",
       "      <td>AFG</td>\n",
       "      <td>Adjusted net enrolment rate, lower secondary, ...</td>\n",
       "      <td>UIS.NERA.2</td>\n",
       "      <td>NaN</td>\n",
       "    </tr>\n",
       "    <tr>\n",
       "      <th>91626</th>\n",
       "      <td>Afghanistan</td>\n",
       "      <td>AFG</td>\n",
       "      <td>Adjusted net enrolment rate, lower secondary, ...</td>\n",
       "      <td>UIS.NERA.2.F</td>\n",
       "      <td>NaN</td>\n",
       "    </tr>\n",
       "    <tr>\n",
       "      <th>91627</th>\n",
       "      <td>Afghanistan</td>\n",
       "      <td>AFG</td>\n",
       "      <td>Adjusted net enrolment rate, lower secondary, ...</td>\n",
       "      <td>UIS.NERA.2.GPI</td>\n",
       "      <td>NaN</td>\n",
       "    </tr>\n",
       "    <tr>\n",
       "      <th>91628</th>\n",
       "      <td>Afghanistan</td>\n",
       "      <td>AFG</td>\n",
       "      <td>Adjusted net enrolment rate, lower secondary, ...</td>\n",
       "      <td>UIS.NERA.2.M</td>\n",
       "      <td>NaN</td>\n",
       "    </tr>\n",
       "    <tr>\n",
       "      <th>91631</th>\n",
       "      <td>Afghanistan</td>\n",
       "      <td>AFG</td>\n",
       "      <td>Adjusted net enrolment rate, primary, gender p...</td>\n",
       "      <td>UIS.NERA.1.GPI</td>\n",
       "      <td>NaN</td>\n",
       "    </tr>\n",
       "  </tbody>\n",
       "</table>\n",
       "</div>"
      ],
      "text/plain": [
       "      Country Name Country Code  \\\n",
       "91625  Afghanistan          AFG   \n",
       "91626  Afghanistan          AFG   \n",
       "91627  Afghanistan          AFG   \n",
       "91628  Afghanistan          AFG   \n",
       "91631  Afghanistan          AFG   \n",
       "\n",
       "                                          Indicator Name  Indicator Code  2015  \n",
       "91625  Adjusted net enrolment rate, lower secondary, ...      UIS.NERA.2   NaN  \n",
       "91626  Adjusted net enrolment rate, lower secondary, ...    UIS.NERA.2.F   NaN  \n",
       "91627  Adjusted net enrolment rate, lower secondary, ...  UIS.NERA.2.GPI   NaN  \n",
       "91628  Adjusted net enrolment rate, lower secondary, ...    UIS.NERA.2.M   NaN  \n",
       "91631  Adjusted net enrolment rate, primary, gender p...  UIS.NERA.1.GPI   NaN  "
      ]
     },
     "execution_count": 54,
     "metadata": {},
     "output_type": "execute_result"
    }
   ],
   "source": [
    "columns_2015 = [\"Country Name\", \"Country Code\", \"Indicator Name\", \"Indicator Code\", \"2015\"]\n",
    "\n",
    "data = data_edSD_csv[columns_2015]\n",
    "\n",
    "data.head()\n",
    "#2015 Plus recent "
   ]
  },
  {
   "cell_type": "markdown",
   "id": "700fad70-d9fb-41ff-89d4-f05d45adb748",
   "metadata": {},
   "source": [
    "Il est important de prendre en compte certain point, pour une formation en ligne il nous faut :\n",
    "\n",
    "- Démographie : population totale, par tranches d’âge 20-29 ans, voire autres tranches d’âge\n",
    "- Niveau éducation :  nombre et taux étudiants dans le secondaire et tertiaire\n",
    "- Déploiement internet : Taux utilisation internet\n",
    "- Economique : PIB, PIB / habitant, niveau de revenu"
   ]
  },
  {
   "cell_type": "markdown",
   "id": "1604c91f-ceb1-47a9-9785-23beb1d99984",
   "metadata": {},
   "source": [
    "#### Enlever les NaN"
   ]
  },
  {
   "cell_type": "code",
   "execution_count": 55,
   "id": "3871af85-a868-4d9e-8b5b-bd82eadb99f3",
   "metadata": {},
   "outputs": [
    {
     "data": {
      "text/html": [
       "<div>\n",
       "<style scoped>\n",
       "    .dataframe tbody tr th:only-of-type {\n",
       "        vertical-align: middle;\n",
       "    }\n",
       "\n",
       "    .dataframe tbody tr th {\n",
       "        vertical-align: top;\n",
       "    }\n",
       "\n",
       "    .dataframe thead th {\n",
       "        text-align: right;\n",
       "    }\n",
       "</style>\n",
       "<table border=\"1\" class=\"dataframe\">\n",
       "  <thead>\n",
       "    <tr style=\"text-align: right;\">\n",
       "      <th></th>\n",
       "      <th>Country Name</th>\n",
       "      <th>Country Code</th>\n",
       "      <th>Indicator Name</th>\n",
       "      <th>Indicator Code</th>\n",
       "      <th>2015</th>\n",
       "    </tr>\n",
       "  </thead>\n",
       "  <tbody>\n",
       "    <tr>\n",
       "      <th>91753</th>\n",
       "      <td>Afghanistan</td>\n",
       "      <td>AFG</td>\n",
       "      <td>All staff compensation as % of total expenditu...</td>\n",
       "      <td>UIS.XSPENDP.1.FDPUB.FNS</td>\n",
       "      <td>78.349113</td>\n",
       "    </tr>\n",
       "    <tr>\n",
       "      <th>91754</th>\n",
       "      <td>Afghanistan</td>\n",
       "      <td>AFG</td>\n",
       "      <td>All staff compensation as % of total expenditu...</td>\n",
       "      <td>UIS.XSPENDP.FDPUB.FNS</td>\n",
       "      <td>71.447098</td>\n",
       "    </tr>\n",
       "    <tr>\n",
       "      <th>91755</th>\n",
       "      <td>Afghanistan</td>\n",
       "      <td>AFG</td>\n",
       "      <td>All staff compensation as % of total expenditu...</td>\n",
       "      <td>UIS.XSPENDP.23.FDPUB.FNS</td>\n",
       "      <td>78.349113</td>\n",
       "    </tr>\n",
       "    <tr>\n",
       "      <th>91756</th>\n",
       "      <td>Afghanistan</td>\n",
       "      <td>AFG</td>\n",
       "      <td>All staff compensation as % of total expenditu...</td>\n",
       "      <td>UIS.XSPENDP.56.FDPUB.FNS</td>\n",
       "      <td>43.724129</td>\n",
       "    </tr>\n",
       "    <tr>\n",
       "      <th>92138</th>\n",
       "      <td>Afghanistan</td>\n",
       "      <td>AFG</td>\n",
       "      <td>Capital expenditure as % of total expenditure ...</td>\n",
       "      <td>UIS.XSPENDP.FDPUB.FNCAP</td>\n",
       "      <td>35.034409</td>\n",
       "    </tr>\n",
       "  </tbody>\n",
       "</table>\n",
       "</div>"
      ],
      "text/plain": [
       "      Country Name Country Code  \\\n",
       "91753  Afghanistan          AFG   \n",
       "91754  Afghanistan          AFG   \n",
       "91755  Afghanistan          AFG   \n",
       "91756  Afghanistan          AFG   \n",
       "92138  Afghanistan          AFG   \n",
       "\n",
       "                                          Indicator Name  \\\n",
       "91753  All staff compensation as % of total expenditu...   \n",
       "91754  All staff compensation as % of total expenditu...   \n",
       "91755  All staff compensation as % of total expenditu...   \n",
       "91756  All staff compensation as % of total expenditu...   \n",
       "92138  Capital expenditure as % of total expenditure ...   \n",
       "\n",
       "                 Indicator Code       2015  \n",
       "91753   UIS.XSPENDP.1.FDPUB.FNS  78.349113  \n",
       "91754     UIS.XSPENDP.FDPUB.FNS  71.447098  \n",
       "91755  UIS.XSPENDP.23.FDPUB.FNS  78.349113  \n",
       "91756  UIS.XSPENDP.56.FDPUB.FNS  43.724129  \n",
       "92138   UIS.XSPENDP.FDPUB.FNCAP  35.034409  "
      ]
     },
     "execution_count": 55,
     "metadata": {},
     "output_type": "execute_result"
    }
   ],
   "source": [
    "excluded_columns = [\"Country Name\", \"Country Code\", \"Indicator Name\", \"Indicator Code\"]\n",
    "\n",
    "check = data.columns.difference(excluded_columns)\n",
    "\n",
    "data = data[data[check].notna().any(axis=1)]\n",
    "\n",
    "data.head()"
   ]
  },
  {
   "cell_type": "markdown",
   "id": "f1233c37-1f9c-42ba-9fb3-5736e7fc071f",
   "metadata": {},
   "source": [
    "#### Prendres les 20 indicateurs les plus intéressant "
   ]
  },
  {
   "cell_type": "code",
   "execution_count": 56,
   "id": "ef9151b8-ffed-4cfd-a426-381aa17ad26f",
   "metadata": {},
   "outputs": [
    {
     "name": "stdout",
     "output_type": "stream",
     "text": [
      "                          Effectifs  Fréquences\n",
      "Indicator Code                                 \n",
      "SP.POP.TOTL                     210    0.001629\n",
      "SP.POP.GROW                     210    0.001629\n",
      "SE.PRM.DURS                     203    0.001574\n",
      "SE.PRM.AGES                     203    0.001574\n",
      "IT.NET.USER.P2                  201    0.001559\n",
      "...                             ...         ...\n",
      "UIS.AFR.PBR.1.G1.PU.READ          1    0.000008\n",
      "UIS.AFR.PBR.1.PU.MATH             1    0.000008\n",
      "UIS.AFR.PBR.1.G6.PU.MATH          1    0.000008\n",
      "UIS.AFR.PBR.1.G5.PU.MATH          1    0.000008\n",
      "UIS.AFR.PBR.1.G4.PU.MATH          1    0.000008\n",
      "\n",
      "[2057 rows x 2 columns]\n"
     ]
    }
   ],
   "source": [
    "effectifs = data['Indicator Code'].value_counts()\n",
    "\n",
    "n = len(data) \n",
    "frequences = effectifs / n\n",
    "\n",
    "distribution_empirique = pd.DataFrame({\n",
    "    'Effectifs': effectifs,\n",
    "    'Fréquences': frequences\n",
    "})\n",
    "\n",
    "print(distribution_empirique)"
   ]
  },
  {
   "cell_type": "code",
   "execution_count": 57,
   "id": "8054ba2b-929a-428d-9c00-13ce0ef7b9d8",
   "metadata": {},
   "outputs": [
    {
     "data": {
      "text/html": [
       "<div>\n",
       "<style scoped>\n",
       "    .dataframe tbody tr th:only-of-type {\n",
       "        vertical-align: middle;\n",
       "    }\n",
       "\n",
       "    .dataframe tbody tr th {\n",
       "        vertical-align: top;\n",
       "    }\n",
       "\n",
       "    .dataframe thead th {\n",
       "        text-align: right;\n",
       "    }\n",
       "</style>\n",
       "<table border=\"1\" class=\"dataframe\">\n",
       "  <thead>\n",
       "    <tr style=\"text-align: right;\">\n",
       "      <th></th>\n",
       "      <th>Country Name</th>\n",
       "      <th>Country Code</th>\n",
       "      <th>Indicator Name</th>\n",
       "      <th>Indicator Code</th>\n",
       "      <th>2015</th>\n",
       "    </tr>\n",
       "  </thead>\n",
       "  <tbody>\n",
       "    <tr>\n",
       "      <th>92867</th>\n",
       "      <td>Afghanistan</td>\n",
       "      <td>AFG</td>\n",
       "      <td>GDP at market prices (constant 2005 US$)</td>\n",
       "      <td>NY.GDP.MKTP.KD</td>\n",
       "      <td>2.021272e+10</td>\n",
       "    </tr>\n",
       "    <tr>\n",
       "      <th>92868</th>\n",
       "      <td>Afghanistan</td>\n",
       "      <td>AFG</td>\n",
       "      <td>GDP at market prices (current US$)</td>\n",
       "      <td>NY.GDP.MKTP.CD</td>\n",
       "      <td>1.921556e+10</td>\n",
       "    </tr>\n",
       "    <tr>\n",
       "      <th>92869</th>\n",
       "      <td>Afghanistan</td>\n",
       "      <td>AFG</td>\n",
       "      <td>GDP per capita (constant 2005 US$)</td>\n",
       "      <td>NY.GDP.PCAP.KD</td>\n",
       "      <td>5.991352e+02</td>\n",
       "    </tr>\n",
       "    <tr>\n",
       "      <th>92870</th>\n",
       "      <td>Afghanistan</td>\n",
       "      <td>AFG</td>\n",
       "      <td>GDP per capita (current US$)</td>\n",
       "      <td>NY.GDP.PCAP.CD</td>\n",
       "      <td>5.695779e+02</td>\n",
       "    </tr>\n",
       "    <tr>\n",
       "      <th>93000</th>\n",
       "      <td>Afghanistan</td>\n",
       "      <td>AFG</td>\n",
       "      <td>Internet users (per 100 people)</td>\n",
       "      <td>IT.NET.USER.P2</td>\n",
       "      <td>8.260000e+00</td>\n",
       "    </tr>\n",
       "  </tbody>\n",
       "</table>\n",
       "</div>"
      ],
      "text/plain": [
       "      Country Name Country Code                            Indicator Name  \\\n",
       "92867  Afghanistan          AFG  GDP at market prices (constant 2005 US$)   \n",
       "92868  Afghanistan          AFG        GDP at market prices (current US$)   \n",
       "92869  Afghanistan          AFG        GDP per capita (constant 2005 US$)   \n",
       "92870  Afghanistan          AFG              GDP per capita (current US$)   \n",
       "93000  Afghanistan          AFG           Internet users (per 100 people)   \n",
       "\n",
       "       Indicator Code          2015  \n",
       "92867  NY.GDP.MKTP.KD  2.021272e+10  \n",
       "92868  NY.GDP.MKTP.CD  1.921556e+10  \n",
       "92869  NY.GDP.PCAP.KD  5.991352e+02  \n",
       "92870  NY.GDP.PCAP.CD  5.695779e+02  \n",
       "93000  IT.NET.USER.P2  8.260000e+00  "
      ]
     },
     "execution_count": 57,
     "metadata": {},
     "output_type": "execute_result"
    }
   ],
   "source": [
    "indicators = data['Indicator Code'].value_counts().head(20).index\n",
    "\n",
    "data_filtered = data[data['Indicator Code'].isin(indicators)]\n",
    "\n",
    "data_filtered.head()"
   ]
  },
  {
   "cell_type": "code",
   "execution_count": 58,
   "id": "14af0ac3-6372-496f-a4ca-91216bb6f994",
   "metadata": {},
   "outputs": [
    {
     "name": "stdout",
     "output_type": "stream",
     "text": [
      "Indicator Code :  Indicator Code\n",
      "SP.POP.GROW          211\n",
      "SP.POP.TOTL          211\n",
      "NY.GDP.MKTP.CD       208\n",
      "IT.NET.USER.P2       208\n",
      "NY.GDP.PCAP.CD       208\n",
      "SE.SEC.ENRL.GC       206\n",
      "SE.SEC.ENRL          206\n",
      "SE.PRM.ENRL          206\n",
      "SE.SEC.ENRL.VO       205\n",
      "SE.SEC.ENRL.GC.FE    205\n",
      "SE.PRM.AGES          205\n",
      "UIS.THAGE.0          205\n",
      "SE.PRM.ENRL.FE       205\n",
      "UIS.THDUR.0          205\n",
      "SE.PRE.ENRL          205\n",
      "SE.PRM.DURS          205\n",
      "UIS.E.1.G2           204\n",
      "UIS.E.1.G3.F         204\n",
      "UIS.E.1.G3           204\n",
      "UIS.E.1.G2.F         204\n",
      "Name: count, dtype: int64\n"
     ]
    }
   ],
   "source": [
    "ic = data_edSD_csv_cleaned['Indicator Code'].value_counts().head(20)\n",
    "\n",
    "print(\"Indicator Code : \", ic)"
   ]
  },
  {
   "cell_type": "markdown",
   "id": "89f99cbc-97ae-4ab6-b458-9f184587605b",
   "metadata": {},
   "source": [
    "Modalité | effectif"
   ]
  },
  {
   "cell_type": "markdown",
   "id": "2bf9a059-14e1-4988-8edd-840855de5b1e",
   "metadata": {},
   "source": [
    "'SE.SEC.DURS'\n",
    "    \n",
    "- SP.POP.TOTL          : Total population is based on the de facto definition of population, which counts all residents regardless of legal status or citizenship. The values shown are midyear estimates.\n",
    "\n",
    "- SP.POP.GROW          : Annual population growth rate for year t is the exponential rate of growth of midyear population from year t-1 to t, expressed as a percentage . Population is based on the de facto definition of population, which counts all residents regardless of legal status or citizenship.\n",
    "\n",
    "- SE.PRM.DURS          : Number of grades (years) in primary education.\n",
    "\n",
    "- SE.PRM.AGES          : Age at which students would enter primary education, assuming they had started at the official entrance age for the lowest level of education, had studied full-time throughout and had progressed through the system without repeating or skipping a grade.\n",
    "  \n",
    "- IT.NET.USER.P2       : Internet users are individuals who have used the Internet (from any location) in the last 3 months. The Internet can be used via a computer, mobile phone, personal digital assistant, games machine, digital TV etc.\n",
    "\n",
    "- SE.SEC.DURS.LO       : \tLong definition\n",
    "2293\tNumber of grades (years) in lower secondary education.\n",
    "\n",
    "- UIS.THDUR.0          : \tLong definition\n",
    "3552\tNumber of grades (years) in pre-primary education.\n",
    "\n",
    "- SE.SEC.DURS          : \tLong definition\n",
    "2292\tNumber of grades (years) in secondary education (ISCED 2 and 3).\n",
    "\n",
    "- SE.SEC.DURS.UP       : \tLong definition\n",
    "2294\tNumber of grades (years) in upper secondary education.\n",
    "\n",
    "- SE.SEC.AGES          : \tLong definition\n",
    "2288\tAge at which students would enter lower secondary education, assuming they had started at the official entrance age for the lowest level of education, had studied full-time throughout and had progressed through the system without repeating or skipping a grade.\n",
    "\n",
    "- UIS.THAGE.0          : Number of grades (years) in pre-primary education.\n",
    "\n",
    "- UIS.THAGE.3.A.GPV    :\tLong definition\n",
    "3550\tAge at which students would enter upper secondary education, assuming they had started at the official entrance age for the lowest level of education, had studied full-time throughout and had progressed through the system without repeating or skipping a grade.\n",
    "\n",
    "- NY.GDP.MKTP.CD       : \tGDP at purchaser's prices is the sum of gross value added by all resident producers in the economy plus any product taxes and minus any subsidies not included in the value of the products. It is calculated without making deductions for depreciation of fabricated assets or for depletion and degradation of natural resources. Data are in current U.S. dollars. Dollar figures for GDP are converted from domestic currencies using single year official exchange rates. For a few countries where the official exchange rate does not reflect the rate effectively applied to actual foreign exchange transactions, an alternative conversion factor is used.\n",
    "\n",
    "- NY.GDP.PCAP.CD       :   GDP per capita is gross domestic product divided by midyear population. GDP is the sum of gross value added by all resident producers in the economy plus any product taxes and minus any subsidies not included in the value of the products. It is calculated without making deductions for depreciation of fabricated assets or for depletion and degradation of natural resources. Data are in current U.S. dollars.\n",
    "\n",
    "- NY.GDP.MKTP.KD       : \tGDP at purchaser's prices is the sum of gross value added by all resident producers in the economy plus any product taxes and minus any subsidies not included in the value of the products. It is calculated without making deductions for depreciation of fabricated assets or for depletion and degradation of natural resources. Data are in constant 2010 U.S. dollars. Dollar figures for GDP are converted from domestic currencies using 2010 official exchange rates. For a few countries where the official exchange rate does not reflect the rate effectively applied to actual foreign exchange transactions, an alternative conversion factor is used.\n",
    "\n",
    "- NY.GDP.PCAP.KD       :\tGDP per capita is gross domestic product divided by midyear population. GDP is the sum of gross value added by all resident producers in the economy plus any product taxes and minus any subsidies not included in the value of the products. It is calculated without making deductions for depreciation of fabricated assets or for depletion and degradation of natural resources. Data are in constant 2010 U.S. dollars.\n",
    "\n",
    "- SH.DYN.MORT          : \tLong definition\n",
    "2384\tUnder-five mortality rate is the probability per 1,000 that a newborn baby will die before reaching age five, if subject to age-specific mortality rates of the specified year.\n",
    "\n",
    "- SP.POP.TOTL.FE.ZS    : \tLong definition\n",
    "2593\tFemale population is the percentage of the population that is female. Population is based on the de facto definition of population, which counts all residents regardless of legal status or citizenship.\n",
    "\n",
    "- SP.POP.TOTL.MA.ZS    : \tLong definition\n",
    "2595\tMale population is the percentage of the population that is male. Population is based on the de facto definition of population, which counts all residents regardless of legal status or citizenship.\n",
    "\n",
    "- SP.POP.TOTL.FE.IN    : \tLong definition\n",
    "2592\tFemale population is based on the de facto definition of population, which counts all female residents regardless of legal status or citizenship."
   ]
  },
  {
   "cell_type": "markdown",
   "id": "f8251f85-4fb2-417a-a09d-680287bd7395",
   "metadata": {},
   "source": [
    "### Calculer la corrélation entre les indicateurs pour l'année 2015"
   ]
  },
  {
   "cell_type": "code",
   "execution_count": 59,
   "id": "d1dea7fa-9293-47e2-bc77-83822459d954",
   "metadata": {},
   "outputs": [
    {
     "data": {
      "text/plain": [
       "Indicator Code\n",
       "SP.POP.TOTL          1.000000\n",
       "SP.POP.TOTL.FE.IN    0.999889\n",
       "NY.GDP.MKTP.CD       0.553056\n",
       "NY.GDP.MKTP.KD       0.527675\n",
       "SE.SEC.DURS.UP       0.070671\n",
       "SP.POP.TOTL.MA.ZS    0.031646\n",
       "SE.SEC.DURS          0.014266\n",
       "SE.PRM.AGES          0.010422\n",
       "UIS.THDUR.0          0.006189\n",
       "SH.DYN.MORT         -0.001224\n",
       "SP.POP.GROW         -0.025911\n",
       "UIS.THAGE.0         -0.026397\n",
       "SP.POP.TOTL.FE.ZS   -0.031646\n",
       "SE.SEC.DURS.LO      -0.049573\n",
       "NY.GDP.PCAP.KD      -0.054636\n",
       "SE.SEC.AGES         -0.055826\n",
       "IT.NET.USER.P2      -0.055935\n",
       "NY.GDP.PCAP.CD      -0.056593\n",
       "SE.PRM.DURS         -0.064182\n",
       "UIS.THAGE.3.A.GPV   -0.101619\n",
       "Name: SP.POP.TOTL, dtype: float64"
      ]
     },
     "execution_count": 59,
     "metadata": {},
     "output_type": "execute_result"
    }
   ],
   "source": [
    "individu = ['Country Name', 'Indicator Code', '2015']  \n",
    "data_top = data_filtered[individu]\n",
    "\n",
    "data_pivot = data_top.pivot(index='Country Name', columns='Indicator Code', values='2015')\n",
    "\n",
    "correlation = data_pivot.corr()\n",
    "\n",
    "correlation_sp_pop_totl = correlation['SP.POP.TOTL'].sort_values(ascending=False)\n",
    "\n",
    "correlation_sp_pop_totl.head(20)"
   ]
  },
  {
   "cell_type": "code",
   "execution_count": 60,
   "id": "a5c4a2f7-a49d-4cd0-aa93-cbced75af38d",
   "metadata": {},
   "outputs": [
    {
     "data": {
      "image/png": "[encoded data removed]",
      "text/plain": [
       "<Figure size 1200x800 with 2 Axes>"
      ]
     },
     "metadata": {},
     "output_type": "display_data"
    }
   ],
   "source": [
    "individu = data_filtered['Indicator Code'].value_counts().head(20).index\n",
    "\n",
    "data_top = data[data['Indicator Code'].isin(individu)]\n",
    "\n",
    "data_pivot= data_top.pivot(index='Country Name', columns='Indicator Code', values='2015')\n",
    "\n",
    "correlation = data_pivot.corr()\n",
    "\n",
    "plt.figure(figsize=(12, 8))\n",
    "sns.heatmap(correlation, annot=True, cmap='coolwarm', fmt='.2f', linewidths=0.5)\n",
    "plt.title('Corrélation des 20 indicateurs de seris code étant les plus présents en 2015')\n",
    "plt.show()"
   ]
  },
  {
   "cell_type": "code",
   "execution_count": 76,
   "id": "8b729e42-47e1-4af0-badc-ff7704fffce5",
   "metadata": {},
   "outputs": [
    {
     "data": {
      "text/html": [
       "<div>\n",
       "<style scoped>\n",
       "    .dataframe tbody tr th:only-of-type {\n",
       "        vertical-align: middle;\n",
       "    }\n",
       "\n",
       "    .dataframe tbody tr th {\n",
       "        vertical-align: top;\n",
       "    }\n",
       "\n",
       "    .dataframe thead th {\n",
       "        text-align: right;\n",
       "    }\n",
       "</style>\n",
       "<table border=\"1\" class=\"dataframe\">\n",
       "  <thead>\n",
       "    <tr style=\"text-align: right;\">\n",
       "      <th>Indicator Code</th>\n",
       "      <th>IT.NET.USER.P2</th>\n",
       "      <th>SP.POP.GROW</th>\n",
       "      <th>SP.POP.TOTL</th>\n",
       "      <th>NY.GDP.PCAP.CD</th>\n",
       "      <th>SE.SEC.DURS</th>\n",
       "      <th>NY.GDP.MKTP.CD</th>\n",
       "    </tr>\n",
       "    <tr>\n",
       "      <th>Country Name</th>\n",
       "      <th></th>\n",
       "      <th></th>\n",
       "      <th></th>\n",
       "      <th></th>\n",
       "      <th></th>\n",
       "      <th></th>\n",
       "    </tr>\n",
       "  </thead>\n",
       "  <tbody>\n",
       "    <tr>\n",
       "      <th>Afghanistan</th>\n",
       "      <td>8.260000</td>\n",
       "      <td>2.943234</td>\n",
       "      <td>33736494.0</td>\n",
       "      <td>569.577923</td>\n",
       "      <td>6.0</td>\n",
       "      <td>1.921556e+10</td>\n",
       "    </tr>\n",
       "    <tr>\n",
       "      <th>Albania</th>\n",
       "      <td>63.252933</td>\n",
       "      <td>-0.291206</td>\n",
       "      <td>2880703.0</td>\n",
       "      <td>3934.895394</td>\n",
       "      <td>7.0</td>\n",
       "      <td>1.133526e+10</td>\n",
       "    </tr>\n",
       "    <tr>\n",
       "      <th>Algeria</th>\n",
       "      <td>38.200000</td>\n",
       "      <td>1.919959</td>\n",
       "      <td>39871528.0</td>\n",
       "      <td>4160.220067</td>\n",
       "      <td>7.0</td>\n",
       "      <td>1.658743e+11</td>\n",
       "    </tr>\n",
       "    <tr>\n",
       "      <th>Andorra</th>\n",
       "      <td>96.910000</td>\n",
       "      <td>-1.537836</td>\n",
       "      <td>78014.0</td>\n",
       "      <td>36038.267604</td>\n",
       "      <td>6.0</td>\n",
       "      <td>2.811489e+09</td>\n",
       "    </tr>\n",
       "    <tr>\n",
       "      <th>Angola</th>\n",
       "      <td>12.400000</td>\n",
       "      <td>3.428021</td>\n",
       "      <td>27859305.0</td>\n",
       "      <td>3695.793748</td>\n",
       "      <td>6.0</td>\n",
       "      <td>1.029622e+11</td>\n",
       "    </tr>\n",
       "  </tbody>\n",
       "</table>\n",
       "</div>"
      ],
      "text/plain": [
       "Indicator Code  IT.NET.USER.P2  SP.POP.GROW  SP.POP.TOTL  NY.GDP.PCAP.CD  \\\n",
       "Country Name                                                               \n",
       "Afghanistan           8.260000     2.943234   33736494.0      569.577923   \n",
       "Albania              63.252933    -0.291206    2880703.0     3934.895394   \n",
       "Algeria              38.200000     1.919959   39871528.0     4160.220067   \n",
       "Andorra              96.910000    -1.537836      78014.0    36038.267604   \n",
       "Angola               12.400000     3.428021   27859305.0     3695.793748   \n",
       "\n",
       "Indicator Code  SE.SEC.DURS  NY.GDP.MKTP.CD  \n",
       "Country Name                                 \n",
       "Afghanistan             6.0    1.921556e+10  \n",
       "Albania                 7.0    1.133526e+10  \n",
       "Algeria                 7.0    1.658743e+11  \n",
       "Andorra                 6.0    2.811489e+09  \n",
       "Angola                  6.0    1.029622e+11  "
      ]
     },
     "execution_count": 76,
     "metadata": {},
     "output_type": "execute_result"
    }
   ],
   "source": [
    "data_pivot_with_countries = data_pivot.copy()\n",
    "\n",
    "\n",
    "relevant_indicators = [\n",
    "    'IT.NET.USER.P2', 'SP.POP.GROW', 'SP.POP.TOTL', \n",
    "    'NY.GDP.PCAP.CD', 'SE.SEC.DURS', 'NY.GDP.MKTP.CD'\n",
    "]\n",
    "\n",
    "filtered_data = data_pivot_with_countries[relevant_indicators]\n",
    "\n",
    "filtered_data = filtered_data.dropna(subset=relevant_indicators)\n",
    "\n",
    "filtered_data.head()"
   ]
  },
  {
   "cell_type": "code",
   "execution_count": 77,
   "id": "06cb8a69-1b30-4fd3-94fc-462e045caddb",
   "metadata": {},
   "outputs": [
    {
     "name": "stdout",
     "output_type": "stream",
     "text": [
      "Indicator Code     Score\n",
      "Country Name            \n",
      "United States   0.505025\n",
      "Liechtenstein   0.482059\n",
      "China           0.472820\n",
      "Luxembourg      0.454064\n",
      "Germany         0.450884\n"
     ]
    }
   ],
   "source": [
    "normalized_data = filtered_data.copy()\n",
    "\n",
    "for indicator in relevant_indicators:\n",
    "    min_value = normalized_data[indicator].min()\n",
    "    max_value = normalized_data[indicator].max()\n",
    "    normalized_data[indicator] = (normalized_data[indicator] - min_value) / (max_value - min_value)\n",
    "\n",
    "normalized_data['Score'] = normalized_data[relevant_indicators].mean(axis=1)\n",
    "\n",
    "# Trier les score\n",
    "ranked_countries = normalized_data.sort_values('Score', ascending=False)\n",
    "\n",
    "print(ranked_countries[['Score']].head(5))"
   ]
  },
  {
   "cell_type": "markdown",
   "id": "e9758392-497e-40c4-8547-3b632c694d06",
   "metadata": {},
   "source": [
    "<hr style=\"border: 1px solid #C4341A;\">"
   ]
  },
  {
   "cell_type": "markdown",
   "id": "a4902a70-a90b-47d3-9026-69f950cc5fb8",
   "metadata": {},
   "source": [
    "<h2 style=\"color:#C4341A;\"> Importation EdStatsFootNote </h2>\n",
    "\n",
    "<blockquote style=\"background-color:#f9f9f9; color:#333; border-left:5px solid #007BFF; padding:10px;\">\n",
    "Chaque ligne correspond à un pays avec son code de série unique</blockquote>"
   ]
  },
  {
   "cell_type": "code",
   "execution_count": 63,
   "id": "599460a6-128c-476a-be3f-49bb2f166efe",
   "metadata": {},
   "outputs": [
    {
     "data": {
      "text/html": [
       "<div>\n",
       "<style scoped>\n",
       "    .dataframe tbody tr th:only-of-type {\n",
       "        vertical-align: middle;\n",
       "    }\n",
       "\n",
       "    .dataframe tbody tr th {\n",
       "        vertical-align: top;\n",
       "    }\n",
       "\n",
       "    .dataframe thead th {\n",
       "        text-align: right;\n",
       "    }\n",
       "</style>\n",
       "<table border=\"1\" class=\"dataframe\">\n",
       "  <thead>\n",
       "    <tr style=\"text-align: right;\">\n",
       "      <th></th>\n",
       "      <th>CountryCode</th>\n",
       "      <th>SeriesCode</th>\n",
       "      <th>Year</th>\n",
       "      <th>DESCRIPTION</th>\n",
       "      <th>Unnamed: 4</th>\n",
       "    </tr>\n",
       "  </thead>\n",
       "  <tbody>\n",
       "    <tr>\n",
       "      <th>0</th>\n",
       "      <td>ABW</td>\n",
       "      <td>SE.PRE.ENRL.FE</td>\n",
       "      <td>YR2001</td>\n",
       "      <td>Country estimation.</td>\n",
       "      <td>NaN</td>\n",
       "    </tr>\n",
       "    <tr>\n",
       "      <th>1</th>\n",
       "      <td>ABW</td>\n",
       "      <td>SE.TER.TCHR.FE</td>\n",
       "      <td>YR2005</td>\n",
       "      <td>Country estimation.</td>\n",
       "      <td>NaN</td>\n",
       "    </tr>\n",
       "    <tr>\n",
       "      <th>2</th>\n",
       "      <td>ABW</td>\n",
       "      <td>SE.PRE.TCHR.FE</td>\n",
       "      <td>YR2000</td>\n",
       "      <td>Country estimation.</td>\n",
       "      <td>NaN</td>\n",
       "    </tr>\n",
       "    <tr>\n",
       "      <th>3</th>\n",
       "      <td>ABW</td>\n",
       "      <td>SE.SEC.ENRL.GC</td>\n",
       "      <td>YR2004</td>\n",
       "      <td>Country estimation.</td>\n",
       "      <td>NaN</td>\n",
       "    </tr>\n",
       "    <tr>\n",
       "      <th>4</th>\n",
       "      <td>ABW</td>\n",
       "      <td>SE.PRE.TCHR</td>\n",
       "      <td>YR2006</td>\n",
       "      <td>Country estimation.</td>\n",
       "      <td>NaN</td>\n",
       "    </tr>\n",
       "  </tbody>\n",
       "</table>\n",
       "</div>"
      ],
      "text/plain": [
       "  CountryCode      SeriesCode    Year          DESCRIPTION  Unnamed: 4\n",
       "0         ABW  SE.PRE.ENRL.FE  YR2001  Country estimation.         NaN\n",
       "1         ABW  SE.TER.TCHR.FE  YR2005  Country estimation.         NaN\n",
       "2         ABW  SE.PRE.TCHR.FE  YR2000  Country estimation.         NaN\n",
       "3         ABW  SE.SEC.ENRL.GC  YR2004  Country estimation.         NaN\n",
       "4         ABW     SE.PRE.TCHR  YR2006  Country estimation.         NaN"
      ]
     },
     "execution_count": 63,
     "metadata": {},
     "output_type": "execute_result"
    }
   ],
   "source": [
    "data_edSFN_csv = pd.read_csv('EdStatsFootNote.csv')\n",
    "\n",
    "\n",
    "data_edSFN_csv.head() "
   ]
  },
  {
   "cell_type": "code",
   "execution_count": 64,
   "id": "3d1219d9-9351-4437-a954-b52e607025e9",
   "metadata": {
    "scrolled": true
   },
   "outputs": [
    {
     "data": {
      "text/plain": [
       "(643638, 5)"
      ]
     },
     "execution_count": 64,
     "metadata": {},
     "output_type": "execute_result"
    }
   ],
   "source": [
    "data_edSFN_csv.shape"
   ]
  },
  {
   "cell_type": "markdown",
   "id": "f9c9de85-92e5-4820-88d7-fde7392b9490",
   "metadata": {},
   "source": [
    "nous avons 773315 ligne de pays, avec 69 variables différentes :\n",
    "\n",
    "- SeriesCode : Le nom complet du pays.\n",
    "- Country Code : Le code abrégé à 3 lettres du pays, acronyme.\n",
    "- Year : Le nom descriptif de l'indicateur, qui indique ce que la donnée représente.\n",
    "- DESCRIPTION :"
   ]
  },
  {
   "cell_type": "markdown",
   "id": "3f3d6400-db80-4548-8744-fe0176405fb0",
   "metadata": {},
   "source": [
    "### Suppression des colonnes inutiles"
   ]
  },
  {
   "cell_type": "code",
   "execution_count": 65,
   "id": "4d516f15-f296-42fd-9018-f1519c4f4b12",
   "metadata": {},
   "outputs": [],
   "source": [
    "#Colonne inutile\n",
    "data_edSFN_csv = data_edSFN_csv.drop(columns=['Unnamed: 4'])"
   ]
  },
  {
   "cell_type": "markdown",
   "id": "18238368-9189-4ac7-b0c8-9fd79a2f6568",
   "metadata": {},
   "source": [
    "### 1. Erreurs de type\n",
    "\n",
    "Regarder si toutes les colonnes sont correct par rapport au type qu'elle comporte :"
   ]
  },
  {
   "cell_type": "code",
   "execution_count": 66,
   "id": "d2a7e40c-286e-4bbc-a7fb-f344615bd882",
   "metadata": {},
   "outputs": [
    {
     "data": {
      "text/plain": [
       "CountryCode    object\n",
       "SeriesCode     object\n",
       "Year           object\n",
       "DESCRIPTION    object\n",
       "dtype: object"
      ]
     },
     "execution_count": 66,
     "metadata": {},
     "output_type": "execute_result"
    }
   ],
   "source": [
    "data_edSFN_csv.dtypes"
   ]
  },
  {
   "cell_type": "markdown",
   "id": "6f3ec6d3-cea4-44b4-9200-87a60782db4a",
   "metadata": {},
   "source": [
    "Toutes les cathégories sont de type objet ce qui est correct\n",
    "\n",
    "Nous remarquons aussi que certain pays mentionnés sont de faux pays, ou des groupes de pays. DOnc nous allons garder que les vrais pays"
   ]
  },
  {
   "cell_type": "code",
   "execution_count": 67,
   "id": "5c399a0d-702b-48fe-8eef-779544cd820f",
   "metadata": {},
   "outputs": [
    {
     "data": {
      "text/html": [
       "<div>\n",
       "<style scoped>\n",
       "    .dataframe tbody tr th:only-of-type {\n",
       "        vertical-align: middle;\n",
       "    }\n",
       "\n",
       "    .dataframe tbody tr th {\n",
       "        vertical-align: top;\n",
       "    }\n",
       "\n",
       "    .dataframe thead th {\n",
       "        text-align: right;\n",
       "    }\n",
       "</style>\n",
       "<table border=\"1\" class=\"dataframe\">\n",
       "  <thead>\n",
       "    <tr style=\"text-align: right;\">\n",
       "      <th></th>\n",
       "      <th>CountryCode</th>\n",
       "      <th>SeriesCode</th>\n",
       "      <th>Year</th>\n",
       "      <th>DESCRIPTION</th>\n",
       "    </tr>\n",
       "  </thead>\n",
       "  <tbody>\n",
       "    <tr>\n",
       "      <th>0</th>\n",
       "      <td>ABW</td>\n",
       "      <td>SE.PRE.ENRL.FE</td>\n",
       "      <td>YR2001</td>\n",
       "      <td>Country estimation.</td>\n",
       "    </tr>\n",
       "    <tr>\n",
       "      <th>1</th>\n",
       "      <td>ABW</td>\n",
       "      <td>SE.TER.TCHR.FE</td>\n",
       "      <td>YR2005</td>\n",
       "      <td>Country estimation.</td>\n",
       "    </tr>\n",
       "    <tr>\n",
       "      <th>2</th>\n",
       "      <td>ABW</td>\n",
       "      <td>SE.PRE.TCHR.FE</td>\n",
       "      <td>YR2000</td>\n",
       "      <td>Country estimation.</td>\n",
       "    </tr>\n",
       "    <tr>\n",
       "      <th>3</th>\n",
       "      <td>ABW</td>\n",
       "      <td>SE.SEC.ENRL.GC</td>\n",
       "      <td>YR2004</td>\n",
       "      <td>Country estimation.</td>\n",
       "    </tr>\n",
       "    <tr>\n",
       "      <th>4</th>\n",
       "      <td>ABW</td>\n",
       "      <td>SE.PRE.TCHR</td>\n",
       "      <td>YR2006</td>\n",
       "      <td>Country estimation.</td>\n",
       "    </tr>\n",
       "  </tbody>\n",
       "</table>\n",
       "</div>"
      ],
      "text/plain": [
       "  CountryCode      SeriesCode    Year          DESCRIPTION\n",
       "0         ABW  SE.PRE.ENRL.FE  YR2001  Country estimation.\n",
       "1         ABW  SE.TER.TCHR.FE  YR2005  Country estimation.\n",
       "2         ABW  SE.PRE.TCHR.FE  YR2000  Country estimation.\n",
       "3         ABW  SE.SEC.ENRL.GC  YR2004  Country estimation.\n",
       "4         ABW     SE.PRE.TCHR  YR2006  Country estimation."
      ]
     },
     "execution_count": 67,
     "metadata": {},
     "output_type": "execute_result"
    }
   ],
   "source": [
    "#Netoyage Des pays\n",
    "#data_edSC_csv.drop(data_edSC_csv[data_edSC_csv['Short Name'] == 'Aruba'].index, inplace=True)\n",
    "\n",
    "data_edSFN_csv = data_edSFN_csv[data_edSFN_csv['CountryCode'].isin(valid_countries)]\n",
    "\n",
    "data_edSFN_csv.head() "
   ]
  },
  {
   "cell_type": "markdown",
   "id": "66c304ba-7a38-4643-ad78-4eff97eb18d2",
   "metadata": {},
   "source": [
    "Toutes les cathégories sont de type objet ce qui est correct\n",
    "\n",
    "### 2. Valeur manquante"
   ]
  },
  {
   "cell_type": "code",
   "execution_count": 68,
   "id": "73b371c4-c6dc-4f09-bf8a-5121a948ecb0",
   "metadata": {},
   "outputs": [
    {
     "data": {
      "text/plain": [
       "CountryCode    0\n",
       "SeriesCode     0\n",
       "Year           0\n",
       "DESCRIPTION    0\n",
       "dtype: int64"
      ]
     },
     "execution_count": 68,
     "metadata": {},
     "output_type": "execute_result"
    }
   ],
   "source": [
    "data_edSFN_csv.isnull().sum()"
   ]
  },
  {
   "cell_type": "markdown",
   "id": "59eb5082-adf8-40dc-93af-bafbe4eceda0",
   "metadata": {},
   "source": [
    "Aucune erreur manquante par ce fait aucune action supplémentaire"
   ]
  },
  {
   "cell_type": "markdown",
   "id": "a63e7cc2-2157-4ea2-900c-13b6e5f5068d",
   "metadata": {},
   "source": [
    "#### 2.1 Calculez la proportion de valeurs manquantes par colonne"
   ]
  },
  {
   "cell_type": "code",
   "execution_count": 69,
   "id": "ad7f6f50-ac6b-40f5-ae39-e27b5abf8875",
   "metadata": {},
   "outputs": [
    {
     "name": "stdout",
     "output_type": "stream",
     "text": [
      "CountryCode    0.0\n",
      "SeriesCode     0.0\n",
      "Year           0.0\n",
      "DESCRIPTION    0.0\n",
      "dtype: float64\n"
     ]
    }
   ],
   "source": [
    "#Pourcentage de valeurs manquantes = (Nombre de valeurs manquantes / Nombre total de valeurs) * 100\n",
    "missing_values = data_edSFN_csv.isnull().sum()\n",
    "total_values = data_edSFN_csv.count() + missing_values\n",
    "percentage_missing = (missing_values / total_values) * 100\n",
    "print(percentage_missing)     "
   ]
  },
  {
   "cell_type": "markdown",
   "id": "2d518efc-d231-4e37-8787-c39c001da522",
   "metadata": {},
   "source": [
    "Calcule de proportion des valeur manquante pour les avoir en pourcentage, ici 0% de valeur menquante pour l'intégralité des colonnes "
   ]
  },
  {
   "cell_type": "markdown",
   "id": "9fe3bb00-c67f-4d92-b69a-7656acf294ae",
   "metadata": {},
   "source": [
    "### 3. Doublon\n",
    "\n",
    "On regarde si toutes les abréviations ne sont pas apparues en doublons. Nous allons regarder les abréviations en même temps que le SeriesCode car ce duo ne peux pas avoir de doublon il doit etre authentique "
   ]
  },
  {
   "cell_type": "code",
   "execution_count": 70,
   "id": "9127e5d9-ec73-4d7c-94b2-1bb9e5ac99d1",
   "metadata": {},
   "outputs": [
    {
     "data": {
      "text/html": [
       "<div>\n",
       "<style scoped>\n",
       "    .dataframe tbody tr th:only-of-type {\n",
       "        vertical-align: middle;\n",
       "    }\n",
       "\n",
       "    .dataframe tbody tr th {\n",
       "        vertical-align: top;\n",
       "    }\n",
       "\n",
       "    .dataframe thead th {\n",
       "        text-align: right;\n",
       "    }\n",
       "</style>\n",
       "<table border=\"1\" class=\"dataframe\">\n",
       "  <thead>\n",
       "    <tr style=\"text-align: right;\">\n",
       "      <th></th>\n",
       "      <th>CountryCode</th>\n",
       "      <th>SeriesCode</th>\n",
       "      <th>Year</th>\n",
       "      <th>DESCRIPTION</th>\n",
       "    </tr>\n",
       "  </thead>\n",
       "  <tbody>\n",
       "    <tr>\n",
       "      <th>0</th>\n",
       "      <td>ABW</td>\n",
       "      <td>SE.PRE.ENRL.FE</td>\n",
       "      <td>YR2001</td>\n",
       "      <td>Country estimation.</td>\n",
       "    </tr>\n",
       "    <tr>\n",
       "      <th>1</th>\n",
       "      <td>ABW</td>\n",
       "      <td>SE.TER.TCHR.FE</td>\n",
       "      <td>YR2005</td>\n",
       "      <td>Country estimation.</td>\n",
       "    </tr>\n",
       "    <tr>\n",
       "      <th>2</th>\n",
       "      <td>ABW</td>\n",
       "      <td>SE.PRE.TCHR.FE</td>\n",
       "      <td>YR2000</td>\n",
       "      <td>Country estimation.</td>\n",
       "    </tr>\n",
       "    <tr>\n",
       "      <th>3</th>\n",
       "      <td>ABW</td>\n",
       "      <td>SE.SEC.ENRL.GC</td>\n",
       "      <td>YR2004</td>\n",
       "      <td>Country estimation.</td>\n",
       "    </tr>\n",
       "    <tr>\n",
       "      <th>4</th>\n",
       "      <td>ABW</td>\n",
       "      <td>SE.PRE.TCHR</td>\n",
       "      <td>YR2006</td>\n",
       "      <td>Country estimation.</td>\n",
       "    </tr>\n",
       "    <tr>\n",
       "      <th>...</th>\n",
       "      <td>...</td>\n",
       "      <td>...</td>\n",
       "      <td>...</td>\n",
       "      <td>...</td>\n",
       "    </tr>\n",
       "    <tr>\n",
       "      <th>643632</th>\n",
       "      <td>ZWE</td>\n",
       "      <td>SH.DYN.MORT</td>\n",
       "      <td>YR2004</td>\n",
       "      <td>Uncertainty bound is 90.7 - 107.8</td>\n",
       "    </tr>\n",
       "    <tr>\n",
       "      <th>643633</th>\n",
       "      <td>ZWE</td>\n",
       "      <td>SH.DYN.MORT</td>\n",
       "      <td>YR2007</td>\n",
       "      <td>Uncertainty bound is 91.6 - 109.3</td>\n",
       "    </tr>\n",
       "    <tr>\n",
       "      <th>643634</th>\n",
       "      <td>ZWE</td>\n",
       "      <td>SH.DYN.MORT</td>\n",
       "      <td>YR2014</td>\n",
       "      <td>Uncertainty bound is 54.3 - 76</td>\n",
       "    </tr>\n",
       "    <tr>\n",
       "      <th>643635</th>\n",
       "      <td>ZWE</td>\n",
       "      <td>SH.DYN.MORT</td>\n",
       "      <td>YR2015</td>\n",
       "      <td>Uncertainty bound is 48.3 - 73.3</td>\n",
       "    </tr>\n",
       "    <tr>\n",
       "      <th>643636</th>\n",
       "      <td>ZWE</td>\n",
       "      <td>SH.DYN.MORT</td>\n",
       "      <td>YR2017</td>\n",
       "      <td>5-year average value between 0s and 5s</td>\n",
       "    </tr>\n",
       "  </tbody>\n",
       "</table>\n",
       "<p>495406 rows × 4 columns</p>\n",
       "</div>"
      ],
      "text/plain": [
       "       CountryCode      SeriesCode    Year  \\\n",
       "0              ABW  SE.PRE.ENRL.FE  YR2001   \n",
       "1              ABW  SE.TER.TCHR.FE  YR2005   \n",
       "2              ABW  SE.PRE.TCHR.FE  YR2000   \n",
       "3              ABW  SE.SEC.ENRL.GC  YR2004   \n",
       "4              ABW     SE.PRE.TCHR  YR2006   \n",
       "...            ...             ...     ...   \n",
       "643632         ZWE     SH.DYN.MORT  YR2004   \n",
       "643633         ZWE     SH.DYN.MORT  YR2007   \n",
       "643634         ZWE     SH.DYN.MORT  YR2014   \n",
       "643635         ZWE     SH.DYN.MORT  YR2015   \n",
       "643636         ZWE     SH.DYN.MORT  YR2017   \n",
       "\n",
       "                                   DESCRIPTION  \n",
       "0                          Country estimation.  \n",
       "1                          Country estimation.  \n",
       "2                          Country estimation.  \n",
       "3                          Country estimation.  \n",
       "4                          Country estimation.  \n",
       "...                                        ...  \n",
       "643632       Uncertainty bound is 90.7 - 107.8  \n",
       "643633       Uncertainty bound is 91.6 - 109.3  \n",
       "643634          Uncertainty bound is 54.3 - 76  \n",
       "643635        Uncertainty bound is 48.3 - 73.3  \n",
       "643636  5-year average value between 0s and 5s  \n",
       "\n",
       "[495406 rows x 4 columns]"
      ]
     },
     "execution_count": 70,
     "metadata": {},
     "output_type": "execute_result"
    }
   ],
   "source": [
    "data_edSFN_csv.loc[data_edSFN_csv[['CountryCode', 'SeriesCode']].duplicated(keep=False),:]"
   ]
  },
  {
   "cell_type": "markdown",
   "id": "06c55ffb-91c3-4f93-96a3-a3f633a1f61f",
   "metadata": {},
   "source": [
    ">Aucun doublons n'est détecté "
   ]
  },
  {
   "cell_type": "markdown",
   "id": "974ecfcf-f8d2-42c8-90e2-1e2adaaa3990",
   "metadata": {},
   "source": [
    "drop_duplicate nous permet de supprimer tous les doublons est de garder juste un parmis tous les doublons identique. Ici rien ne se passera car nous n'avons pas de doublons"
   ]
  },
  {
   "cell_type": "code",
   "execution_count": 71,
   "id": "78690a2d-89be-4a9f-a25a-c9de659aa554",
   "metadata": {},
   "outputs": [],
   "source": [
    "data_edSFN_csv.drop_duplicates(subset=['CountryCode', 'SeriesCode'], inplace=True, ignore_index=True)"
   ]
  },
  {
   "cell_type": "markdown",
   "id": "3ceecbeb-a0cd-41f6-ae5c-ce59a8c407bb",
   "metadata": {},
   "source": [
    "### 4. Calculez les statistiques descriptives"
   ]
  },
  {
   "cell_type": "markdown",
   "id": "9d7efdf9-e9a0-410e-88b1-92255aecd8a1",
   "metadata": {},
   "source": [
    "Pour calculer les statistiques descriptives il faut utilise le describe() très utile pour faire une premiere prévisualisation. "
   ]
  },
  {
   "cell_type": "code",
   "execution_count": 72,
   "id": "8bde112c-a495-46ff-bbbe-c16d20946f09",
   "metadata": {},
   "outputs": [
    {
     "data": {
      "text/html": [
       "<div>\n",
       "<style scoped>\n",
       "    .dataframe tbody tr th:only-of-type {\n",
       "        vertical-align: middle;\n",
       "    }\n",
       "\n",
       "    .dataframe tbody tr th {\n",
       "        vertical-align: top;\n",
       "    }\n",
       "\n",
       "    .dataframe thead th {\n",
       "        text-align: right;\n",
       "    }\n",
       "</style>\n",
       "<table border=\"1\" class=\"dataframe\">\n",
       "  <thead>\n",
       "    <tr style=\"text-align: right;\">\n",
       "      <th></th>\n",
       "      <th>CountryCode</th>\n",
       "      <th>SeriesCode</th>\n",
       "      <th>Year</th>\n",
       "      <th>DESCRIPTION</th>\n",
       "    </tr>\n",
       "  </thead>\n",
       "  <tbody>\n",
       "    <tr>\n",
       "      <th>count</th>\n",
       "      <td>65032</td>\n",
       "      <td>65032</td>\n",
       "      <td>65032</td>\n",
       "      <td>65032</td>\n",
       "    </tr>\n",
       "    <tr>\n",
       "      <th>unique</th>\n",
       "      <td>210</td>\n",
       "      <td>1545</td>\n",
       "      <td>54</td>\n",
       "      <td>558</td>\n",
       "    </tr>\n",
       "    <tr>\n",
       "      <th>top</th>\n",
       "      <td>KWT</td>\n",
       "      <td>SE.PRM.AGES</td>\n",
       "      <td>YR1999</td>\n",
       "      <td>UNESCO Institute for Statistics (UIS) estimate</td>\n",
       "    </tr>\n",
       "    <tr>\n",
       "      <th>freq</th>\n",
       "      <td>621</td>\n",
       "      <td>205</td>\n",
       "      <td>10839</td>\n",
       "      <td>25703</td>\n",
       "    </tr>\n",
       "  </tbody>\n",
       "</table>\n",
       "</div>"
      ],
      "text/plain": [
       "       CountryCode   SeriesCode    Year  \\\n",
       "count        65032        65032   65032   \n",
       "unique         210         1545      54   \n",
       "top            KWT  SE.PRM.AGES  YR1999   \n",
       "freq           621          205   10839   \n",
       "\n",
       "                                           DESCRIPTION  \n",
       "count                                            65032  \n",
       "unique                                             558  \n",
       "top     UNESCO Institute for Statistics (UIS) estimate  \n",
       "freq                                             25703  "
      ]
     },
     "execution_count": 72,
     "metadata": {},
     "output_type": "execute_result"
    }
   ],
   "source": [
    "#Calcule statistique :\n",
    "data_edSFN_csv.describe()"
   ]
  },
  {
   "cell_type": "markdown",
   "id": "ffd9f98a-221a-497c-b32f-b27ba90f7028",
   "metadata": {},
   "source": [
    "### 5. Calculez le nombre d'occurences de chaque colonne"
   ]
  },
  {
   "cell_type": "code",
   "execution_count": 73,
   "id": "4191e39f-8fa7-4774-b39d-bd799d648036",
   "metadata": {
    "scrolled": true
   },
   "outputs": [
    {
     "name": "stdout",
     "output_type": "stream",
     "text": [
      "CountryCode :\n",
      "CountryCode\n",
      "KWT    621\n",
      "TTO    578\n",
      "BEN    577\n",
      "HKG    565\n",
      "LBN    546\n",
      "      ... \n",
      "CHI     15\n",
      "IMN      8\n",
      "XKX      3\n",
      "FRO      2\n",
      "MNP      1\n",
      "Name: count, Length: 210, dtype: int64\n",
      "\n",
      "SeriesCode :\n",
      "SeriesCode\n",
      "SE.PRM.AGES            205\n",
      "SE.PRM.DURS            205\n",
      "SE.PRM.ENRL            204\n",
      "SE.SEC.DURS            204\n",
      "SE.SEC.ENRL            204\n",
      "                      ... \n",
      "LO.PIAAC.TEC.P90         1\n",
      "LO.PIAAC.TEC.P75         1\n",
      "LO.PIAAC.TEC.P50         1\n",
      "LO.PIAAC.TEC.P25         1\n",
      "LO.TIMSS.SCI4.BL.FE      1\n",
      "Name: count, Length: 1545, dtype: int64\n",
      "\n"
     ]
    }
   ],
   "source": [
    "columns = [\n",
    "    'CountryCode',\n",
    "    'SeriesCode'\n",
    "]\n",
    "\n",
    "for col in columns:\n",
    "    print(f\"{col} :\")\n",
    "    print(data_edSFN_csv[col].value_counts())\n",
    "    print() "
   ]
  },
  {
   "cell_type": "code",
   "execution_count": 74,
   "id": "835401df-dc69-49f1-a926-c4ba1d7a9993",
   "metadata": {},
   "outputs": [
    {
     "data": {
      "image/png": "[encoded data removed]",
      "text/plain": [
       "<Figure size 640x480 with 1 Axes>"
      ]
     },
     "metadata": {},
     "output_type": "display_data"
    }
   ],
   "source": [
    "year_counts = data_edSFN_csv[\"Year\"].value_counts(normalize=True)\n",
    "year_counts_filtered = year_counts[year_counts > 0.01]\n",
    "\n",
    "# Diagramme en secteurs\n",
    "ax = year_counts_filtered.plot(\n",
    "    kind='pie',\n",
    "    autopct='%1.1f%%', \n",
    "    fontsize=8         \n",
    ")\n",
    "\n",
    "ax.legend(\n",
    "    labels=year_counts_filtered.index, \n",
    "    loc='center left',    \n",
    "    bbox_to_anchor=(1.5, 0.5),  \n",
    "    fontsize=9            \n",
    ")\n",
    "\n",
    "plt.axis('equal') \n",
    "plt.show() \n"
   ]
  }
 ],
 "metadata": {
  "kernelspec": {
   "display_name": "Python 3 (ipykernel)",
   "language": "python",
   "name": "python3"
  },
  "language_info": {
   "codemirror_mode": {
    "name": "ipython",
    "version": 3
   },
   "file_extension": ".py",
   "mimetype": "text/x-python",
   "name": "python",
   "nbconvert_exporter": "python",
   "pygments_lexer": "ipython3",
   "version": "3.13.1"
  }
 },
 "nbformat": 4,
 "nbformat_minor": 5
}
